{
  "nbformat": 4,
  "nbformat_minor": 0,
  "metadata": {
    "colab": {
      "name": "PropensionConsolidated",
      "version": "0.3.2",
      "provenance": [],
      "collapsed_sections": [
        "FzWIyvju1CG3",
        "O7nCivd8Cl6E",
        "2J-Z4EZaJuUt"
      ]
    },
    "kernelspec": {
      "name": "python3",
      "display_name": "Python 3"
    }
  },
  "cells": [
    {
      "metadata": {
        "id": "VO9KveYC0Nrf",
        "colab_type": "text"
      },
      "cell_type": "markdown",
      "source": [
        "# Propension"
      ]
    },
    {
      "metadata": {
        "id": "j7KVLhen0VmC",
        "colab_type": "text"
      },
      "cell_type": "markdown",
      "source": [
        "Implementação em Python de estudo de Propensão de usuários"
      ]
    },
    {
      "metadata": {
        "id": "A25hwTWO0bZD",
        "colab_type": "text"
      },
      "cell_type": "markdown",
      "source": [
        "## Objetivo"
      ]
    },
    {
      "metadata": {
        "id": "EjRqrAFd0eA5",
        "colab_type": "text"
      },
      "cell_type": "markdown",
      "source": [
        "Documentação de guia de Propensão de usuário à conversão: da extração do BQ à modelagem."
      ]
    },
    {
      "metadata": {
        "id": "rCBwuwHV0CgI",
        "colab_type": "text"
      },
      "cell_type": "markdown",
      "source": [
        "## Referências"
      ]
    },
    {
      "metadata": {
        "id": "Z1mpHRCXir3A",
        "colab_type": "text"
      },
      "cell_type": "markdown",
      "source": [
        "* [DISCLAIMER] Helper Methods, obtidos em: https://github.com/YanSym/Data-Science-Projects/blob/master/Credit%20Card%20Fraud%20Detection.ipynb\n",
        "* ColumnTransformer, Pipeline e Grid Search: https://scikit-learn.org/stable/auto_examples/compose/plot_column_transformer_mixed_types.html#sphx-glr-auto-examples-compose-plot-column-transformer-mixed-types-py\n",
        "* Get features from ColumnTransformer: https://github.com/scikit-learn/scikit-learn/issues/12525\n"
      ]
    },
    {
      "metadata": {
        "id": "zNYtbXs-u-_g",
        "colab_type": "text"
      },
      "cell_type": "markdown",
      "source": [
        "## Setup"
      ]
    },
    {
      "metadata": {
        "id": "gkpk_f5zu9eq",
        "colab_type": "code",
        "colab": {}
      },
      "cell_type": "code",
      "source": [
        "!apt-get update\n",
        "\n",
        "!pip install pandas --upgrade # para funcionar o json para flat table\n",
        "!pip install -U -q PyDrive\n",
        "#!pip install matplotlib\n",
        "#!pip install numpy\n",
        "!pip install lightgbm\n",
        "!pip install lime\n",
        "!pip install --upgrade google-cloud-bigquery\n",
        "!pip install -e git+https://github.com/SohierDane/BigQuery_Helper#egg=bq_helper"
      ],
      "execution_count": 0,
      "outputs": []
    },
    {
      "metadata": {
        "id": "-Ni3LRkbvRzZ",
        "colab_type": "code",
        "colab": {}
      },
      "cell_type": "code",
      "source": [
        "import json\n",
        "import gc # garbage collector\n",
        "import numpy as np\n",
        "import pandas as pd\n",
        "import scipy.stats as stats\n",
        "import pylab as pl\n",
        "import pickle\n",
        "import lime\n",
        "import lime.lime_tabular\n",
        "import sklearn\n",
        "import pickle\n",
        "import seaborn as sns\n",
        "import matplotlib.pyplot as plt\n",
        "import lightgbm as lgb\n",
        "\n",
        "from pandas.io.json import json_normalize\n",
        "from lightgbm import LGBMClassifier\n",
        "from sklearn.naive_bayes import GaussianNB\n",
        "from xgboost import XGBClassifier\n",
        "\n",
        "from sklearn.linear_model import LogisticRegression\n",
        "from sklearn.neighbors import KNeighborsClassifier\n",
        "from sklearn.ensemble import RandomForestClassifier, VotingClassifier\n",
        "from sklearn.metrics import explained_variance_score, roc_auc_score, precision_recall_curve, roc_curve, average_precision_score,accuracy_score, auc\n",
        "from sklearn import model_selection, preprocessing, metrics\n",
        "from sklearn.model_selection import TimeSeriesSplit, GridSearchCV, cross_val_score, cross_validate\n",
        "from sklearn.preprocessing import LabelEncoder, StandardScaler, LabelBinarizer, OneHotEncoder\n",
        "from sklearn.model_selection import GroupShuffleSplit, train_test_split\n",
        "from sklearn.metrics import confusion_matrix, roc_auc_score, mean_squared_error, recall_score, precision_score, accuracy_score\n",
        "from sklearn.pipeline import Pipeline, FeatureUnion, make_pipeline\n",
        "from sklearn.base import BaseEstimator, TransformerMixin\n",
        "from sklearn.compose import ColumnTransformer, make_column_transformer"
      ],
      "execution_count": 0,
      "outputs": []
    },
    {
      "metadata": {
        "id": "XzCEBmZWnD3k",
        "colab_type": "text"
      },
      "cell_type": "markdown",
      "source": [
        "## Autenticação Google Drive"
      ]
    },
    {
      "metadata": {
        "id": "byCkcc5dl45N",
        "colab_type": "code",
        "colab": {}
      },
      "cell_type": "code",
      "source": [
        "#import os\n",
        "from pydrive.auth import GoogleAuth\n",
        "from pydrive.drive import GoogleDrive\n",
        "from google.colab import auth\n",
        "from oauth2client.client import GoogleCredentials\n",
        "\n",
        "from google.colab import drive \n",
        "drive.mount('/content/gdrive')\n",
        "\n",
        "\n",
        "\n",
        "# Autentica e cria um cliente PyDrive\n",
        "auth.authenticate_user()\n",
        "gauth = GoogleAuth()\n",
        "gauth.credentials = GoogleCredentials.get_application_default()\n",
        "drive = GoogleDrive(gauth)\n",
        "\n",
        "print('Authenticated')"
      ],
      "execution_count": 0,
      "outputs": []
    },
    {
      "metadata": {
        "id": "yLVWuNb4o_EF",
        "colab_type": "text"
      },
      "cell_type": "markdown",
      "source": [
        "## Extração Query BQ"
      ]
    },
    {
      "metadata": {
        "id": "jLfKFKADpGnI",
        "colab_type": "text"
      },
      "cell_type": "markdown",
      "source": [
        "A biblioteca **google.cloud.bigquery** permite rodar a query e mostrar o resultado ou salvar em uma dataframe."
      ]
    },
    {
      "metadata": {
        "id": "AUF0HWOko_1m",
        "colab_type": "code",
        "outputId": "11549204-e0bf-42bd-d49d-97e2dea43728",
        "colab": {
          "base_uri": "https://localhost:8080/",
          "height": 80
        }
      },
      "cell_type": "code",
      "source": [
        "%%bigquery --project propension df\n",
        "SELECT \n",
        "  COUNT(*) as total_rows\n",
        "FROM `bigquery-public-data.google_analytics_sample.ga_sessions_*`"
      ],
      "execution_count": 0,
      "outputs": [
        {
          "output_type": "execute_result",
          "data": {
            "text/html": [
              "<div>\n",
              "<style scoped>\n",
              "    .dataframe tbody tr th:only-of-type {\n",
              "        vertical-align: middle;\n",
              "    }\n",
              "\n",
              "    .dataframe tbody tr th {\n",
              "        vertical-align: top;\n",
              "    }\n",
              "\n",
              "    .dataframe thead th {\n",
              "        text-align: right;\n",
              "    }\n",
              "</style>\n",
              "<table border=\"1\" class=\"dataframe\">\n",
              "  <thead>\n",
              "    <tr style=\"text-align: right;\">\n",
              "      <th></th>\n",
              "      <th>total_rows</th>\n",
              "    </tr>\n",
              "  </thead>\n",
              "  <tbody>\n",
              "    <tr>\n",
              "      <th>0</th>\n",
              "      <td>903653</td>\n",
              "    </tr>\n",
              "  </tbody>\n",
              "</table>\n",
              "</div>"
            ],
            "text/plain": [
              "   total_rows\n",
              "0      903653"
            ]
          },
          "metadata": {
            "tags": []
          },
          "execution_count": 129
        }
      ]
    },
    {
      "metadata": {
        "id": "dq1sg37opRHg",
        "colab_type": "text"
      },
      "cell_type": "markdown",
      "source": [
        "Declara o Cloud Project Id do BQ: https://console.cloud.google.com/bigquery?project=propension&page=savedqueries"
      ]
    },
    {
      "metadata": {
        "id": "BwJd1KGupJhK",
        "colab_type": "code",
        "colab": {}
      },
      "cell_type": "code",
      "source": [
        "project_id = 'propension'"
      ],
      "execution_count": 0,
      "outputs": []
    },
    {
      "metadata": {
        "id": "2SRM8Q22pch-",
        "colab_type": "text"
      },
      "cell_type": "markdown",
      "source": [
        "Determina o tamanho do dataset do BQ"
      ]
    },
    {
      "metadata": {
        "id": "fGquJ6ucpdQJ",
        "colab_type": "code",
        "outputId": "5879dcb2-0d7a-4872-ef54-24542e69984e",
        "colab": {
          "base_uri": "https://localhost:8080/",
          "height": 34
        }
      },
      "cell_type": "code",
      "source": [
        "from google.cloud import bigquery\n",
        "\n",
        "client = bigquery.Client(project=project_id)\n",
        "\n",
        "sample_count = 2000\n",
        "row_count = client.query('''\n",
        "  SELECT\n",
        "    COUNT(*) as total\n",
        "  FROM `bigquery-public-data.google_analytics_sample.ga_sessions_*`''').to_dataframe().total[0]\n",
        "\n",
        "print('O dataset tem %d linhas' % row_count)"
      ],
      "execution_count": 0,
      "outputs": [
        {
          "output_type": "stream",
          "text": [
            "O dataset tem 903653 linhas\n"
          ],
          "name": "stdout"
        }
      ]
    },
    {
      "metadata": {
        "id": "E0PdMSzRpe7m",
        "colab_type": "text"
      },
      "cell_type": "markdown",
      "source": [
        "Uso do BQ com o pandas-gbq para fazer a query para o modelo de propensão. \n",
        "[Documentação do Pandas GBQ](https://pandas.pydata.org/pandas-docs/stable/generated/pandas.read_gbq.html)"
      ]
    },
    {
      "metadata": {
        "id": "yGcYf5tqpjRq",
        "colab_type": "code",
        "outputId": "0ee8545c-c15c-470a-bda9-f5e935138131",
        "colab": {
          "base_uri": "https://localhost:8080/",
          "height": 51
        }
      },
      "cell_type": "code",
      "source": [
        "%%time\n",
        "df = pd.io.gbq.read_gbq('''\n",
        "  #standardSQL\n",
        "  SELECT\n",
        "      date,\n",
        "      trafficSource.source AS source,\n",
        "      trafficSource.source AS medium,\n",
        "      fullVisitorId,\n",
        "      channelGrouping,\n",
        "      SUM(totals.pageviews) AS pageviews,\n",
        "      SUM(totals.transactions) AS transactions,\n",
        "      SUM(totals.timeOnSite) AS SUM_totals_timeOnSite,\n",
        "      totals.totalTransactionRevenue AS receita,\n",
        "      device.deviceCategory AS device,\n",
        "      geoNetwork.country AS pais,\n",
        "      MOD(ABS(FARM_FINGERPRINT(fullVisitorId)), 20) as farm_finger\n",
        "  FROM\n",
        "    `bigquery-public-data.google_analytics_sample.ga_sessions_*` #, UNNEST(hits) AS hits\n",
        "  GROUP BY\n",
        "      date,\n",
        "      source,\n",
        "      medium,\n",
        "      fullVisitorId,\n",
        "      channelGrouping,\n",
        "      receita,\n",
        "      device,\n",
        "      pais\n",
        "    \n",
        "  ''', project_id=project_id, verbose=False, dialect='standard')\n",
        "\n",
        "df.head()\n",
        "df.tail(1)"
      ],
      "execution_count": 0,
      "outputs": [
        {
          "output_type": "stream",
          "text": [
            "CPU times: user 45 s, sys: 1.79 s, total: 46.7 s\n",
            "Wall time: 1min 55s\n"
          ],
          "name": "stdout"
        }
      ]
    },
    {
      "metadata": {
        "id": "qwst5PuWpyfD",
        "colab_type": "text"
      },
      "cell_type": "markdown",
      "source": [
        "Salva o dataframe da Query do BQ em um .csv"
      ]
    },
    {
      "metadata": {
        "id": "hD7k_AL8p0r2",
        "colab_type": "code",
        "colab": {}
      },
      "cell_type": "code",
      "source": [
        "%%time\n",
        "df.to_csv(\"input_hash.csv\", index=False)\n",
        "file = drive.CreateFile({'parents':[{u'id': '1z8scY025WNyT_3p-1B4sjz_aidLPi1ht'}]})\n",
        "file.SetContentFile(\"input_hash.csv\")\n",
        "file.Upload()"
      ],
      "execution_count": 0,
      "outputs": []
    },
    {
      "metadata": {
        "id": "rmmx_zPuG7qx",
        "colab_type": "text"
      },
      "cell_type": "markdown",
      "source": [
        "## Importação Módulos Python no Colab"
      ]
    },
    {
      "metadata": {
        "id": "ekLhDnHnG8mt",
        "colab_type": "code",
        "colab": {}
      },
      "cell_type": "code",
      "source": [
        "# Linka o Colab Notebook aos Modulos\n",
        "HelperMethods = drive.CreateFile({'id':'1A4kJsVS1YCLmDalPLbqbNC4LKMCdkPwg'})\n",
        "\n",
        "# Importa modulos Python no Colab\n",
        "HelperMethods.GetContentFile('HelperMethods.py')"
      ],
      "execution_count": 0,
      "outputs": []
    },
    {
      "metadata": {
        "id": "R4jWqaUaHZvz",
        "colab_type": "code",
        "outputId": "4a9ffd8a-fc35-4c53-f51c-0572c7d604c9",
        "colab": {
          "base_uri": "https://localhost:8080/",
          "height": 34
        }
      },
      "cell_type": "code",
      "source": [
        "from HelperMethods import HelperClass"
      ],
      "execution_count": 5,
      "outputs": [
        {
          "output_type": "stream",
          "text": [
            "Using TensorFlow backend.\n"
          ],
          "name": "stderr"
        }
      ]
    },
    {
      "metadata": {
        "id": "yCT_j4Xtd8gJ",
        "colab_type": "text"
      },
      "cell_type": "markdown",
      "source": [
        "## Leitura entrada"
      ]
    },
    {
      "metadata": {
        "id": "C4YL_Bbi8Jvv",
        "colab_type": "code",
        "outputId": "4fd9123a-edc5-46db-9640-9143b76ef3f6",
        "colab": {
          "base_uri": "https://localhost:8080/",
          "height": 68
        }
      },
      "cell_type": "code",
      "source": [
        "%%time\n",
        "#df = drive.CreateFile({'id': '1Qis6v-c-KQLsf_SaEpI4F8r7qRDycbyX'})\n",
        "#df.GetContentFile('input_hash.csv')\n",
        "#df = pd.read_csv(\"input_hash.csv\", low_memory=False)\n",
        "df=pd.read_csv('gdrive/My Drive/Colab Notebooks/Propension/input_hash.csv')"
      ],
      "execution_count": 0,
      "outputs": [
        {
          "output_type": "stream",
          "text": [
            "CPU times: user 1.34 s, sys: 108 ms, total: 1.45 s\n",
            "Wall time: 1.5 s\n"
          ],
          "name": "stdout"
        },
        {
          "output_type": "stream",
          "text": [
            "<string>:2: DtypeWarning: Columns (3) have mixed types. Specify dtype option on import or set low_memory=False.\n"
          ],
          "name": "stderr"
        }
      ]
    },
    {
      "metadata": {
        "id": "5G3KrmtG6jYz",
        "colab_type": "text"
      },
      "cell_type": "markdown",
      "source": [
        "## Análise exploratória da Base"
      ]
    },
    {
      "metadata": {
        "id": "0c4Ju1PxQ0Mm",
        "colab_type": "text"
      },
      "cell_type": "markdown",
      "source": [
        "### Tratamento Data"
      ]
    },
    {
      "metadata": {
        "id": "P-iBIEhdQzkz",
        "colab_type": "code",
        "colab": {}
      },
      "cell_type": "code",
      "source": [
        "from datetime import datetime\n",
        "\n",
        "# This function is to extract date features\n",
        "def date_process(df):\n",
        "    df['date'] = pd.to_datetime(df['date'], format='%Y%m%d')\n",
        "    #df['weekday'] = df['date'].dt.weekday\n",
        "    #df['day'] = df['date'].dt.day\n",
        "    #df['month'] = df['date'].dt.month\n",
        "    #df['year'] = df['date'].dt.year \n",
        "    #df['_visitHour'] = (df['visitStartTime'].apply(lambda x: str(datetime.fromtimestamp(x).hour))).astype(int) \n",
        "    return df"
      ],
      "execution_count": 0,
      "outputs": []
    },
    {
      "metadata": {
        "id": "3KzZVM2lRP-b",
        "colab_type": "code",
        "colab": {}
      },
      "cell_type": "code",
      "source": [
        "df = date_process(df)"
      ],
      "execution_count": 0,
      "outputs": []
    },
    {
      "metadata": {
        "id": "QsJ5X_KrHVpz",
        "colab_type": "text"
      },
      "cell_type": "markdown",
      "source": [
        "###Preenche os NaN com zeros"
      ]
    },
    {
      "metadata": {
        "id": "BWX8kZENyXOq",
        "colab_type": "text"
      },
      "cell_type": "markdown",
      "source": [
        "Verifica se tem NaN"
      ]
    },
    {
      "metadata": {
        "id": "koxIwHxEBTjd",
        "colab_type": "code",
        "colab": {}
      },
      "cell_type": "code",
      "source": [
        "df.isnull().values.any()\n",
        "df[df.isnull().T.any().T]"
      ],
      "execution_count": 0,
      "outputs": []
    },
    {
      "metadata": {
        "id": "8_fr2idNHK1N",
        "colab_type": "code",
        "outputId": "aa556931-60ce-4862-b4e8-2284adf768f1",
        "colab": {
          "base_uri": "https://localhost:8080/",
          "height": 68
        }
      },
      "cell_type": "code",
      "source": [
        "df['pageviews'] = df['pageviews'].fillna(0.0).astype(float)\n",
        "df['receita'] = df['receita'].fillna(0.0).astype(float)\n",
        "df['transactions'] = df['transactions'].fillna(0.0).astype(float)\n",
        "df['SUM_totals_timeOnSite'] = df['SUM_totals_timeOnSite'].fillna(0.0).astype(float)\n",
        "df['fullVisitorId'].values"
      ],
      "execution_count": 0,
      "outputs": [
        {
          "output_type": "execute_result",
          "data": {
            "text/plain": [
              "array([6511711172391610103, 1124596635695894323, 5617857737551069038, ...,\n",
              "       874728240053439901, 7684104685636271707, 1936898665278822233],\n",
              "      dtype=object)"
            ]
          },
          "metadata": {
            "tags": []
          },
          "execution_count": 30
        }
      ]
    },
    {
      "metadata": {
        "id": "kLaURY4gHjX3",
        "colab_type": "text"
      },
      "cell_type": "markdown",
      "source": [
        "### Cria coluna alvo"
      ]
    },
    {
      "metadata": {
        "id": "sjgJzDV0HNEa",
        "colab_type": "code",
        "outputId": "8ca99463-8e56-4922-e2ef-2f40c2dea863",
        "colab": {
          "base_uri": "https://localhost:8080/",
          "height": 80
        }
      },
      "cell_type": "code",
      "source": [
        "df['target'] = np.where(df['receita'] > 0, 1, 0)\n",
        "df.drop(['transactions', 'receita'], axis=1, inplace=True)\n",
        "df.head(1)"
      ],
      "execution_count": 0,
      "outputs": [
        {
          "output_type": "execute_result",
          "data": {
            "text/html": [
              "<div>\n",
              "<style scoped>\n",
              "    .dataframe tbody tr th:only-of-type {\n",
              "        vertical-align: middle;\n",
              "    }\n",
              "\n",
              "    .dataframe tbody tr th {\n",
              "        vertical-align: top;\n",
              "    }\n",
              "\n",
              "    .dataframe thead th {\n",
              "        text-align: right;\n",
              "    }\n",
              "</style>\n",
              "<table border=\"1\" class=\"dataframe\">\n",
              "  <thead>\n",
              "    <tr style=\"text-align: right;\">\n",
              "      <th></th>\n",
              "      <th>date</th>\n",
              "      <th>source</th>\n",
              "      <th>medium</th>\n",
              "      <th>fullVisitorId</th>\n",
              "      <th>channelGrouping</th>\n",
              "      <th>pageviews</th>\n",
              "      <th>SUM_totals_timeOnSite</th>\n",
              "      <th>device</th>\n",
              "      <th>pais</th>\n",
              "      <th>farm_finger</th>\n",
              "      <th>target</th>\n",
              "    </tr>\n",
              "  </thead>\n",
              "  <tbody>\n",
              "    <tr>\n",
              "      <th>0</th>\n",
              "      <td>2017-04-12</td>\n",
              "      <td>google</td>\n",
              "      <td>google</td>\n",
              "      <td>6511711172391610103</td>\n",
              "      <td>(Other)</td>\n",
              "      <td>5.0</td>\n",
              "      <td>379.0</td>\n",
              "      <td>mobile</td>\n",
              "      <td>United States</td>\n",
              "      <td>8</td>\n",
              "      <td>0</td>\n",
              "    </tr>\n",
              "  </tbody>\n",
              "</table>\n",
              "</div>"
            ],
            "text/plain": [
              "        date  source  medium        fullVisitorId channelGrouping  pageviews  \\\n",
              "0 2017-04-12  google  google  6511711172391610103         (Other)        5.0   \n",
              "\n",
              "   SUM_totals_timeOnSite  device           pais  farm_finger  target  \n",
              "0                  379.0  mobile  United States            8       0  "
            ]
          },
          "metadata": {
            "tags": []
          },
          "execution_count": 31
        }
      ]
    },
    {
      "metadata": {
        "id": "Y6oTOFnOQz9H",
        "colab_type": "text"
      },
      "cell_type": "markdown",
      "source": [
        "### Salva coluna FullvisitorID"
      ]
    },
    {
      "metadata": {
        "id": "ueQGDqVrQ3JO",
        "colab_type": "code",
        "colab": {}
      },
      "cell_type": "code",
      "source": [
        "df_id = df.filter(['fullVisitorId'], axis=1)\n",
        "df.drop(['fullVisitorId'], axis=1, inplace=True)"
      ],
      "execution_count": 0,
      "outputs": []
    },
    {
      "metadata": {
        "id": "nKdsijktMb1_",
        "colab_type": "text"
      },
      "cell_type": "markdown",
      "source": [
        "###Análise colunas categóricas e numéricas"
      ]
    },
    {
      "metadata": {
        "id": "FWvs2nS28QoD",
        "colab_type": "code",
        "colab": {}
      },
      "cell_type": "code",
      "source": [
        "def uniqueCategoricalFeatures(df, tipo):\n",
        "  \"\"\" Retorna a soma única da features do tipo 'tipo'.\n",
        "  \n",
        "  Args:\n",
        "    df: dataframe com colunas do tipo 'tipo'\n",
        "    tipo: o tipo da coluna a ser exibida\n",
        "    \n",
        "  Returns:\n",
        "    Imprime a quantidade de ocorrências únicas do tipo 'tipo'\n",
        "  \"\"\"\n",
        "  categorical_list = list(df.select_dtypes(include=[tipo]))\n",
        "  for feature in categorical_list:\n",
        "    print(\"Feature: %s - %s\" % (feature, df[feature].nunique()))"
      ],
      "execution_count": 0,
      "outputs": []
    },
    {
      "metadata": {
        "id": "aHWQ-cA7IKPG",
        "colab_type": "text"
      },
      "cell_type": "markdown",
      "source": [
        "Verificar a quantidade de tipos nas features categoricas. Ver se faz sentido criar muitas colunas dummies."
      ]
    },
    {
      "metadata": {
        "id": "0Db9ncr3-1wL",
        "colab_type": "code",
        "outputId": "107e0f13-49c1-4adb-85d7-8c3ea2c29567",
        "colab": {
          "base_uri": "https://localhost:8080/",
          "height": 102
        }
      },
      "cell_type": "code",
      "source": [
        "uniqueCategoricalFeatures(df, tipo='object')"
      ],
      "execution_count": 0,
      "outputs": [
        {
          "output_type": "stream",
          "text": [
            "Feature: source - 275\n",
            "Feature: medium - 275\n",
            "Feature: channelGrouping - 8\n",
            "Feature: device - 3\n",
            "Feature: pais - 222\n"
          ],
          "name": "stdout"
        }
      ]
    },
    {
      "metadata": {
        "id": "ry5oTVigh9pt",
        "colab_type": "code",
        "colab": {}
      },
      "cell_type": "code",
      "source": [
        "def topArray(df, groupByColumn, sumColumn, n_values):\n",
        "  \"\"\" Retorna os top n_values da coluna groupByColumn somados pelo sumColumn\n",
        "  \n",
        "  Args:\n",
        "    df: dataframe com a coluna a ser agrupada\n",
        "    groupByColumn (str): nome da coluna a ser agrupda\n",
        "    sumColumn (str): nome da coluna a ser somada\n",
        "    n_values: quantidade a ser mostrada\n",
        "    \n",
        "  Returns:\n",
        "    * Uma lista (array) com os top n_values\n",
        "    * Imprime o share que esses top n_values representam\n",
        "    * Plota de colunas\n",
        "  \n",
        "  \"\"\"\n",
        "  top_df = df.groupby(groupByColumn).sum()\n",
        "  top_df.sort_values(sumColumn, ascending=False, inplace=True)\n",
        "  top_df = top_df.loc[:,[sumColumn]]\n",
        "  top_df['share'] = top_df[sumColumn]*100/top_df[sumColumn].sum()\n",
        "  top_df = top_df.nlargest(n_values,sumColumn)\n",
        "  print(top_df['share'].sum())\n",
        "  top_df['share'].plot.bar()\n",
        "  return top_df.index.values"
      ],
      "execution_count": 0,
      "outputs": []
    },
    {
      "metadata": {
        "id": "WMqKJkvJgxV5",
        "colab_type": "code",
        "outputId": "7c7ad11a-66d3-47f7-ad0f-b3b14a3f4de6",
        "colab": {
          "base_uri": "https://localhost:8080/",
          "height": 504
        }
      },
      "cell_type": "code",
      "source": [
        "pais_array = topArray(df, 'pais', 'pageviews', 20)\n",
        "source_array = topArray(df, 'source', 'pageviews', 20)\n",
        "medium_array = topArray(df, 'medium', 'pageviews', 20)\n",
        "\n",
        "df['pais_top'] = df['pais'].apply(lambda x: x if x in pais_array else \"(Other)\")\n",
        "df['source_top'] = df['source'].apply(lambda x: x if x in source_array else \"(Other)\")\n",
        "df['medium_top'] = df['medium'].apply(lambda x: x if x in medium_array else \"(Other)\")\n",
        "df.drop(['pais', 'source', 'medium'], axis=1, inplace = True)"
      ],
      "execution_count": 0,
      "outputs": [
        {
          "output_type": "stream",
          "text": [
            "86.10611689175633\n",
            "99.07582825302877\n",
            "99.07582825302877\n"
          ],
          "name": "stdout"
        },
        {
          "output_type": "display_data",
          "data": {
            "image/png": "[encoded data removed]",
            "text/plain": [
              "<Figure size 576x396 with 1 Axes>"
            ]
          },
          "metadata": {
            "tags": []
          }
        }
      ]
    },
    {
      "metadata": {
        "id": "FD96r03lYz-c",
        "colab_type": "code",
        "colab": {}
      },
      "cell_type": "code",
      "source": [
        "df_input = df.copy()\n",
        "df_input.to_csv(\"df_input.csv\", index=False)\n",
        "file = drive.CreateFile({'parents':[{u'id': '1z8scY025WNyT_3p-1B4sjz_aidLPi1ht'}]})\n",
        "file.SetContentFile(\"df_input.csv\")\n",
        "file.Upload()"
      ],
      "execution_count": 0,
      "outputs": []
    },
    {
      "metadata": {
        "id": "cCPSbW4BzVeW",
        "colab_type": "code",
        "colab": {}
      },
      "cell_type": "code",
      "source": [
        "df_input = pd.read_csv('gdrive/My Drive/Colab Notebooks/Propension/df_input.csv')"
      ],
      "execution_count": 0,
      "outputs": []
    },
    {
      "metadata": {
        "id": "e6uqGxyvBCDO",
        "colab_type": "text"
      },
      "cell_type": "markdown",
      "source": [
        "## Treinamento e Teste"
      ]
    },
    {
      "metadata": {
        "id": "avdlwdmqBESA",
        "colab_type": "text"
      },
      "cell_type": "markdown",
      "source": [
        "###Separação em bases de treinamento e teste"
      ]
    },
    {
      "metadata": {
        "id": "cjiTGdAsBJR2",
        "colab_type": "code",
        "colab": {}
      },
      "cell_type": "code",
      "source": [
        "#X = np.array(df_input.loc[:, ['date', 'source', 'medium', 'channelGrouping', 'pageviews', 'SUM_totals_timeOnSite', 'device', 'pais']].as_matrix())\n",
        "#y = np.array(df_input.loc[:, 'target'].values.tolist())\n",
        "\n",
        "X = df_input.drop(['target'], axis = 1)\n",
        "y = df_input.loc[:, ['target', 'farm_finger']]"
      ],
      "execution_count": 0,
      "outputs": []
    },
    {
      "metadata": {
        "id": "G0EWCSVGD-jd",
        "colab_type": "code",
        "outputId": "51d58e29-979b-447e-d3e0-143a1594ddf0",
        "colab": {
          "base_uri": "https://localhost:8080/",
          "height": 187
        }
      },
      "cell_type": "code",
      "source": [
        "# Split data into training and testing\n",
        "#X_train, X_test, y_train, y_test = train_test_split(X, y, test_size=0.2, random_state=123)\n",
        "X_train = X[X['farm_finger'] < 16]\n",
        "y_train = y[y['farm_finger'] < 16]\n",
        "y_train.drop(['farm_finger'], axis = 1, inplace = True)\n",
        "X_test = X[X['farm_finger'] >= 16]\n",
        "y_test = y[y['farm_finger'] >= 16]\n",
        "y_test.drop(['farm_finger'], axis = 1, inplace = True)"
      ],
      "execution_count": 0,
      "outputs": [
        {
          "output_type": "stream",
          "text": [
            "/usr/local/lib/python3.6/dist-packages/ipykernel_launcher.py:3: SettingWithCopyWarning: \n",
            "A value is trying to be set on a copy of a slice from a DataFrame\n",
            "\n",
            "See the caveats in the documentation: http://pandas.pydata.org/pandas-docs/stable/indexing.html#indexing-view-versus-copy\n",
            "  This is separate from the ipykernel package so we can avoid doing imports until\n",
            "/usr/local/lib/python3.6/dist-packages/ipykernel_launcher.py:6: SettingWithCopyWarning: \n",
            "A value is trying to be set on a copy of a slice from a DataFrame\n",
            "\n",
            "See the caveats in the documentation: http://pandas.pydata.org/pandas-docs/stable/indexing.html#indexing-view-versus-copy\n",
            "  \n"
          ],
          "name": "stderr"
        }
      ]
    },
    {
      "metadata": {
        "id": "gL5TWHTWo9yE",
        "colab_type": "text"
      },
      "cell_type": "markdown",
      "source": [
        "## Pipeline: Union"
      ]
    },
    {
      "metadata": {
        "id": "apULhP97pA2e",
        "colab_type": "text"
      },
      "cell_type": "markdown",
      "source": [
        "https://stackoverflow.com/questions/48673402/how-can-i-standardize-only-numeric-variables-in-an-sklearn-pipeline"
      ]
    },
    {
      "metadata": {
        "id": "WYk6JJb9xyKF",
        "colab_type": "code",
        "colab": {}
      },
      "cell_type": "code",
      "source": [
        "categorical_features = ['source_top', 'medium_top', 'channelGrouping', 'device', 'pais_top']\n",
        "numerical_features = ['pageviews', 'SUM_totals_timeOnSite']"
      ],
      "execution_count": 0,
      "outputs": []
    },
    {
      "metadata": {
        "id": "INr14blC3A6u",
        "colab_type": "code",
        "colab": {}
      },
      "cell_type": "code",
      "source": [
        "categorical_transformer = OneHotEncoder(handle_unknown='ignore')\n",
        "numerical_transformer = make_pipeline(StandardScaler())\n",
        "\n",
        "preprocess = ColumnTransformer(\n",
        "    [\n",
        "        ('categorical', categorical_transformer, categorical_features),\n",
        "        ('numerical', numerical_transformer, numerical_features),\n",
        "    ]\n",
        "    ,\n",
        "    sparse_threshold=0.,\n",
        "    n_jobs=1\n",
        ")"
      ],
      "execution_count": 0,
      "outputs": []
    },
    {
      "metadata": {
        "id": "0EzkCxeRRwDB",
        "colab_type": "code",
        "colab": {}
      },
      "cell_type": "code",
      "source": [
        "num_train, num_feature = X_train.shape\n",
        "feature_name = ['feature_' + str(col) for col in range(num_feature)]\n",
        "\n",
        "X_train_transformed = preprocess.fit_transform(X_train)\n",
        "X_train_transformed = pd.DataFrame(data=X_train_transformed)\n",
        "X_test_transformed = preprocess.transform(X_test)\n",
        "X_test_transformed = pd.DataFrame(data=X_test_transformed)"
      ],
      "execution_count": 0,
      "outputs": []
    },
    {
      "metadata": {
        "id": "XN8o9gW_9ScL",
        "colab_type": "text"
      },
      "cell_type": "markdown",
      "source": [
        "### Logistic Regression"
      ]
    },
    {
      "metadata": {
        "id": "0gyBcGzO3dzN",
        "colab_type": "code",
        "colab": {}
      },
      "cell_type": "code",
      "source": [
        "model = Pipeline(\n",
        "    steps= [\n",
        "      ('preprocess', preprocess), \n",
        "      ('logisticregression', LogisticRegression())\n",
        "    ])"
      ],
      "execution_count": 0,
      "outputs": []
    },
    {
      "metadata": {
        "id": "8ntWdKoy48HD",
        "colab_type": "code",
        "colab": {}
      },
      "cell_type": "code",
      "source": [
        "%%time\n",
        "param_grid = {\n",
        "    'logisticregression__C': [0.1, 1.0],\n",
        "    'logisticregression__penalty' : ['l1','l2'],\n",
        "    'logisticregression__class_weight' : ['balanced', None]\n",
        "    }\n",
        "\n",
        "clf_LR_grid_search = GridSearchCV(estimator = model, param_grid = param_grid , scoring = 'recall', n_jobs = -1)\n",
        "clf_LR_grid_search = clf_LR_grid_search.fit(X_train, y_train)\n",
        "\n",
        "print ('Best Params:', clf_LR_grid_search.best_params_)\n",
        "print ('Best Recall:', clf_LR_grid_search.best_score_)"
      ],
      "execution_count": 0,
      "outputs": []
    },
    {
      "metadata": {
        "id": "75x5gTLrbLMn",
        "colab_type": "code",
        "colab": {}
      },
      "cell_type": "code",
      "source": [
        "filename = 'finalized_model_logistic.sav'\n",
        "\n",
        "pickle.dump(clf_LR_grid_search, open(filename, 'wb'))"
      ],
      "execution_count": 0,
      "outputs": []
    },
    {
      "metadata": {
        "id": "EvNjgqx_cfca",
        "colab_type": "code",
        "colab": {}
      },
      "cell_type": "code",
      "source": [
        "# get the folder id where you want to save your file\n",
        "file = drive.CreateFile({'parents':[{u'id': '1z8scY025WNyT_3p-1B4sjz_aidLPi1ht'}]})\n",
        "file.SetContentFile('finalized_model_logistic.sav')\n",
        "file.Upload()"
      ],
      "execution_count": 0,
      "outputs": []
    },
    {
      "metadata": {
        "id": "NIxA6JWj9ZHZ",
        "colab_type": "text"
      },
      "cell_type": "markdown",
      "source": [
        "### Light GBM"
      ]
    },
    {
      "metadata": {
        "id": "a4JgyCTz-Rby",
        "colab_type": "code",
        "colab": {}
      },
      "cell_type": "code",
      "source": [
        "# Especificar as configurações como um dict\n",
        "params = {'learning_rate': 0.05,\n",
        "          'num_class' : 1,\n",
        "          'metric' : 'binary_error',\n",
        "          'boosting_type': 'gbdt',\n",
        "          'max_depth' : -1,\n",
        "          'objective': 'binary',\n",
        "          'nthread': 5,\n",
        "          'num_leaves': 50,\n",
        "          'max_bin': 400,\n",
        "          'subsample_for_bin': 100,\n",
        "          'subsample': 1,\n",
        "          'subsample_freq': 1,\n",
        "          'colsample_bytree': 0.8,\n",
        "          'reg_alpha': 1.2,\n",
        "          'reg_lambda': 1.2,\n",
        "          'min_split_gain': 0.5,\n",
        "          }"
      ],
      "execution_count": 0,
      "outputs": []
    },
    {
      "metadata": {
        "id": "a39yJL_9-cWp",
        "colab_type": "code",
        "colab": {}
      },
      "cell_type": "code",
      "source": [
        "# LightGBM Classifier\n",
        "clf_lgbm = lgb.LGBMClassifier(boosting_type= 'gbdt',\n",
        "          max_depth = params['max_depth'],\n",
        "          max_bin = params['max_bin'],\n",
        "          subsample_for_bin = params['subsample_for_bin'],\n",
        "          subsample = params['subsample'],\n",
        "          subsample_freq = params['subsample_freq'],\n",
        "          objective = 'binary',\n",
        "          n_jobs = -1,)"
      ],
      "execution_count": 0,
      "outputs": []
    },
    {
      "metadata": {
        "id": "JOY-jO6-9drF",
        "colab_type": "code",
        "colab": {}
      },
      "cell_type": "code",
      "source": [
        "model = Pipeline(\n",
        "    steps= [\n",
        "      ('preprocess', preprocess),\n",
        "      ('lgbm', clf_lgbm)\n",
        "    ])"
      ],
      "execution_count": 0,
      "outputs": []
    },
    {
      "metadata": {
        "id": "SgZ75xza-S7-",
        "colab_type": "code",
        "colab": {}
      },
      "cell_type": "code",
      "source": [
        "# Create parameters to search\n",
        "param_grid = {\n",
        "    'lgbm__learning_rate': [0.05],#[0.01, 0.03, 0.05],\n",
        "    'lgbm__n_estimators': [10,20],#[10,20,30,40],\n",
        "    'lgbm__num_leaves': [20, 24],#[16, 20, 24, 28, 32, 36],\n",
        "    'lgbm__boosting_type' : ['gbdt'],\n",
        "    'lgbm__objective' : ['binary'],\n",
        "    'lgbm__random_state' : [123], \n",
        "    }"
      ],
      "execution_count": 0,
      "outputs": []
    },
    {
      "metadata": {
        "id": "NaNs6hE5-9CA",
        "colab_type": "code",
        "colab": {}
      },
      "cell_type": "code",
      "source": [
        "%%time\n",
        "clf_lgbm.get_params().keys()\n",
        "\n",
        "# Grid search\n",
        "clf_grid_search = GridSearchCV(estimator = model, param_grid = param_grid, verbose=2, cv=5, scoring = 'f1', n_jobs = -1)\n",
        "clf_grid_search.fit(X_train, y_train)\n",
        "\n",
        "# Print the best parameters found\n",
        "print(clf_grid_search.best_params_)\n",
        "print(clf_grid_search.best_score_)"
      ],
      "execution_count": 0,
      "outputs": []
    },
    {
      "metadata": {
        "id": "8bD5ChMmXqYc",
        "colab_type": "code",
        "colab": {}
      },
      "cell_type": "code",
      "source": [
        "# Apply best parameters from grid search\n",
        "params['learning_rate'] = clf_grid_search.best_params_['lgbm__learning_rate']\n",
        "params['num_leaves'] = clf_grid_search.best_params_['lgbm__num_leaves']\n",
        "params['n_estimators'] = clf_grid_search.best_params_['lgbm__n_estimators']\n",
        "params['random_state'] = clf_grid_search.best_params_['lgbm__random_state']"
      ],
      "execution_count": 0,
      "outputs": []
    },
    {
      "metadata": {
        "id": "Idlu5qfKliR4",
        "colab_type": "code",
        "colab": {}
      },
      "cell_type": "code",
      "source": [
        "# Cria dataset para lightgbm\n",
        "lgb_train = lgb.Dataset(X_train_transformed, y_train)\n",
        "#lgb_eval = lgb.Dataset(X_test_transformed, y_test, reference = lgb_train)\n",
        "\n",
        "print('Starting training...')\n",
        "gbm = lgb.train(params,\n",
        "               lgb_train,\n",
        "               num_boost_round=1)#,\n",
        "               #valid_sets=lgb_eval,\n",
        "               #early_stopping_rounds=5)\n",
        "\n",
        "print('Starting predicting...')\n",
        "y_pred_lightgbm = gbm.predict(X_test_transformed, num_iteration=gbm.best_iteration)\n",
        "\n",
        "# eval\n",
        "print('The rmse of prediction is:', mean_squared_error(y_test, y_pred) ** 0.5)\n",
        "\n",
        "# feature importances\n",
        "print('Feature importances:', list(gbm.feature_importance()))\n",
        "\n",
        "# Predictions binary\n",
        "threshold = 0.5\n",
        "y_pred = np.where(y_pred > threshold, 1, 0)\n",
        "stats.describe(y_pred)\n",
        "\n",
        "# Show results\n",
        "HelperClass.show_full_classification_report(y_test, y_pred, y_pred_lightgbm, classes)"
      ],
      "execution_count": 0,
      "outputs": []
    },
    {
      "metadata": {
        "id": "1pWLwuDh_8t0",
        "colab_type": "code",
        "colab": {}
      },
      "cell_type": "code",
      "source": [
        "filename = 'finalized_model_lgbm.sav'\n",
        "pickle.dump(gbm, open(filename, 'wb'))"
      ],
      "execution_count": 0,
      "outputs": []
    },
    {
      "metadata": {
        "id": "vP4o1Ou6AwSx",
        "colab_type": "code",
        "colab": {}
      },
      "cell_type": "code",
      "source": [
        "# get the folder id where you want to save your file\n",
        "file = drive.CreateFile({'parents':[{u'id': '1z8scY025WNyT_3p-1B4sjz_aidLPi1ht'}]})\n",
        "file.SetContentFile('finalized_model_lgbm.sav')\n",
        "file.Upload()"
      ],
      "execution_count": 0,
      "outputs": []
    },
    {
      "metadata": {
        "id": "qOkQUgAcw5eC",
        "colab_type": "text"
      },
      "cell_type": "markdown",
      "source": [
        "### KNN (rever)"
      ]
    },
    {
      "metadata": {
        "id": "a2A4yiF_xJOz",
        "colab_type": "code",
        "colab": {}
      },
      "cell_type": "code",
      "source": [
        "model = Pipeline(\n",
        "    steps= [\n",
        "      ('preprocess', preprocess), \n",
        "      ('clf_kNN', KNeighborsClassifier())\n",
        "    ])"
      ],
      "execution_count": 0,
      "outputs": []
    },
    {
      "metadata": {
        "id": "gnZpt3T3w8ME",
        "colab_type": "code",
        "outputId": "36bc4a9e-87bf-40c7-d4ef-f72c77a6113f",
        "colab": {
          "base_uri": "https://localhost:8080/",
          "height": 173
        }
      },
      "cell_type": "code",
      "source": [
        "%%time\n",
        "param_grid = {\n",
        "            'clf_kNN__n_neighbors': [3],#[3, 5, 7],\n",
        "            #'clf_kNN__weights': ['uniform']#['uniform', 'distance']\n",
        "            }\n",
        "\n",
        "clf_kNN_grid_search = GridSearchCV(estimator = model, param_grid = param_grid , scoring = 'recall', n_jobs = -1)\n",
        "clf_kNN_grid_search.fit(X_train, y_train)\n",
        "\n",
        "print ('Best Params:', clf_kNN_grid_search.best_params_)\n",
        "print ('Best Recall:', clf_kNN_grid_search.best_score_)"
      ],
      "execution_count": 50,
      "outputs": [
        {
          "output_type": "stream",
          "text": [
            "/usr/local/lib/python3.6/dist-packages/sklearn/model_selection/_split.py:2053: FutureWarning: You should specify a value for 'cv' instead of relying on the default value. The default value will change from 3 to 5 in version 0.22.\n",
            "  warnings.warn(CV_WARNING, FutureWarning)\n",
            "/usr/local/lib/python3.6/dist-packages/sklearn/pipeline.py:267: DataConversionWarning: A column-vector y was passed when a 1d array was expected. Please change the shape of y to (n_samples, ), for example using ravel().\n",
            "  self._final_estimator.fit(Xt, y, **fit_params)\n"
          ],
          "name": "stderr"
        },
        {
          "output_type": "stream",
          "text": [
            "Best Params: {'clf_kNN__n_neighbors': 3}\n",
            "Best Recall: 0.38718751777916754\n",
            "CPU times: user 14min 32s, sys: 5.94 s, total: 14min 38s\n",
            "Wall time: 3h 38min 46s\n"
          ],
          "name": "stdout"
        }
      ]
    },
    {
      "metadata": {
        "id": "b08eT8tnegDU",
        "colab_type": "code",
        "colab": {}
      },
      "cell_type": "code",
      "source": [
        "y_pred = clf_kNN_grid_search.predict(X_test)\n",
        "y_scores_kNN = clf_kNN_grid_search.predict_proba(X_test)[:,1]\n",
        "\n",
        "# Show results\n",
        "HelperClass.show_full_classification_report(y_test, y_pred, y_scores_kNN, classes)"
      ],
      "execution_count": 0,
      "outputs": []
    },
    {
      "metadata": {
        "id": "RWHGuFirxsTx",
        "colab_type": "code",
        "colab": {}
      },
      "cell_type": "code",
      "source": [
        "filename = 'finalized_model_knn.sav'\n",
        "\n",
        "pickle.dump(clf_kNN_grid_search, open(filename, 'wb'))"
      ],
      "execution_count": 0,
      "outputs": []
    },
    {
      "metadata": {
        "id": "Ee6H4hyrxxMJ",
        "colab_type": "code",
        "colab": {}
      },
      "cell_type": "code",
      "source": [
        "# get the folder id where you want to save your file\n",
        "file = drive.CreateFile({'parents':[{u'id': '1z8scY025WNyT_3p-1B4sjz_aidLPi1ht'}]})\n",
        "file.SetContentFile('finalized_model_knn.sav')\n",
        "file.Upload()\n",
        "\n",
        "from google.colab import files\n",
        "files.download('finalized_model_knn.sav') "
      ],
      "execution_count": 0,
      "outputs": []
    },
    {
      "metadata": {
        "colab_type": "text",
        "id": "dbc6F8CV7HMK"
      },
      "cell_type": "markdown",
      "source": [
        "### Naive Bayes"
      ]
    },
    {
      "metadata": {
        "colab_type": "code",
        "id": "0nmV8l0v7HMM",
        "colab": {}
      },
      "cell_type": "code",
      "source": [
        "model = Pipeline(\n",
        "    steps= [\n",
        "      ('preprocess', preprocess),\n",
        "      ('NB', GaussianNB())\n",
        "    ])"
      ],
      "execution_count": 0,
      "outputs": []
    },
    {
      "metadata": {
        "colab_type": "code",
        "outputId": "8c615538-c13c-4395-a57a-703e42d04f84",
        "id": "d0RMffI77HMQ",
        "colab": {
          "base_uri": "https://localhost:8080/",
          "height": 1612
        }
      },
      "cell_type": "code",
      "source": [
        "%%time\n",
        "# Fit and Predict\n",
        "model.fit(X_train, y_train)\n",
        "y_pred = model.predict(X_test)\n",
        "y_scores_NB = model.predict_proba(X_test)[:,1]\n",
        "\n",
        "# Show results\n",
        "classes=['Non Transaction', 'Transaction']\n",
        "HelperClass.show_full_classification_report(y_test, y_pred, y_scores_NB, classes)"
      ],
      "execution_count": 0,
      "outputs": [
        {
          "output_type": "stream",
          "text": [
            "/usr/local/lib/python3.6/dist-packages/sklearn/utils/validation.py:761: DataConversionWarning: A column-vector y was passed when a 1d array was expected. Please change the shape of y to (n_samples, ), for example using ravel().\n",
            "  y = column_or_1d(y, warn=True)\n"
          ],
          "name": "stderr"
        },
        {
          "output_type": "stream",
          "text": [
            "***********************\n",
            "Metrics Report:\n",
            "***********************\n",
            "Classification Report:\n",
            "***********************\n",
            "True Positive    2263\n",
            " True Negative   86545\n",
            "False Negative      41\n",
            "False Positive   80986\n",
            "      Accuracy  0.5229\n",
            "     Precision  0.0272\n",
            "        Recall  0.9822\n",
            "   Specificity  0.5166\n",
            "      F1 Score  0.0529\n",
            " Roc Auc Score  0.7524\n",
            "***********************\n",
            "Confusion matrix, without normalization:\n"
          ],
          "name": "stdout"
        },
        {
          "output_type": "display_data",
          "data": {
            "image/png": "[encoded data removed]",
            "text/plain": [
              "<Figure size 576x396 with 2 Axes>"
            ]
          },
          "metadata": {
            "tags": []
          }
        },
        {
          "output_type": "stream",
          "text": [
            "***********************\n",
            "Roc Curve:\n",
            "***********************\n"
          ],
          "name": "stdout"
        },
        {
          "output_type": "display_data",
          "data": {
            "image/png": "[encoded data removed]",
            "text/plain": [
              "<Figure size 576x396 with 1 Axes>"
            ]
          },
          "metadata": {
            "tags": []
          }
        },
        {
          "output_type": "stream",
          "text": [
            "***********************\n",
            "Precision Recall Curve:\n",
            "***********************\n"
          ],
          "name": "stdout"
        },
        {
          "output_type": "display_data",
          "data": {
            "image/png": "[encoded data removed]",
            "text/plain": [
              "<Figure size 576x396 with 1 Axes>"
            ]
          },
          "metadata": {
            "tags": []
          }
        },
        {
          "output_type": "stream",
          "text": [
            "CPU times: user 4.39 s, sys: 619 ms, total: 5.01 s\n",
            "Wall time: 4.32 s\n"
          ],
          "name": "stdout"
        }
      ]
    },
    {
      "metadata": {
        "colab_type": "code",
        "id": "P_iFeCfI7HMU",
        "colab": {}
      },
      "cell_type": "code",
      "source": [
        "filename = 'finalized_model_nb.sav'\n",
        "\n",
        "pickle.dump(model, open(filename, 'wb'))"
      ],
      "execution_count": 0,
      "outputs": []
    },
    {
      "metadata": {
        "colab_type": "code",
        "id": "m9XTeari7HMa",
        "colab": {}
      },
      "cell_type": "code",
      "source": [
        "# get the folder id where you want to save your file\n",
        "file = drive.CreateFile({'parents':[{u'id': '1z8scY025WNyT_3p-1B4sjz_aidLPi1ht'}]})\n",
        "file.SetContentFile('finalized_model_nb.sav')\n",
        "file.Upload()"
      ],
      "execution_count": 0,
      "outputs": []
    },
    {
      "metadata": {
        "colab_type": "text",
        "id": "YDapRtuR-xun"
      },
      "cell_type": "markdown",
      "source": [
        "### Random Forest"
      ]
    },
    {
      "metadata": {
        "colab_type": "code",
        "id": "KWwNQivy-xuo",
        "colab": {}
      },
      "cell_type": "code",
      "source": [
        "model = Pipeline(\n",
        "    steps= [\n",
        "      ('preprocess', preprocess), \n",
        "      ('clf_RF', RandomForestClassifier())\n",
        "    ])"
      ],
      "execution_count": 0,
      "outputs": []
    },
    {
      "metadata": {
        "colab_type": "code",
        "id": "8PDAo89U-xur",
        "colab": {}
      },
      "cell_type": "code",
      "source": [
        "%%time\n",
        "param_grid = {\n",
        "            'clf_RF__n_estimators': [100],\n",
        "            'clf_RF__max_features': [2],\n",
        "            'clf_RF__min_samples_leaf': [2],\n",
        "            'clf_RF__min_samples_split': [2]\n",
        "            }\n",
        "\n",
        "\n",
        "clf_RF_grid_search = GridSearchCV(estimator = model, param_grid = param_grid , scoring = 'recall', n_jobs = -1)\n",
        "clf_RF_grid_search.fit(X_train, y_train)\n",
        "\n",
        "print ('Best Params:', clf_RF_grid_search.best_params_)\n",
        "print ('Best Recall:', clf_RF_grid_search.best_score_)"
      ],
      "execution_count": 0,
      "outputs": []
    },
    {
      "metadata": {
        "colab_type": "code",
        "id": "2skyIsi4-xuw",
        "colab": {}
      },
      "cell_type": "code",
      "source": [
        "filename = 'finalized_model_rf.sav'\n",
        "\n",
        "pickle.dump(clf_RF_grid_search, open(filename, 'wb'))"
      ],
      "execution_count": 0,
      "outputs": []
    },
    {
      "metadata": {
        "colab_type": "code",
        "id": "xp9boCRR-xu0",
        "colab": {}
      },
      "cell_type": "code",
      "source": [
        "# get the folder id where you want to save your file\n",
        "file = drive.CreateFile({'parents':[{u'id': '1z8scY025WNyT_3p-1B4sjz_aidLPi1ht'}]})\n",
        "file.SetContentFile('finalized_model_rf.sav')\n",
        "file.Upload()"
      ],
      "execution_count": 0,
      "outputs": []
    },
    {
      "metadata": {
        "colab_type": "code",
        "id": "V09FuniRFyV9",
        "colab": {}
      },
      "cell_type": "code",
      "source": [
        "model = Pipeline(\n",
        "    steps= [\n",
        "      ('preprocess', preprocess), \n",
        "      ('clf_RF', RandomForestClassifier())\n",
        "    ])"
      ],
      "execution_count": 0,
      "outputs": []
    },
    {
      "metadata": {
        "colab_type": "code",
        "id": "gw8rARGMFyV_",
        "colab": {}
      },
      "cell_type": "code",
      "source": [
        "%%time\n",
        "param_grid = {\n",
        "            'clf_RF__n_estimators': [100],\n",
        "            'clf_RF__max_features': [2],\n",
        "            'clf_RF__min_samples_leaf': [2],\n",
        "            'clf_RF__min_samples_split': [2]\n",
        "            }\n",
        "\n",
        "\n",
        "clf_RF_grid_search = GridSearchCV(estimator = model, param_grid = param_grid , scoring = 'recall', n_jobs = -1)\n",
        "clf_RF_grid_search.fit(X_train, y_train)\n",
        "\n",
        "print ('Best Params:', clf_RF_grid_search.best_params_)\n",
        "print ('Best Recall:', clf_RF_grid_search.best_score_)"
      ],
      "execution_count": 0,
      "outputs": []
    },
    {
      "metadata": {
        "colab_type": "code",
        "id": "AtOUpX67FyWJ",
        "colab": {}
      },
      "cell_type": "code",
      "source": [
        "filename = 'finalized_model_rf.sav'\n",
        "\n",
        "pickle.dump(clf_RF_grid_search, open(filename, 'wb'))"
      ],
      "execution_count": 0,
      "outputs": []
    },
    {
      "metadata": {
        "colab_type": "code",
        "id": "X7KtPAvEFyWM",
        "colab": {}
      },
      "cell_type": "code",
      "source": [
        "# get the folder id where you want to save your file\n",
        "file = drive.CreateFile({'parents':[{u'id': '1z8scY025WNyT_3p-1B4sjz_aidLPi1ht'}]})\n",
        "file.SetContentFile('finalized_model_rf.sav')\n",
        "file.Upload()"
      ],
      "execution_count": 0,
      "outputs": []
    },
    {
      "metadata": {
        "id": "AAoamSmG6CY0",
        "colab_type": "text"
      },
      "cell_type": "markdown",
      "source": [
        "### Save Training and Test Files\n"
      ]
    },
    {
      "metadata": {
        "id": "DSkr0zeV41lv",
        "colab_type": "code",
        "colab": {}
      },
      "cell_type": "code",
      "source": [
        "%%time\n",
        "X_train.to_csv(\"X_train.csv\", index=False)\n",
        "file = drive.CreateFile({'parents':[{u'id': '1z8scY025WNyT_3p-1B4sjz_aidLPi1ht'}]})\n",
        "file.SetContentFile('X_train.csv')\n",
        "file.Upload()\n",
        "\n",
        "X_test.to_csv(\"X_test.csv\", index=False)\n",
        "file = drive.CreateFile({'parents':[{u'id': '1z8scY025WNyT_3p-1B4sjz_aidLPi1ht'}]})\n",
        "file.SetContentFile('X_test.csv')\n",
        "file.Upload()\n",
        "\n",
        "y_train.to_csv(\"y_train.csv\", index=False)\n",
        "file = drive.CreateFile({'parents':[{u'id': '1z8scY025WNyT_3p-1B4sjz_aidLPi1ht'}]})\n",
        "file.SetContentFile('y_train.csv')\n",
        "file.Upload()\n",
        "\n",
        "y_test.to_csv(\"y_test.csv\", index=False)\n",
        "file = drive.CreateFile({'parents':[{u'id': '1z8scY025WNyT_3p-1B4sjz_aidLPi1ht'}]})\n",
        "file.SetContentFile('y_test.csv')\n",
        "file.Upload()\n",
        "\n",
        "X_train_transformed.to_csv(\"X_train_transformed.csv\", index=False)\n",
        "file = drive.CreateFile({'parents':[{u'id': '1z8scY025WNyT_3p-1B4sjz_aidLPi1ht'}]})\n",
        "file.SetContentFile('X_train_transformed.csv')\n",
        "file.Upload()\n",
        "\n",
        "X_test_transformed.to_csv(\"X_test_transformed.csv\", index=False)\n",
        "file = drive.CreateFile({'parents':[{u'id': '1z8scY025WNyT_3p-1B4sjz_aidLPi1ht'}]})\n",
        "file.SetContentFile('X_test_transformed.csv')\n",
        "file.Upload()"
      ],
      "execution_count": 0,
      "outputs": []
    },
    {
      "metadata": {
        "id": "CYIZKqrqWwdP",
        "colab_type": "text"
      },
      "cell_type": "markdown",
      "source": [
        "## Recupera resultado Modelo"
      ]
    },
    {
      "metadata": {
        "id": "tTYObzD28qNb",
        "colab_type": "text"
      },
      "cell_type": "markdown",
      "source": [
        "### Recupera Bases Teste e Validação"
      ]
    },
    {
      "metadata": {
        "id": "fEcYAw-m6Pz2",
        "colab_type": "code",
        "colab": {
          "base_uri": "https://localhost:8080/",
          "height": 51
        },
        "outputId": "1f174ff4-8aa0-4b98-85e4-12ba1b4da5d3"
      },
      "cell_type": "code",
      "source": [
        "%%time\n",
        "X_test = pd.read_csv('gdrive/My Drive/Colab Notebooks/Propension/X_test.csv')\n",
        "y_test = pd.read_csv('gdrive/My Drive/Colab Notebooks/Propension/y_test.csv')\n",
        "X_train = pd.read_csv('gdrive/My Drive/Colab Notebooks/Propension/X_train.csv')\n",
        "y_train = pd.read_csv('gdrive/My Drive/Colab Notebooks/Propension/y_train.csv')"
      ],
      "execution_count": 23,
      "outputs": [
        {
          "output_type": "stream",
          "text": [
            "CPU times: user 1.24 s, sys: 65.5 ms, total: 1.3 s\n",
            "Wall time: 2.78 s\n"
          ],
          "name": "stdout"
        }
      ]
    },
    {
      "metadata": {
        "id": "pB61WAmC8GqF",
        "colab_type": "text"
      },
      "cell_type": "markdown",
      "source": [
        "### Helper Methods"
      ]
    },
    {
      "metadata": {
        "id": "_ffBoOVcJ4sf",
        "colab_type": "code",
        "colab": {}
      },
      "cell_type": "code",
      "source": [
        "def get_column_names_from_ColumnTransformer(column_transformer):\n",
        "    col_name = []\n",
        "    header_list = []\n",
        "    for transformer_in_columns in column_transformer.transformers_[:-1]:#the last transformer is ColumnTransformer's 'remainder'\n",
        "        raw_col_name = transformer_in_columns[2]\n",
        "        header_list.append(raw_col_name)\n",
        "        if isinstance(transformer_in_columns[1],Pipeline): \n",
        "            transformer = transformer_in_columns[1].steps[-1][1]\n",
        "        else:\n",
        "            transformer = transformer_in_columns[1]\n",
        "        try:\n",
        "            names = transformer.get_feature_names()\n",
        "        except AttributeError: # if no 'get_feature_names' function, use raw column name\n",
        "            names = raw_col_name\n",
        "        if isinstance(names,np.ndarray):\n",
        "            col_name += names.tolist()\n",
        "        elif isinstance(names,list):\n",
        "            col_name += names\n",
        "        elif isinstance(names,str):\n",
        "            col_name.append(names)\n",
        "    return col_name, header_list"
      ],
      "execution_count": 0,
      "outputs": []
    },
    {
      "metadata": {
        "id": "Oqe3oS8v5wSq",
        "colab_type": "code",
        "colab": {}
      },
      "cell_type": "code",
      "source": [
        "#feature importance plot\n",
        "def plot_feature_importance(features, columns):\n",
        "    tmp = pd.DataFrame({'Feature': columns, 'Feature importance': features})\n",
        "    tmp = tmp.sort_values(by='Feature importance',ascending=False)\n",
        "    plt.figure(figsize = (15,8))\n",
        "    plt.title('Features importance',fontsize=14)\n",
        "    s = sns.barplot(x='Feature',y='Feature importance',data=tmp)\n",
        "    s.set_xticklabels(s.get_xticklabels(),rotation=90)\n",
        "    plt.show()"
      ],
      "execution_count": 0,
      "outputs": []
    },
    {
      "metadata": {
        "id": "Z-SbY2sX73WW",
        "colab_type": "text"
      },
      "cell_type": "markdown",
      "source": [
        "### Logistic Regression"
      ]
    },
    {
      "metadata": {
        "id": "gP5HKIvRhSaM",
        "colab_type": "code",
        "colab": {}
      },
      "cell_type": "code",
      "source": [
        "downloaded = drive.CreateFile({'id': '1qmlOPc6YG1B48m0OxIvQFndvyQq4AW87'})\n",
        "downloaded.GetContentFile('finalized_model_logistic.sav')"
      ],
      "execution_count": 0,
      "outputs": []
    },
    {
      "metadata": {
        "id": "KAoa2e3jeTe6",
        "colab_type": "code",
        "colab": {}
      },
      "cell_type": "code",
      "source": [
        "loaded_model = pickle.load(open(\"finalized_model_logistic.sav\", 'rb'))\n",
        "result = loaded_model.score(X_test, y_test)"
      ],
      "execution_count": 0,
      "outputs": []
    },
    {
      "metadata": {
        "id": "Eg62Cpv58jvA",
        "colab_type": "code",
        "colab": {}
      },
      "cell_type": "code",
      "source": [
        "# Predict\n",
        "y_pred = loaded_model.predict(X_test)\n",
        "y_scores_LR = loaded_model.predict_proba(X_test)[:,1]\n",
        "\n",
        "# Show results\n",
        "classes=['Non Transaction', 'Transaction']\n",
        "HelperClass.show_full_classification_report(y_test, y_pred, y_scores_LR, classes)"
      ],
      "execution_count": 0,
      "outputs": []
    },
    {
      "metadata": {
        "id": "doBymIF6KK0w",
        "colab_type": "text"
      },
      "cell_type": "markdown",
      "source": [
        "How to get columns from ColumnTransformer: https://github.com/scikit-learn/scikit-learn/issues/12525"
      ]
    },
    {
      "metadata": {
        "id": "QvjkVoHK3pLg",
        "colab_type": "text"
      },
      "cell_type": "markdown",
      "source": [
        "Como acessar coef e intercept de um pipeline: https://stackoverflow.com/questions/43856280/return-coefficients-from-pipeline-object-in-sklearn"
      ]
    },
    {
      "metadata": {
        "id": "5HL8nmMr6vq7",
        "colab_type": "code",
        "colab": {}
      },
      "cell_type": "code",
      "source": [
        "print ('Best Params:', loaded_model.best_params_)\n",
        "print ('Best Estimator:', loaded_model.best_estimator_)\n",
        "print ('Best Recall:', loaded_model.best_score_)\n",
        "\n",
        "classifier = loaded_model.best_estimator_.named_steps['logisticregression']\n",
        "classifier.coef_[0]\n",
        "classifier.intercept_\n",
        "\n",
        "columnsTransform = loaded_model.best_estimator_.named_steps['preprocess']\n",
        "columns_name, header_list = get_column_names_from_ColumnTransformer(columnsTransform)"
      ],
      "execution_count": 0,
      "outputs": []
    },
    {
      "metadata": {
        "id": "R0Q3r7ffKk49",
        "colab_type": "code",
        "colab": {}
      },
      "cell_type": "code",
      "source": [
        "plot_feature_importance(classifier.coef_[0], columns_name)\n",
        "weights = pd.DataFrame(\n",
        "    {'columns_name': columns_name, \n",
        "     'weights': classifier.coef_[0]\n",
        "    }).sort_values(by=['weights'], ascending=False, inplace=False)"
      ],
      "execution_count": 0,
      "outputs": []
    },
    {
      "metadata": {
        "id": "y-bcwnhvzVII",
        "colab_type": "text"
      },
      "cell_type": "markdown",
      "source": [
        "### KNN (erro Pickle)"
      ]
    },
    {
      "metadata": {
        "id": "NkBvTDuCzXyt",
        "colab_type": "code",
        "colab": {}
      },
      "cell_type": "code",
      "source": [
        "downloaded = drive.CreateFile({'id': '1zqpFkUunDmmG4VbFoJb3LKvXmpQcpSkk'})\n",
        "downloaded.GetContentFile('finalized_model_knn.sav')"
      ],
      "execution_count": 0,
      "outputs": []
    },
    {
      "metadata": {
        "id": "9JKz7EQTzfKY",
        "colab_type": "code",
        "colab": {
          "base_uri": "https://localhost:8080/",
          "height": 180
        },
        "outputId": "8d6c514d-ec53-4384-db23-6d7f5949b355"
      },
      "cell_type": "code",
      "source": [
        "loaded_model_knn = pickle.load(open(\"finalized_model_knn.sav\", 'rb'))\n",
        "result = loaded_model_knn.score(X_test, y_test)"
      ],
      "execution_count": 17,
      "outputs": [
        {
          "output_type": "error",
          "ename": "UnpicklingError",
          "evalue": "ignored",
          "traceback": [
            "\u001b[0;31m---------------------------------------------------------------------------\u001b[0m",
            "\u001b[0;31mUnpicklingError\u001b[0m                           Traceback (most recent call last)",
            "\u001b[0;32m<ipython-input-17-2ae6dc101b52>\u001b[0m in \u001b[0;36m<module>\u001b[0;34m()\u001b[0m\n\u001b[0;32m----> 1\u001b[0;31m \u001b[0mloaded_model_knn\u001b[0m \u001b[0;34m=\u001b[0m \u001b[0mpickle\u001b[0m\u001b[0;34m.\u001b[0m\u001b[0mload\u001b[0m\u001b[0;34m(\u001b[0m\u001b[0mopen\u001b[0m\u001b[0;34m(\u001b[0m\u001b[0;34m\"finalized_model_knn.sav\"\u001b[0m\u001b[0;34m,\u001b[0m \u001b[0;34m'rb'\u001b[0m\u001b[0;34m)\u001b[0m\u001b[0;34m)\u001b[0m\u001b[0;34m\u001b[0m\u001b[0;34m\u001b[0m\u001b[0m\n\u001b[0m\u001b[1;32m      2\u001b[0m \u001b[0mresult\u001b[0m \u001b[0;34m=\u001b[0m \u001b[0mloaded_model_knn\u001b[0m\u001b[0;34m.\u001b[0m\u001b[0mscore\u001b[0m\u001b[0;34m(\u001b[0m\u001b[0mX_test\u001b[0m\u001b[0;34m,\u001b[0m \u001b[0my_test\u001b[0m\u001b[0;34m)\u001b[0m\u001b[0;34m\u001b[0m\u001b[0;34m\u001b[0m\u001b[0m\n",
            "\u001b[0;31mUnpicklingError\u001b[0m: pickle data was truncated"
          ]
        }
      ]
    },
    {
      "metadata": {
        "id": "kQs48En3zuSC",
        "colab_type": "code",
        "colab": {}
      },
      "cell_type": "code",
      "source": [
        "# Predict\n",
        "y_pred = loaded_model_knn.predict(X_test)\n",
        "y_scores_LR = loaded_model_knn.predict_proba(X_test)[:,1]\n",
        "\n",
        "# Show results\n",
        "classes=['Non Transaction', 'Transaction']\n",
        "HelperClass.show_full_classification_report(y_test, y_pred, y_scores_LR, classes)"
      ],
      "execution_count": 0,
      "outputs": []
    },
    {
      "metadata": {
        "id": "A7JSlXh30Qtw",
        "colab_type": "code",
        "colab": {}
      },
      "cell_type": "code",
      "source": [
        "print ('Best Params:', loaded_model_knn.best_params_)\n",
        "print ('Best Recall:', loaded_model_knn.best_score_)\n",
        "\n",
        "classifier_knn = loaded_model_knn.best_estimator_.named_steps['logisticregression']\n",
        "classifier_knn.coef_[0]\n",
        "classifier_knn.intercept_\n",
        "\n",
        "columnsTransform = loaded_model_knn.best_estimator_.named_steps['preprocess']\n",
        "columns_name_knn, header_list_knn = get_column_names_from_ColumnTransformer(columnsTransform)"
      ],
      "execution_count": 0,
      "outputs": []
    },
    {
      "metadata": {
        "id": "HhgGmjuu0UDW",
        "colab_type": "code",
        "colab": {}
      },
      "cell_type": "code",
      "source": [
        "plot_feature_importance(classifier_knn.coef_[0], columns_name_knn)\n",
        "weights = pd.DataFrame(\n",
        "    {'columns_name': columns_name_knn, \n",
        "     'weights': classifier_knn.coef_[0]\n",
        "    }).sort_values(by=['weights'], ascending=False, inplace=False)"
      ],
      "execution_count": 0,
      "outputs": []
    },
    {
      "metadata": {
        "id": "0UuNoUR3A0uj",
        "colab_type": "text"
      },
      "cell_type": "markdown",
      "source": [
        "###Lightgbm"
      ]
    },
    {
      "metadata": {
        "id": "NYPfIV3XA31R",
        "colab_type": "code",
        "colab": {}
      },
      "cell_type": "code",
      "source": [
        "downloaded = drive.CreateFile({'id': '1OiAAlkR08ORO7OYTuIjU0mWP4pUDwiW1'})\n",
        "downloaded.GetContentFile('finalized_model_lgbm.sav')"
      ],
      "execution_count": 0,
      "outputs": []
    },
    {
      "metadata": {
        "id": "k5PqoCaOBFfZ",
        "colab_type": "code",
        "outputId": "ff70ce0b-c493-490f-b5b0-5897a5339a8f",
        "colab": {
          "base_uri": "https://localhost:8080/",
          "height": 180
        }
      },
      "cell_type": "code",
      "source": [
        "loaded_model_lgbm = pickle.load(open(\"finalized_model_lgbm.sav\", 'rb'))\n",
        "result = loaded_model_lgbm.score(X_test, y_test)"
      ],
      "execution_count": 0,
      "outputs": [
        {
          "output_type": "error",
          "ename": "AttributeError",
          "evalue": "ignored",
          "traceback": [
            "\u001b[0;31m---------------------------------------------------------------------------\u001b[0m",
            "\u001b[0;31mAttributeError\u001b[0m                            Traceback (most recent call last)",
            "\u001b[0;32m<ipython-input-81-fd11adce8266>\u001b[0m in \u001b[0;36m<module>\u001b[0;34m()\u001b[0m\n\u001b[1;32m      1\u001b[0m \u001b[0mloaded_model_lgbm\u001b[0m \u001b[0;34m=\u001b[0m \u001b[0mpickle\u001b[0m\u001b[0;34m.\u001b[0m\u001b[0mload\u001b[0m\u001b[0;34m(\u001b[0m\u001b[0mopen\u001b[0m\u001b[0;34m(\u001b[0m\u001b[0;34m\"finalized_model_lgbm.sav\"\u001b[0m\u001b[0;34m,\u001b[0m \u001b[0;34m'rb'\u001b[0m\u001b[0;34m)\u001b[0m\u001b[0;34m)\u001b[0m\u001b[0;34m\u001b[0m\u001b[0;34m\u001b[0m\u001b[0m\n\u001b[0;32m----> 2\u001b[0;31m \u001b[0mresult\u001b[0m \u001b[0;34m=\u001b[0m \u001b[0mloaded_model_lgbm\u001b[0m\u001b[0;34m.\u001b[0m\u001b[0mscore\u001b[0m\u001b[0;34m(\u001b[0m\u001b[0mX_test\u001b[0m\u001b[0;34m,\u001b[0m \u001b[0my_test\u001b[0m\u001b[0;34m)\u001b[0m\u001b[0;34m\u001b[0m\u001b[0;34m\u001b[0m\u001b[0m\n\u001b[0m",
            "\u001b[0;31mAttributeError\u001b[0m: 'Booster' object has no attribute 'score'"
          ]
        }
      ]
    },
    {
      "metadata": {
        "id": "AlYeSrJDMJoF",
        "colab_type": "code",
        "colab": {}
      },
      "cell_type": "code",
      "source": [
        "print('Starting predicting...')\n",
        "y_pred_lightgbm = loaded_model_lgbm.predict(X_test_transformed, num_iteration=gbm.best_iteration)\n",
        "\n",
        "# eval\n",
        "print('The rmse of prediction is:', mean_squared_error(y_test, y_pred) ** 0.5)\n",
        "\n",
        "# feature importances\n",
        "print('Feature importances:', list(loaded_model_lgbm.feature_importance()))\n",
        "\n",
        "# Predictions binary\n",
        "threshold = 0.5\n",
        "y_pred = np.where(y_pred > threshold, 1, 0)\n",
        "stats.describe(y_pred)\n",
        "\n",
        "# Show results\n",
        "HelperClass.show_full_classification_report(y_test, y_pred, y_pred_lightgbm, classes)"
      ],
      "execution_count": 0,
      "outputs": []
    },
    {
      "metadata": {
        "colab_type": "text",
        "id": "Yz9093LbJ9tC"
      },
      "cell_type": "markdown",
      "source": [
        "### Naive Bayes"
      ]
    },
    {
      "metadata": {
        "colab_type": "code",
        "id": "nJx_EuSGJ9tE",
        "colab": {}
      },
      "cell_type": "code",
      "source": [
        "downloaded = drive.CreateFile({'id': '1AI2DCy0BpCCwS75KqE8nFChSoXPBclFl'})\n",
        "downloaded.GetContentFile('finalized_model_nb.sav')"
      ],
      "execution_count": 0,
      "outputs": []
    },
    {
      "metadata": {
        "colab_type": "code",
        "id": "51a7G70UJ9tH",
        "colab": {}
      },
      "cell_type": "code",
      "source": [
        "loaded_model = pickle.load(open(\"finalized_model_nb.sav\", 'rb'))\n",
        "result = loaded_model.score(X_test, y_test)"
      ],
      "execution_count": 0,
      "outputs": []
    },
    {
      "metadata": {
        "colab_type": "code",
        "id": "9gJC0mVjJ9tM",
        "colab": {}
      },
      "cell_type": "code",
      "source": [
        "# Predict\n",
        "y_pred = loaded_model.predict(X_test)\n",
        "y_scores_NB = loaded_model.predict_proba(X_test)[:,1]\n",
        "\n",
        "# Show results\n",
        "classes=['Non Transaction', 'Transaction']\n",
        "HelperClass.show_full_classification_report(y_test, y_pred, y_scores_NB, classes)"
      ],
      "execution_count": 0,
      "outputs": []
    },
    {
      "metadata": {
        "colab_type": "text",
        "id": "EXMGOO3pKezN"
      },
      "cell_type": "markdown",
      "source": [
        "### Random Forest"
      ]
    },
    {
      "metadata": {
        "colab_type": "code",
        "id": "GvVUtNj6KezQ",
        "colab": {}
      },
      "cell_type": "code",
      "source": [
        "downloaded = drive.CreateFile({'id': '1WB-I4gvcKjSkhwu_YHsJmggD-JmYRWT8'})\n",
        "downloaded.GetContentFile('finalized_model_rf.sav')"
      ],
      "execution_count": 0,
      "outputs": []
    },
    {
      "metadata": {
        "colab_type": "code",
        "id": "B9CSgDFCKezS",
        "colab": {}
      },
      "cell_type": "code",
      "source": [
        "loaded_model = pickle.load(open(\"finalized_model_rf.sav\", 'rb'))\n",
        "result = loaded_model.score(X_test, y_test)"
      ],
      "execution_count": 0,
      "outputs": []
    },
    {
      "metadata": {
        "colab_type": "code",
        "id": "_m-71sE3KezU",
        "colab": {}
      },
      "cell_type": "code",
      "source": [
        "# Predict\n",
        "y_pred = loaded_model.predict(X_test)\n",
        "y_scores_RF = loaded_model.predict_proba(X_test)[:,1]\n",
        "\n",
        "# Show results\n",
        "classes=['Non Transaction', 'Transaction']\n",
        "HelperClass.show_full_classification_report(y_test, y_pred, y_scores_RF, classes)"
      ],
      "execution_count": 0,
      "outputs": []
    },
    {
      "metadata": {
        "colab_type": "text",
        "id": "9p8JQlSpGCZc"
      },
      "cell_type": "markdown",
      "source": [
        "### Soft Voting Classifier"
      ]
    },
    {
      "metadata": {
        "id": "Th4NbOBPGbbI",
        "colab_type": "code",
        "colab": {}
      },
      "cell_type": "code",
      "source": [
        "# Load Logistic Regression\n",
        "downloaded = drive.CreateFile({'id': '1qmlOPc6YG1B48m0OxIvQFndvyQq4AW87'})\n",
        "downloaded.GetContentFile('finalized_model_logistic.sav')\n",
        "clf_LR_grid_search = pickle.load(open(\"finalized_model_logistic.sav\", 'rb'))"
      ],
      "execution_count": 0,
      "outputs": []
    },
    {
      "metadata": {
        "id": "AHUfxdvEG-2t",
        "colab_type": "code",
        "colab": {}
      },
      "cell_type": "code",
      "source": [
        "# Load Naive Bayes\n",
        "downloaded = drive.CreateFile({'id': '1AI2DCy0BpCCwS75KqE8nFChSoXPBclFl'})\n",
        "downloaded.GetContentFile('finalized_model_nb.sav')\n",
        "clf_NB = pickle.load(open(\"finalized_model_nb.sav\", 'rb'))"
      ],
      "execution_count": 0,
      "outputs": []
    },
    {
      "metadata": {
        "id": "_kNGFjDpHJ7z",
        "colab_type": "code",
        "colab": {}
      },
      "cell_type": "code",
      "source": [
        "# Load Random Forest\n",
        "downloaded = drive.CreateFile({'id': '1WB-I4gvcKjSkhwu_YHsJmggD-JmYRWT8'})\n",
        "downloaded.GetContentFile('finalized_model_rf.sav')\n",
        "clf_RF_grid_search = pickle.load(open(\"finalized_model_rf.sav\", 'rb'))"
      ],
      "execution_count": 0,
      "outputs": []
    },
    {
      "metadata": {
        "colab_type": "code",
        "id": "7Ie4APL5GCZc",
        "colab": {}
      },
      "cell_type": "code",
      "source": [
        "voting_clf = VotingClassifier (\n",
        "        estimators = [('lg', clf_LR_grid_search), ('rf', clf_RF_grid_search)], voting='soft')#('nb', clf_NB), ('rf', clf_RF_grid_search)], voting='soft')"
      ],
      "execution_count": 0,
      "outputs": []
    },
    {
      "metadata": {
        "colab_type": "code",
        "id": "Rjjh7EKCGCZf",
        "colab": {}
      },
      "cell_type": "code",
      "source": [
        "voting_clf.fit(X_train, y_train)\n",
        "\n",
        "y_pred = voting_clf.predict(X_test)\n",
        "y_scores_VotingClassifier = voting_clf.predict_proba(X_test)[:,1]\n",
        "\n",
        "# Show results\n",
        "HelperClass.show_full_classification_report(y_test, y_pred, y_scores_VotingClassifier, classes)"
      ],
      "execution_count": 0,
      "outputs": []
    },
    {
      "metadata": {
        "colab_type": "text",
        "id": "fE07mhc0H8b_"
      },
      "cell_type": "markdown",
      "source": [
        "### Stacking Classifier"
      ]
    },
    {
      "metadata": {
        "colab_type": "code",
        "id": "ROl-qekmH8cA",
        "colab": {}
      },
      "cell_type": "code",
      "source": [
        "# Load Logistic Regression\n",
        "downloaded = drive.CreateFile({'id': '1qmlOPc6YG1B48m0OxIvQFndvyQq4AW87'})\n",
        "downloaded.GetContentFile('finalized_model_logistic.sav')\n",
        "clf_LR_grid_search = pickle.load(open(\"finalized_model_logistic.sav\", 'rb'))"
      ],
      "execution_count": 0,
      "outputs": []
    },
    {
      "metadata": {
        "colab_type": "code",
        "id": "P-VNWVYaH8cC",
        "colab": {}
      },
      "cell_type": "code",
      "source": [
        "# Load Naive Bayes\n",
        "downloaded = drive.CreateFile({'id': '1AI2DCy0BpCCwS75KqE8nFChSoXPBclFl'})\n",
        "downloaded.GetContentFile('finalized_model_nb.sav')\n",
        "clf_NB = pickle.load(open(\"finalized_model_nb.sav\", 'rb'))"
      ],
      "execution_count": 0,
      "outputs": []
    },
    {
      "metadata": {
        "colab_type": "code",
        "id": "Gsa9NyB_H8cH",
        "colab": {}
      },
      "cell_type": "code",
      "source": [
        "# Load Random Forest\n",
        "downloaded = drive.CreateFile({'id': '1WB-I4gvcKjSkhwu_YHsJmggD-JmYRWT8'})\n",
        "downloaded.GetContentFile('finalized_model_rf.sav')\n",
        "clf_RF_grid_search = pickle.load(open(\"finalized_model_rf.sav\", 'rb'))"
      ],
      "execution_count": 0,
      "outputs": []
    },
    {
      "metadata": {
        "colab_type": "code",
        "id": "n_KM4e-2H8cM",
        "colab": {}
      },
      "cell_type": "code",
      "source": [
        "stacking_clf = StackingClassifier(classifiers=[clf_LR_grid_search, clf_NB, clf_RF_grid_search],\n",
        "                          use_probas=True,\n",
        "                          average_probas=False,\n",
        "                          meta_classifier=LogisticRegression())"
      ],
      "execution_count": 0,
      "outputs": []
    },
    {
      "metadata": {
        "colab_type": "code",
        "id": "Opn2Qm4fH8cP",
        "colab": {}
      },
      "cell_type": "code",
      "source": [
        "stacking_clf.fit(X_train, y_train)\n",
        "\n",
        "y_pred = stacking_clf.predict(X_test)\n",
        "y_scores_StackingClassifier = stacking_clf.predict_proba(X_test)[:,1]\n",
        "\n",
        "# Show results\n",
        "HelperClass.show_full_classification_report(y_test, y_pred, y_scores_StackingClassifier, classes)"
      ],
      "execution_count": 0,
      "outputs": []
    }
  ]
}