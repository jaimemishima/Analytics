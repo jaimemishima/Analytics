{
  "nbformat": 4,
  "nbformat_minor": 0,
  "metadata": {
    "colab": {
      "name": "BQintoColab.ipynb",
      "version": "0.3.2",
      "provenance": []
    },
    "kernelspec": {
      "name": "python3",
      "display_name": "Python 3"
    }
  },
  "cells": [
    {
      "metadata": {
        "id": "sdmDG-79q1rX",
        "colab_type": "text"
      },
      "cell_type": "markdown",
      "source": [
        "#Integração Query BQ no Colab"
      ]
    },
    {
      "metadata": {
        "id": "hB5iZY4Mq-o7",
        "colab_type": "text"
      },
      "cell_type": "markdown",
      "source": [
        "## Referências"
      ]
    },
    {
      "metadata": {
        "id": "axTrA4eTrBql",
        "colab_type": "text"
      },
      "cell_type": "markdown",
      "source": [
        "* **Tutorial conexão BQ **https://colab.research.google.com/notebooks/bigquery.ipynb#scrollTo=gisPvdr4Eaui-\n",
        "* **Colunas exportação BQ** https://support.google.com/analytics/answer/3437719?hl=pt-br"
      ]
    },
    {
      "metadata": {
        "id": "oSDSxfW8rQ3H",
        "colab_type": "text"
      },
      "cell_type": "markdown",
      "source": [
        "## Setup"
      ]
    },
    {
      "metadata": {
        "id": "J8bIBveZrSfl",
        "colab_type": "code",
        "colab": {}
      },
      "cell_type": "code",
      "source": [
        "!pip install -U -q PyDrive\n",
        "\n",
        "import pandas as pd"
      ],
      "execution_count": 0,
      "outputs": []
    },
    {
      "metadata": {
        "id": "Xfn06z2yrFlh",
        "colab_type": "text"
      },
      "cell_type": "markdown",
      "source": [
        "## Autenticação Google Drive"
      ]
    },
    {
      "metadata": {
        "id": "ZnzRznXPqt5P",
        "colab_type": "code",
        "outputId": "a515af11-5b59-4108-fafa-13a1d5b76d0c",
        "colab": {
          "base_uri": "https://localhost:8080/",
          "height": 34
        }
      },
      "cell_type": "code",
      "source": [
        "import os\n",
        "from pydrive.auth import GoogleAuth\n",
        "from pydrive.drive import GoogleDrive\n",
        "from google.colab import auth\n",
        "from oauth2client.client import GoogleCredentials\n",
        "\n",
        "# Autentica e cria um cliente PyDrive\n",
        "auth.authenticate_user()\n",
        "gauth = GoogleAuth()\n",
        "gauth.credentials = GoogleCredentials.get_application_default()\n",
        "drive = GoogleDrive(gauth)\n",
        "\n",
        "print('Authenticated')"
      ],
      "execution_count": 2,
      "outputs": [
        {
          "output_type": "stream",
          "text": [
            "Authenticated\n"
          ],
          "name": "stdout"
        }
      ]
    },
    {
      "metadata": {
        "id": "JZ8PJPsVrOzB",
        "colab_type": "text"
      },
      "cell_type": "markdown",
      "source": [
        "## Extração Query BQ"
      ]
    },
    {
      "metadata": {
        "id": "sFWQDiDprk90",
        "colab_type": "text"
      },
      "cell_type": "markdown",
      "source": [
        "A biblioteca **google.cloud.bigquery** permite rodar a query e mostrar o resultado ou salvar em uma dataframe."
      ]
    },
    {
      "metadata": {
        "id": "xZMdtsCOrg1-",
        "colab_type": "code",
        "outputId": "2022d535-aa43-4b07-820a-0554d781265a",
        "colab": {
          "base_uri": "https://localhost:8080/",
          "height": 80
        }
      },
      "cell_type": "code",
      "source": [
        "%%bigquery --project propension df\n",
        "SELECT \n",
        "  COUNT(*) as total_rows\n",
        "FROM `bigquery-public-data.google_analytics_sample.ga_sessions_*`"
      ],
      "execution_count": 3,
      "outputs": [
        {
          "output_type": "execute_result",
          "data": {
            "text/html": [
              "<div>\n",
              "<style scoped>\n",
              "    .dataframe tbody tr th:only-of-type {\n",
              "        vertical-align: middle;\n",
              "    }\n",
              "\n",
              "    .dataframe tbody tr th {\n",
              "        vertical-align: top;\n",
              "    }\n",
              "\n",
              "    .dataframe thead th {\n",
              "        text-align: right;\n",
              "    }\n",
              "</style>\n",
              "<table border=\"1\" class=\"dataframe\">\n",
              "  <thead>\n",
              "    <tr style=\"text-align: right;\">\n",
              "      <th></th>\n",
              "      <th>total_rows</th>\n",
              "    </tr>\n",
              "  </thead>\n",
              "  <tbody>\n",
              "    <tr>\n",
              "      <th>0</th>\n",
              "      <td>903653</td>\n",
              "    </tr>\n",
              "  </tbody>\n",
              "</table>\n",
              "</div>"
            ],
            "text/plain": [
              "   total_rows\n",
              "0      903653"
            ]
          },
          "metadata": {
            "tags": []
          },
          "execution_count": 3
        }
      ]
    },
    {
      "metadata": {
        "id": "wmpNhXwKrqc0",
        "colab_type": "text"
      },
      "cell_type": "markdown",
      "source": [
        "Declara o Cloud Project Id do BQ: https://console.cloud.google.com/bigquery?project=propension&page=savedqueries"
      ]
    },
    {
      "metadata": {
        "id": "gAzXaBDXrrGF",
        "colab_type": "code",
        "colab": {}
      },
      "cell_type": "code",
      "source": [
        "project_id = 'propension'"
      ],
      "execution_count": 0,
      "outputs": []
    },
    {
      "metadata": {
        "id": "TOhk7jCDrwco",
        "colab_type": "text"
      },
      "cell_type": "markdown",
      "source": [
        "Determina o tamanho do dataset do BQ"
      ]
    },
    {
      "metadata": {
        "id": "Ct79BUYXrw-m",
        "colab_type": "code",
        "colab": {
          "base_uri": "https://localhost:8080/",
          "height": 34
        },
        "outputId": "7fb00993-5529-4ee0-bcee-7d04b23ee472"
      },
      "cell_type": "code",
      "source": [
        "from google.cloud import bigquery\n",
        "\n",
        "client = bigquery.Client(project=project_id)\n",
        "\n",
        "sample_count = 2000\n",
        "row_count = client.query('''\n",
        "  SELECT\n",
        "    COUNT(*) as total\n",
        "  FROM `bigquery-public-data.google_analytics_sample.ga_sessions_*`''').to_dataframe().total[0]\n",
        "\n",
        "print('O dataset tem %d linhas' % row_count)"
      ],
      "execution_count": 5,
      "outputs": [
        {
          "output_type": "stream",
          "text": [
            "O dataset tem 903653 linhas\n"
          ],
          "name": "stdout"
        }
      ]
    },
    {
      "metadata": {
        "id": "paThgUREr3Rf",
        "colab_type": "text"
      },
      "cell_type": "markdown",
      "source": [
        "Uso do BQ com o pandas-gbq para fazer a query para o modelo de propensão. \n",
        "[Documentação do Pandas GBQ](https://pandas.pydata.org/pandas-docs/stable/generated/pandas.read_gbq.html)"
      ]
    },
    {
      "metadata": {
        "id": "CQu6a6_br52u",
        "colab_type": "code",
        "colab": {
          "base_uri": "https://localhost:8080/",
          "height": 289
        },
        "outputId": "8c97a49f-96bb-4abd-fda9-aa67ef0e10aa"
      },
      "cell_type": "code",
      "source": [
        "%%time\n",
        "df = pd.io.gbq.read_gbq('''\n",
        "  #standardSQL\n",
        "  SELECT\n",
        "      date,\n",
        "      trafficSource.source AS source,\n",
        "      trafficSource.source AS medium,\n",
        "      fullVisitorId,\n",
        "      channelGrouping,\n",
        "      SUM(totals.pageviews) AS pageviews,\n",
        "      SUM(totals.transactions) AS transactions,\n",
        "      SUM(totals.timeOnSite) AS SUM_totals_timeOnSite,\n",
        "      totals.totalTransactionRevenue AS receita,\n",
        "      device.deviceCategory AS device,\n",
        "      geoNetwork.country AS pais,\n",
        "      MOD(ABS(FARM_FINGERPRINT(fullVisitorId)), 20) as farm_finger\n",
        "  FROM\n",
        "    `bigquery-public-data.google_analytics_sample.ga_sessions_*` #, UNNEST(hits) AS hits\n",
        "  GROUP BY\n",
        "      date,\n",
        "      source,\n",
        "      medium,\n",
        "      fullVisitorId,\n",
        "      channelGrouping,\n",
        "      receita,\n",
        "      device,\n",
        "      pais\n",
        "    \n",
        "  ''', project_id=project_id, verbose=False, dialect='standard')\n",
        "\n",
        "df.head()\n",
        "df.tail(1)"
      ],
      "execution_count": 9,
      "outputs": [
        {
          "output_type": "execute_result",
          "data": {
            "text/html": [
              "<div>\n",
              "<style scoped>\n",
              "    .dataframe tbody tr th:only-of-type {\n",
              "        vertical-align: middle;\n",
              "    }\n",
              "\n",
              "    .dataframe tbody tr th {\n",
              "        vertical-align: top;\n",
              "    }\n",
              "\n",
              "    .dataframe thead th {\n",
              "        text-align: right;\n",
              "    }\n",
              "</style>\n",
              "<table border=\"1\" class=\"dataframe\">\n",
              "  <thead>\n",
              "    <tr style=\"text-align: right;\">\n",
              "      <th></th>\n",
              "      <th>date</th>\n",
              "      <th>source</th>\n",
              "      <th>medium</th>\n",
              "      <th>fullVisitorId</th>\n",
              "      <th>channelGrouping</th>\n",
              "      <th>pageviews</th>\n",
              "      <th>transactions</th>\n",
              "      <th>SUM_totals_timeOnSite</th>\n",
              "      <th>receita</th>\n",
              "      <th>device</th>\n",
              "      <th>pais</th>\n",
              "      <th>farm_finger</th>\n",
              "    </tr>\n",
              "  </thead>\n",
              "  <tbody>\n",
              "    <tr>\n",
              "      <th>0</th>\n",
              "      <td>20170410</td>\n",
              "      <td>google</td>\n",
              "      <td>google</td>\n",
              "      <td>5141006232346734771</td>\n",
              "      <td>(Other)</td>\n",
              "      <td>5</td>\n",
              "      <td>None</td>\n",
              "      <td>94</td>\n",
              "      <td>None</td>\n",
              "      <td>mobile</td>\n",
              "      <td>United States</td>\n",
              "      <td>17</td>\n",
              "    </tr>\n",
              "    <tr>\n",
              "      <th>1</th>\n",
              "      <td>20170415</td>\n",
              "      <td>(not set)</td>\n",
              "      <td>(not set)</td>\n",
              "      <td>1552260720366936947</td>\n",
              "      <td>(Other)</td>\n",
              "      <td>2</td>\n",
              "      <td>None</td>\n",
              "      <td>13</td>\n",
              "      <td>None</td>\n",
              "      <td>desktop</td>\n",
              "      <td>United States</td>\n",
              "      <td>15</td>\n",
              "    </tr>\n",
              "    <tr>\n",
              "      <th>2</th>\n",
              "      <td>20170722</td>\n",
              "      <td>google</td>\n",
              "      <td>google</td>\n",
              "      <td>5302771102738976470</td>\n",
              "      <td>(Other)</td>\n",
              "      <td>1</td>\n",
              "      <td>None</td>\n",
              "      <td>None</td>\n",
              "      <td>None</td>\n",
              "      <td>desktop</td>\n",
              "      <td>United States</td>\n",
              "      <td>15</td>\n",
              "    </tr>\n",
              "    <tr>\n",
              "      <th>3</th>\n",
              "      <td>20170412</td>\n",
              "      <td>(not set)</td>\n",
              "      <td>(not set)</td>\n",
              "      <td>7452432726909106856</td>\n",
              "      <td>(Other)</td>\n",
              "      <td>1</td>\n",
              "      <td>None</td>\n",
              "      <td>None</td>\n",
              "      <td>None</td>\n",
              "      <td>desktop</td>\n",
              "      <td>United States</td>\n",
              "      <td>6</td>\n",
              "    </tr>\n",
              "    <tr>\n",
              "      <th>4</th>\n",
              "      <td>20170413</td>\n",
              "      <td>(not set)</td>\n",
              "      <td>(not set)</td>\n",
              "      <td>9869185717139963120</td>\n",
              "      <td>(Other)</td>\n",
              "      <td>15</td>\n",
              "      <td>None</td>\n",
              "      <td>399</td>\n",
              "      <td>None</td>\n",
              "      <td>mobile</td>\n",
              "      <td>United States</td>\n",
              "      <td>11</td>\n",
              "    </tr>\n",
              "  </tbody>\n",
              "</table>\n",
              "</div>"
            ],
            "text/plain": [
              "       date     source     medium        fullVisitorId channelGrouping  \\\n",
              "0  20170410     google     google  5141006232346734771         (Other)   \n",
              "1  20170415  (not set)  (not set)  1552260720366936947         (Other)   \n",
              "2  20170722     google     google  5302771102738976470         (Other)   \n",
              "3  20170412  (not set)  (not set)  7452432726909106856         (Other)   \n",
              "4  20170413  (not set)  (not set)  9869185717139963120         (Other)   \n",
              "\n",
              "  pageviews transactions SUM_totals_timeOnSite receita   device  \\\n",
              "0         5         None                    94    None   mobile   \n",
              "1         2         None                    13    None  desktop   \n",
              "2         1         None                  None    None  desktop   \n",
              "3         1         None                  None    None  desktop   \n",
              "4        15         None                   399    None   mobile   \n",
              "\n",
              "            pais  farm_finger  \n",
              "0  United States           17  \n",
              "1  United States           15  \n",
              "2  United States           15  \n",
              "3  United States            6  \n",
              "4  United States           11  "
            ]
          },
          "metadata": {
            "tags": []
          },
          "execution_count": 9
        }
      ]
    },
    {
      "metadata": {
        "id": "dvwPssxor9ab",
        "colab_type": "text"
      },
      "cell_type": "markdown",
      "source": [
        "Salva o dataframe da Query do BQ em um .csv. O id abaixo é o do folder de destino onde o arquivo será salvo."
      ]
    },
    {
      "metadata": {
        "id": "juIngc7fr_Um",
        "colab_type": "code",
        "colab": {}
      },
      "cell_type": "code",
      "source": [
        "%%time\n",
        "df.to_csv(\"input_hash.csv\", index=False)\n",
        "file = drive.CreateFile({'parents':[{u'id': '1z8scY025WNyT_3p-1B4sjz_aidLPi1ht'}]})\n",
        "file.SetContentFile(\"input_hash.csv\")\n",
        "file.Upload()"
      ],
      "execution_count": 0,
      "outputs": []
    }
  ]
}