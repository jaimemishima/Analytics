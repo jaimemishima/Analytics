{
 "cells": [
  {
   "cell_type": "markdown",
   "metadata": {},
   "source": [
    "# Aprendizado Supervisionado\n",
    "\n",
    "Jaime Hikaru Mishima\n",
    "\n",
    "nome.sobrenome@gmail.com"
   ]
  },
  {
   "cell_type": "markdown",
   "metadata": {},
   "source": [
    "## Previsão de Cancelamento de cartão\n",
    "A ideia é prever o cancelamento de cartão."
   ]
  },
  {
   "cell_type": "markdown",
   "metadata": {},
   "source": [
    "## 0. Importar Bibliotecas"
   ]
  },
  {
   "cell_type": "code",
   "execution_count": 1,
   "metadata": {},
   "outputs": [],
   "source": [
    "import pandas as pd\n",
    "import numpy as np\n",
    "from sklearn import preprocessing\n",
    "from matplotlib import pyplot as plt\n",
    "import fklearn, matplotlib\n",
    "\n",
    "# Variable selection based on Filter\n",
    "from sklearn.feature_selection import SelectKBest, chi2 \n",
    "from sklearn.preprocessing import MinMaxScaler\n",
    "\n",
    "# Variable selection base on Wrapper\n",
    "from sklearn.feature_selection import RFE\n",
    "from sklearn.linear_model import LogisticRegression\n",
    "\n",
    "# Variable selection based on Random Forest\n",
    "from sklearn.feature_selection import SelectFromModel\n",
    "from sklearn.ensemble import RandomForestClassifier\n",
    "\n",
    "from sklearn.model_selection import train_test_split"
   ]
  },
  {
   "cell_type": "markdown",
   "metadata": {},
   "source": [
    "## 1. Base de Modelagem"
   ]
  },
  {
   "cell_type": "markdown",
   "metadata": {},
   "source": [
    "**Base de modelagem** contendo os dados de ambas as bases e com a variável resposta"
   ]
  },
  {
   "cell_type": "markdown",
   "metadata": {},
   "source": [
    "**Target 1**: Quem cancelou o cartão de crédito"
   ]
  },
  {
   "cell_type": "code",
   "execution_count": 7,
   "metadata": {},
   "outputs": [
    {
     "data": {
      "text/html": [
       "<div>\n",
       "<style scoped>\n",
       "    .dataframe tbody tr th:only-of-type {\n",
       "        vertical-align: middle;\n",
       "    }\n",
       "\n",
       "    .dataframe tbody tr th {\n",
       "        vertical-align: top;\n",
       "    }\n",
       "\n",
       "    .dataframe thead th {\n",
       "        text-align: right;\n",
       "    }\n",
       "</style>\n",
       "<table border=\"1\" class=\"dataframe\">\n",
       "  <thead>\n",
       "    <tr style=\"text-align: right;\">\n",
       "      <th></th>\n",
       "      <th>PerfilEconomico</th>\n",
       "      <th>Sexo</th>\n",
       "      <th>Idade</th>\n",
       "      <th>PerfilCompra</th>\n",
       "      <th>ValorCompraAnual</th>\n",
       "      <th>GastoMax</th>\n",
       "      <th>GastoMedio</th>\n",
       "      <th>UF</th>\n",
       "      <th>CidadeResidencia</th>\n",
       "      <th>RegiaodoPais</th>\n",
       "      <th>NumeroComprasOnline</th>\n",
       "      <th>MesesDesempregado</th>\n",
       "      <th>Anuidade</th>\n",
       "      <th>Target</th>\n",
       "    </tr>\n",
       "  </thead>\n",
       "  <tbody>\n",
       "    <tr>\n",
       "      <th>0</th>\n",
       "      <td>2</td>\n",
       "      <td>mulher</td>\n",
       "      <td>24</td>\n",
       "      <td>2</td>\n",
       "      <td>1875</td>\n",
       "      <td>133.928571</td>\n",
       "      <td>156.250000</td>\n",
       "      <td>MA</td>\n",
       "      <td>Centro Novo do Maranhão</td>\n",
       "      <td>Região Nordeste</td>\n",
       "      <td>13.020833</td>\n",
       "      <td>2</td>\n",
       "      <td>251.193871</td>\n",
       "      <td>1</td>\n",
       "    </tr>\n",
       "    <tr>\n",
       "      <th>1</th>\n",
       "      <td>3</td>\n",
       "      <td>mulher</td>\n",
       "      <td>22</td>\n",
       "      <td>0</td>\n",
       "      <td>725</td>\n",
       "      <td>51.785714</td>\n",
       "      <td>60.416667</td>\n",
       "      <td>PI</td>\n",
       "      <td>Amarante</td>\n",
       "      <td>Região Nordeste</td>\n",
       "      <td>5.492424</td>\n",
       "      <td>13</td>\n",
       "      <td>233.543941</td>\n",
       "      <td>1</td>\n",
       "    </tr>\n",
       "    <tr>\n",
       "      <th>2</th>\n",
       "      <td>3</td>\n",
       "      <td>homem</td>\n",
       "      <td>22</td>\n",
       "      <td>0</td>\n",
       "      <td>72292</td>\n",
       "      <td>5163.714286</td>\n",
       "      <td>6024.333333</td>\n",
       "      <td>MT</td>\n",
       "      <td>Santo Antônio do Leverger</td>\n",
       "      <td>Região Centro-Oeste</td>\n",
       "      <td>547.666667</td>\n",
       "      <td>2</td>\n",
       "      <td>275.436944</td>\n",
       "      <td>1</td>\n",
       "    </tr>\n",
       "    <tr>\n",
       "      <th>3</th>\n",
       "      <td>3</td>\n",
       "      <td>homem</td>\n",
       "      <td>22</td>\n",
       "      <td>1</td>\n",
       "      <td>155</td>\n",
       "      <td>11.071429</td>\n",
       "      <td>12.916667</td>\n",
       "      <td>PR</td>\n",
       "      <td>Quitandinha</td>\n",
       "      <td>Região Sul</td>\n",
       "      <td>1.174242</td>\n",
       "      <td>13</td>\n",
       "      <td>2.003111</td>\n",
       "      <td>1</td>\n",
       "    </tr>\n",
       "    <tr>\n",
       "      <th>4</th>\n",
       "      <td>2</td>\n",
       "      <td>mulher</td>\n",
       "      <td>15</td>\n",
       "      <td>1</td>\n",
       "      <td>26</td>\n",
       "      <td>1.857143</td>\n",
       "      <td>2.166667</td>\n",
       "      <td>SP</td>\n",
       "      <td>Nova Campina</td>\n",
       "      <td>Região Sudeste</td>\n",
       "      <td>0.288889</td>\n",
       "      <td>7</td>\n",
       "      <td>249.334689</td>\n",
       "      <td>1</td>\n",
       "    </tr>\n",
       "  </tbody>\n",
       "</table>\n",
       "</div>"
      ],
      "text/plain": [
       "   PerfilEconomico    Sexo  Idade  PerfilCompra  ValorCompraAnual  \\\n",
       "0                2  mulher     24             2              1875   \n",
       "1                3  mulher     22             0               725   \n",
       "2                3   homem     22             0             72292   \n",
       "3                3   homem     22             1               155   \n",
       "4                2  mulher     15             1                26   \n",
       "\n",
       "      GastoMax   GastoMedio  UF           CidadeResidencia  \\\n",
       "0   133.928571   156.250000  MA    Centro Novo do Maranhão   \n",
       "1    51.785714    60.416667  PI                   Amarante   \n",
       "2  5163.714286  6024.333333  MT  Santo Antônio do Leverger   \n",
       "3    11.071429    12.916667  PR                Quitandinha   \n",
       "4     1.857143     2.166667  SP               Nova Campina   \n",
       "\n",
       "          RegiaodoPais  NumeroComprasOnline  MesesDesempregado    Anuidade  \\\n",
       "0      Região Nordeste            13.020833                  2  251.193871   \n",
       "1      Região Nordeste             5.492424                 13  233.543941   \n",
       "2  Região Centro-Oeste           547.666667                  2  275.436944   \n",
       "3           Região Sul             1.174242                 13    2.003111   \n",
       "4       Região Sudeste             0.288889                  7  249.334689   \n",
       "\n",
       "   Target  \n",
       "0       1  \n",
       "1       1  \n",
       "2       1  \n",
       "3       1  \n",
       "4       1  "
      ]
     },
     "execution_count": 7,
     "metadata": {},
     "output_type": "execute_result"
    }
   ],
   "source": [
    "dados_cancelamento = pd.read_csv('CartaoCredito_cancelamento.csv')\n",
    "dados_cancelamento.drop(columns=['ID'], inplace=True)\n",
    "dados_cancelamento['Target'] = 1\n",
    "dados_cancelamento['Anuidade'] = dados_cancelamento['Anuidade'].str.replace(',', '.').astype(float)\n",
    "dados_cancelamento.head()"
   ]
  },
  {
   "cell_type": "markdown",
   "metadata": {},
   "source": [
    "**Target 0**: Quem não cancelou o cartão de crédito "
   ]
  },
  {
   "cell_type": "code",
   "execution_count": 8,
   "metadata": {},
   "outputs": [
    {
     "data": {
      "text/html": [
       "<div>\n",
       "<style scoped>\n",
       "    .dataframe tbody tr th:only-of-type {\n",
       "        vertical-align: middle;\n",
       "    }\n",
       "\n",
       "    .dataframe tbody tr th {\n",
       "        vertical-align: top;\n",
       "    }\n",
       "\n",
       "    .dataframe thead th {\n",
       "        text-align: right;\n",
       "    }\n",
       "</style>\n",
       "<table border=\"1\" class=\"dataframe\">\n",
       "  <thead>\n",
       "    <tr style=\"text-align: right;\">\n",
       "      <th></th>\n",
       "      <th>PerfilEconomico</th>\n",
       "      <th>Sexo</th>\n",
       "      <th>Idade</th>\n",
       "      <th>PerfilCompra</th>\n",
       "      <th>ValorCompraAnual</th>\n",
       "      <th>GastoMax</th>\n",
       "      <th>GastoMedio</th>\n",
       "      <th>UF</th>\n",
       "      <th>CidadeResidencia</th>\n",
       "      <th>RegiaodoPais</th>\n",
       "      <th>NumeroComprasOnline</th>\n",
       "      <th>MesesDesempregado</th>\n",
       "      <th>Anuidade</th>\n",
       "      <th>Target</th>\n",
       "    </tr>\n",
       "  </thead>\n",
       "  <tbody>\n",
       "    <tr>\n",
       "      <th>0</th>\n",
       "      <td>3</td>\n",
       "      <td>homem</td>\n",
       "      <td>22</td>\n",
       "      <td>1</td>\n",
       "      <td>7250.0</td>\n",
       "      <td>517.857143</td>\n",
       "      <td>604.166667</td>\n",
       "      <td>MG</td>\n",
       "      <td>Morada Nova de Minas</td>\n",
       "      <td>Região Sudeste</td>\n",
       "      <td>54.924242</td>\n",
       "      <td>5</td>\n",
       "      <td>62.930401</td>\n",
       "      <td>0</td>\n",
       "    </tr>\n",
       "    <tr>\n",
       "      <th>1</th>\n",
       "      <td>1</td>\n",
       "      <td>mulher</td>\n",
       "      <td>38</td>\n",
       "      <td>1</td>\n",
       "      <td>71283.0</td>\n",
       "      <td>5091.642857</td>\n",
       "      <td>5940.250000</td>\n",
       "      <td>RN</td>\n",
       "      <td>Marcelino Vieira</td>\n",
       "      <td>Região Nordeste</td>\n",
       "      <td>312.644737</td>\n",
       "      <td>7</td>\n",
       "      <td>37.915346</td>\n",
       "      <td>0</td>\n",
       "    </tr>\n",
       "    <tr>\n",
       "      <th>2</th>\n",
       "      <td>3</td>\n",
       "      <td>mulher</td>\n",
       "      <td>26</td>\n",
       "      <td>0</td>\n",
       "      <td>7925.0</td>\n",
       "      <td>566.071429</td>\n",
       "      <td>660.416667</td>\n",
       "      <td>PR</td>\n",
       "      <td>Agudos do Sul</td>\n",
       "      <td>Região Sul</td>\n",
       "      <td>50.801282</td>\n",
       "      <td>6</td>\n",
       "      <td>60.999319</td>\n",
       "      <td>0</td>\n",
       "    </tr>\n",
       "    <tr>\n",
       "      <th>3</th>\n",
       "      <td>1</td>\n",
       "      <td>mulher</td>\n",
       "      <td>35</td>\n",
       "      <td>1</td>\n",
       "      <td>531.0</td>\n",
       "      <td>37.928571</td>\n",
       "      <td>44.250000</td>\n",
       "      <td>PR</td>\n",
       "      <td>Congonhinhas</td>\n",
       "      <td>Região Sul</td>\n",
       "      <td>2.528571</td>\n",
       "      <td>7</td>\n",
       "      <td>5.394438</td>\n",
       "      <td>0</td>\n",
       "    </tr>\n",
       "    <tr>\n",
       "      <th>4</th>\n",
       "      <td>3</td>\n",
       "      <td>homem</td>\n",
       "      <td>35</td>\n",
       "      <td>0</td>\n",
       "      <td>805.0</td>\n",
       "      <td>57.500000</td>\n",
       "      <td>67.083333</td>\n",
       "      <td>BA</td>\n",
       "      <td>Morpará</td>\n",
       "      <td>Região Nordeste</td>\n",
       "      <td>3.833333</td>\n",
       "      <td>0</td>\n",
       "      <td>40.996475</td>\n",
       "      <td>0</td>\n",
       "    </tr>\n",
       "  </tbody>\n",
       "</table>\n",
       "</div>"
      ],
      "text/plain": [
       "   PerfilEconomico    Sexo  Idade  PerfilCompra  ValorCompraAnual  \\\n",
       "0                3   homem     22             1            7250.0   \n",
       "1                1  mulher     38             1           71283.0   \n",
       "2                3  mulher     26             0            7925.0   \n",
       "3                1  mulher     35             1             531.0   \n",
       "4                3   homem     35             0             805.0   \n",
       "\n",
       "      GastoMax   GastoMedio  UF      CidadeResidencia     RegiaodoPais  \\\n",
       "0   517.857143   604.166667  MG  Morada Nova de Minas   Região Sudeste   \n",
       "1  5091.642857  5940.250000  RN      Marcelino Vieira  Região Nordeste   \n",
       "2   566.071429   660.416667  PR         Agudos do Sul       Região Sul   \n",
       "3    37.928571    44.250000  PR          Congonhinhas       Região Sul   \n",
       "4    57.500000    67.083333  BA               Morpará  Região Nordeste   \n",
       "\n",
       "   NumeroComprasOnline  MesesDesempregado   Anuidade  Target  \n",
       "0            54.924242                  5  62.930401       0  \n",
       "1           312.644737                  7  37.915346       0  \n",
       "2            50.801282                  6  60.999319       0  \n",
       "3             2.528571                  7   5.394438       0  \n",
       "4             3.833333                  0  40.996475       0  "
      ]
     },
     "execution_count": 8,
     "metadata": {},
     "output_type": "execute_result"
    }
   ],
   "source": [
    "dados_sem_cancelamento = pd.read_csv('CartaoCredito_semtarget.csv')\n",
    "dados_sem_cancelamento.drop(columns=['ID'], inplace=True)\n",
    "dados_sem_cancelamento['Target'] = 0\n",
    "dados_sem_cancelamento['Anuidade'] = dados_sem_cancelamento['Anuidade'].str.replace(',', '.').astype(float)\n",
    "dados_sem_cancelamento.head()"
   ]
  },
  {
   "cell_type": "markdown",
   "metadata": {},
   "source": [
    "**Base final**: Dados concatenados"
   ]
  },
  {
   "cell_type": "code",
   "execution_count": 9,
   "metadata": {},
   "outputs": [
    {
     "data": {
      "text/html": [
       "<div>\n",
       "<style scoped>\n",
       "    .dataframe tbody tr th:only-of-type {\n",
       "        vertical-align: middle;\n",
       "    }\n",
       "\n",
       "    .dataframe tbody tr th {\n",
       "        vertical-align: top;\n",
       "    }\n",
       "\n",
       "    .dataframe thead th {\n",
       "        text-align: right;\n",
       "    }\n",
       "</style>\n",
       "<table border=\"1\" class=\"dataframe\">\n",
       "  <thead>\n",
       "    <tr style=\"text-align: right;\">\n",
       "      <th></th>\n",
       "      <th>PerfilEconomico</th>\n",
       "      <th>Sexo</th>\n",
       "      <th>Idade</th>\n",
       "      <th>PerfilCompra</th>\n",
       "      <th>ValorCompraAnual</th>\n",
       "      <th>GastoMax</th>\n",
       "      <th>GastoMedio</th>\n",
       "      <th>UF</th>\n",
       "      <th>CidadeResidencia</th>\n",
       "      <th>RegiaodoPais</th>\n",
       "      <th>NumeroComprasOnline</th>\n",
       "      <th>MesesDesempregado</th>\n",
       "      <th>Anuidade</th>\n",
       "      <th>Target</th>\n",
       "    </tr>\n",
       "  </thead>\n",
       "  <tbody>\n",
       "    <tr>\n",
       "      <th>0</th>\n",
       "      <td>2</td>\n",
       "      <td>mulher</td>\n",
       "      <td>24</td>\n",
       "      <td>2</td>\n",
       "      <td>1875.0</td>\n",
       "      <td>133.928571</td>\n",
       "      <td>156.250000</td>\n",
       "      <td>MA</td>\n",
       "      <td>Centro Novo do Maranhão</td>\n",
       "      <td>Região Nordeste</td>\n",
       "      <td>13.020833</td>\n",
       "      <td>2</td>\n",
       "      <td>251.193871</td>\n",
       "      <td>1</td>\n",
       "    </tr>\n",
       "    <tr>\n",
       "      <th>1</th>\n",
       "      <td>3</td>\n",
       "      <td>mulher</td>\n",
       "      <td>22</td>\n",
       "      <td>0</td>\n",
       "      <td>725.0</td>\n",
       "      <td>51.785714</td>\n",
       "      <td>60.416667</td>\n",
       "      <td>PI</td>\n",
       "      <td>Amarante</td>\n",
       "      <td>Região Nordeste</td>\n",
       "      <td>5.492424</td>\n",
       "      <td>13</td>\n",
       "      <td>233.543941</td>\n",
       "      <td>1</td>\n",
       "    </tr>\n",
       "    <tr>\n",
       "      <th>2</th>\n",
       "      <td>3</td>\n",
       "      <td>homem</td>\n",
       "      <td>22</td>\n",
       "      <td>0</td>\n",
       "      <td>72292.0</td>\n",
       "      <td>5163.714286</td>\n",
       "      <td>6024.333333</td>\n",
       "      <td>MT</td>\n",
       "      <td>Santo Antônio do Leverger</td>\n",
       "      <td>Região Centro-Oeste</td>\n",
       "      <td>547.666667</td>\n",
       "      <td>2</td>\n",
       "      <td>275.436944</td>\n",
       "      <td>1</td>\n",
       "    </tr>\n",
       "    <tr>\n",
       "      <th>3</th>\n",
       "      <td>3</td>\n",
       "      <td>homem</td>\n",
       "      <td>22</td>\n",
       "      <td>1</td>\n",
       "      <td>155.0</td>\n",
       "      <td>11.071429</td>\n",
       "      <td>12.916667</td>\n",
       "      <td>PR</td>\n",
       "      <td>Quitandinha</td>\n",
       "      <td>Região Sul</td>\n",
       "      <td>1.174242</td>\n",
       "      <td>13</td>\n",
       "      <td>2.003111</td>\n",
       "      <td>1</td>\n",
       "    </tr>\n",
       "    <tr>\n",
       "      <th>4</th>\n",
       "      <td>2</td>\n",
       "      <td>mulher</td>\n",
       "      <td>15</td>\n",
       "      <td>1</td>\n",
       "      <td>26.0</td>\n",
       "      <td>1.857143</td>\n",
       "      <td>2.166667</td>\n",
       "      <td>SP</td>\n",
       "      <td>Nova Campina</td>\n",
       "      <td>Região Sudeste</td>\n",
       "      <td>0.288889</td>\n",
       "      <td>7</td>\n",
       "      <td>249.334689</td>\n",
       "      <td>1</td>\n",
       "    </tr>\n",
       "  </tbody>\n",
       "</table>\n",
       "</div>"
      ],
      "text/plain": [
       "   PerfilEconomico    Sexo  Idade  PerfilCompra  ValorCompraAnual  \\\n",
       "0                2  mulher     24             2            1875.0   \n",
       "1                3  mulher     22             0             725.0   \n",
       "2                3   homem     22             0           72292.0   \n",
       "3                3   homem     22             1             155.0   \n",
       "4                2  mulher     15             1              26.0   \n",
       "\n",
       "      GastoMax   GastoMedio  UF           CidadeResidencia  \\\n",
       "0   133.928571   156.250000  MA    Centro Novo do Maranhão   \n",
       "1    51.785714    60.416667  PI                   Amarante   \n",
       "2  5163.714286  6024.333333  MT  Santo Antônio do Leverger   \n",
       "3    11.071429    12.916667  PR                Quitandinha   \n",
       "4     1.857143     2.166667  SP               Nova Campina   \n",
       "\n",
       "          RegiaodoPais  NumeroComprasOnline  MesesDesempregado    Anuidade  \\\n",
       "0      Região Nordeste            13.020833                  2  251.193871   \n",
       "1      Região Nordeste             5.492424                 13  233.543941   \n",
       "2  Região Centro-Oeste           547.666667                  2  275.436944   \n",
       "3           Região Sul             1.174242                 13    2.003111   \n",
       "4       Região Sudeste             0.288889                  7  249.334689   \n",
       "\n",
       "   Target  \n",
       "0       1  \n",
       "1       1  \n",
       "2       1  \n",
       "3       1  \n",
       "4       1  "
      ]
     },
     "execution_count": 9,
     "metadata": {},
     "output_type": "execute_result"
    }
   ],
   "source": [
    "dados = pd.concat([dados_cancelamento, dados_sem_cancelamento])\n",
    "dados.head()"
   ]
  },
  {
   "cell_type": "markdown",
   "metadata": {},
   "source": [
    "## 2. EDA da Base"
   ]
  },
  {
   "cell_type": "markdown",
   "metadata": {},
   "source": [
    "Análise exploratória serve para desvendar um pouco do processo gerador de dados. Quanto mais souber sobre como os dados são gerados, melhor será as chances de usar a técnica de modelagem mais adequada. Algumas análises são padrões em todos os processos de análise exploratória:\n",
    "\n",
    "1. Análise de distribuição. Ex: qual a média, mínimo e máximo de cada variável\n",
    "2. Análise de dados faltantes. Ex: Quais variáveis têm dados faltantes? Qual a proporção de dados faltantes por variável? Porque esses dados estão faltando? É um bug ou uma característica do processo gerador de dados?\n",
    "3. Variáveis categóricas. Existem variáveis categóricas? Qual a cardinalidade das variáveis categóricas? As categorias são ordenadas ou sem ordem?\n",
    "4. Correlação. Qual a correlação entre variáveis?\n",
    "5. Censura: Quais as limitações do target? Há algum processo de espera temporal entre a observação das variáveis e a observação do target (em problemas de previsão, a resposta geralmente é sim!). Como é esse processo. Há alguma outra variável que limite o target?"
   ]
  },
  {
   "cell_type": "markdown",
   "metadata": {},
   "source": [
    "### 2.1 Análise de distribuição\n",
    "Observamos alguns valores estranhos, por exemplo `ValorCompraAnual` com máximo de `5123292` e `NumeroComprasOnline` com máximo de `34107625`.\n",
    "\n",
    "Provavelmente não são valores de compras anuais e número de compras online reais dos clientes."
   ]
  },
  {
   "cell_type": "code",
   "execution_count": 11,
   "metadata": {},
   "outputs": [
    {
     "data": {
      "text/html": [
       "<div>\n",
       "<style scoped>\n",
       "    .dataframe tbody tr th:only-of-type {\n",
       "        vertical-align: middle;\n",
       "    }\n",
       "\n",
       "    .dataframe tbody tr th {\n",
       "        vertical-align: top;\n",
       "    }\n",
       "\n",
       "    .dataframe thead th {\n",
       "        text-align: right;\n",
       "    }\n",
       "</style>\n",
       "<table border=\"1\" class=\"dataframe\">\n",
       "  <thead>\n",
       "    <tr style=\"text-align: right;\">\n",
       "      <th></th>\n",
       "      <th>count</th>\n",
       "      <th>mean</th>\n",
       "      <th>std</th>\n",
       "      <th>min</th>\n",
       "      <th>25%</th>\n",
       "      <th>50%</th>\n",
       "      <th>75%</th>\n",
       "      <th>max</th>\n",
       "    </tr>\n",
       "  </thead>\n",
       "  <tbody>\n",
       "    <tr>\n",
       "      <th>PerfilEconomico</th>\n",
       "      <td>1191.00</td>\n",
       "      <td>2.29</td>\n",
       "      <td>0.84</td>\n",
       "      <td>1.00</td>\n",
       "      <td>2.00</td>\n",
       "      <td>3.00</td>\n",
       "      <td>3.00</td>\n",
       "      <td>3.00</td>\n",
       "    </tr>\n",
       "    <tr>\n",
       "      <th>Idade</th>\n",
       "      <td>1191.00</td>\n",
       "      <td>30.27</td>\n",
       "      <td>12.36</td>\n",
       "      <td>10.00</td>\n",
       "      <td>22.00</td>\n",
       "      <td>26.00</td>\n",
       "      <td>36.00</td>\n",
       "      <td>92.00</td>\n",
       "    </tr>\n",
       "    <tr>\n",
       "      <th>PerfilCompra</th>\n",
       "      <td>1191.00</td>\n",
       "      <td>0.53</td>\n",
       "      <td>1.08</td>\n",
       "      <td>0.00</td>\n",
       "      <td>0.00</td>\n",
       "      <td>0.00</td>\n",
       "      <td>1.00</td>\n",
       "      <td>8.00</td>\n",
       "    </tr>\n",
       "    <tr>\n",
       "      <th>ValorCompraAnual</th>\n",
       "      <td>1163.00</td>\n",
       "      <td>108034.13</td>\n",
       "      <td>366794.50</td>\n",
       "      <td>0.00</td>\n",
       "      <td>167.00</td>\n",
       "      <td>2625.00</td>\n",
       "      <td>78667.00</td>\n",
       "      <td>5123292.00</td>\n",
       "    </tr>\n",
       "    <tr>\n",
       "      <th>GastoMax</th>\n",
       "      <td>1191.00</td>\n",
       "      <td>7834.60</td>\n",
       "      <td>26481.77</td>\n",
       "      <td>0.00</td>\n",
       "      <td>11.71</td>\n",
       "      <td>187.50</td>\n",
       "      <td>5610.14</td>\n",
       "      <td>365949.43</td>\n",
       "    </tr>\n",
       "    <tr>\n",
       "      <th>GastoMedio</th>\n",
       "      <td>1191.00</td>\n",
       "      <td>9140.37</td>\n",
       "      <td>30895.40</td>\n",
       "      <td>0.00</td>\n",
       "      <td>13.67</td>\n",
       "      <td>218.75</td>\n",
       "      <td>6545.17</td>\n",
       "      <td>426941.00</td>\n",
       "    </tr>\n",
       "    <tr>\n",
       "      <th>NumeroComprasOnline</th>\n",
       "      <td>1191.00</td>\n",
       "      <td>66806.38</td>\n",
       "      <td>1404381.47</td>\n",
       "      <td>0.00</td>\n",
       "      <td>1.16</td>\n",
       "      <td>13.21</td>\n",
       "      <td>559.97</td>\n",
       "      <td>34107625.00</td>\n",
       "    </tr>\n",
       "    <tr>\n",
       "      <th>MesesDesempregado</th>\n",
       "      <td>1191.00</td>\n",
       "      <td>5.09</td>\n",
       "      <td>3.48</td>\n",
       "      <td>0.00</td>\n",
       "      <td>2.00</td>\n",
       "      <td>5.00</td>\n",
       "      <td>8.00</td>\n",
       "      <td>14.00</td>\n",
       "    </tr>\n",
       "    <tr>\n",
       "      <th>Anuidade</th>\n",
       "      <td>1191.00</td>\n",
       "      <td>83.57</td>\n",
       "      <td>69.07</td>\n",
       "      <td>0.01</td>\n",
       "      <td>33.55</td>\n",
       "      <td>69.10</td>\n",
       "      <td>107.13</td>\n",
       "      <td>309.38</td>\n",
       "    </tr>\n",
       "    <tr>\n",
       "      <th>Target</th>\n",
       "      <td>1191.00</td>\n",
       "      <td>0.25</td>\n",
       "      <td>0.43</td>\n",
       "      <td>0.00</td>\n",
       "      <td>0.00</td>\n",
       "      <td>0.00</td>\n",
       "      <td>1.00</td>\n",
       "      <td>1.00</td>\n",
       "    </tr>\n",
       "  </tbody>\n",
       "</table>\n",
       "</div>"
      ],
      "text/plain": [
       "                      count      mean        std   min    25%     50%  \\\n",
       "PerfilEconomico     1191.00      2.29       0.84  1.00   2.00    3.00   \n",
       "Idade               1191.00     30.27      12.36 10.00  22.00   26.00   \n",
       "PerfilCompra        1191.00      0.53       1.08  0.00   0.00    0.00   \n",
       "ValorCompraAnual    1163.00 108034.13  366794.50  0.00 167.00 2625.00   \n",
       "GastoMax            1191.00   7834.60   26481.77  0.00  11.71  187.50   \n",
       "GastoMedio          1191.00   9140.37   30895.40  0.00  13.67  218.75   \n",
       "NumeroComprasOnline 1191.00  66806.38 1404381.47  0.00   1.16   13.21   \n",
       "MesesDesempregado   1191.00      5.09       3.48  0.00   2.00    5.00   \n",
       "Anuidade            1191.00     83.57      69.07  0.01  33.55   69.10   \n",
       "Target              1191.00      0.25       0.43  0.00   0.00    0.00   \n",
       "\n",
       "                         75%         max  \n",
       "PerfilEconomico         3.00        3.00  \n",
       "Idade                  36.00       92.00  \n",
       "PerfilCompra            1.00        8.00  \n",
       "ValorCompraAnual    78667.00  5123292.00  \n",
       "GastoMax             5610.14   365949.43  \n",
       "GastoMedio           6545.17   426941.00  \n",
       "NumeroComprasOnline   559.97 34107625.00  \n",
       "MesesDesempregado       8.00       14.00  \n",
       "Anuidade              107.13      309.38  \n",
       "Target                  1.00        1.00  "
      ]
     },
     "execution_count": 11,
     "metadata": {},
     "output_type": "execute_result"
    }
   ],
   "source": [
    "pd.set_option('display.float_format', lambda x: '%.2f' % x)\n",
    "dados.describe().transpose()"
   ]
  },
  {
   "cell_type": "markdown",
   "metadata": {},
   "source": [
    "### 2.2 Valores Nulos\n",
    "Podemos ver que ValorCompraAnual tem valores nulos"
   ]
  },
  {
   "cell_type": "code",
   "execution_count": 12,
   "metadata": {},
   "outputs": [
    {
     "data": {
      "text/plain": [
       "PerfilEconomico       0.00\n",
       "Sexo                  0.00\n",
       "Idade                 0.00\n",
       "PerfilCompra          0.00\n",
       "ValorCompraAnual      0.02\n",
       "GastoMax              0.00\n",
       "GastoMedio            0.00\n",
       "UF                    0.00\n",
       "CidadeResidencia      0.00\n",
       "RegiaodoPais          0.00\n",
       "NumeroComprasOnline   0.00\n",
       "MesesDesempregado     0.00\n",
       "Anuidade              0.00\n",
       "Target                0.00\n",
       "dtype: float64"
      ]
     },
     "execution_count": 12,
     "metadata": {},
     "output_type": "execute_result"
    }
   ],
   "source": [
    "dados.isna().mean()"
   ]
  },
  {
   "cell_type": "code",
   "execution_count": 13,
   "metadata": {},
   "outputs": [],
   "source": [
    "# Preenche com a média\n",
    "# Decidi fazer usando o pipeline usando fklearn no passo 3\n",
    "# dados['ValorCompraAnual'] = dados['ValorCompraAnual'].fillna(dados['ValorCompraAnual'].mean())"
   ]
  },
  {
   "cell_type": "markdown",
   "metadata": {},
   "source": [
    "### 2.3 Cardinalidade\n",
    "Sexo, PerfilEconomico, RegiaodoPais, PerfilCompra tem baixa cardinalidade"
   ]
  },
  {
   "cell_type": "code",
   "execution_count": 14,
   "metadata": {},
   "outputs": [
    {
     "data": {
      "text/plain": [
       "Sexo                      2\n",
       "Target                    2\n",
       "PerfilEconomico           3\n",
       "RegiaodoPais              5\n",
       "PerfilCompra              7\n",
       "MesesDesempregado        15\n",
       "UF                       26\n",
       "Idade                    65\n",
       "ValorCompraAnual        260\n",
       "GastoMax                261\n",
       "GastoMedio              261\n",
       "NumeroComprasOnline     704\n",
       "CidadeResidencia        851\n",
       "Anuidade               1191\n",
       "dtype: int64"
      ]
     },
     "execution_count": 14,
     "metadata": {},
     "output_type": "execute_result"
    }
   ],
   "source": [
    "dados.apply(pd.Series.nunique).sort_values()"
   ]
  },
  {
   "cell_type": "markdown",
   "metadata": {},
   "source": [
    "### 2.4 Target\n",
    "\n",
    "Vamos usar como target o cancelamento do cartão.\n",
    "\n",
    "É uma boa prática gravar coisas importantes em variáveis, e depois chamar o nome da variável."
   ]
  },
  {
   "cell_type": "code",
   "execution_count": 15,
   "metadata": {},
   "outputs": [],
   "source": [
    "target = \"Target\""
   ]
  },
  {
   "cell_type": "code",
   "execution_count": 16,
   "metadata": {},
   "outputs": [
    {
     "data": {
      "text/plain": [
       "<matplotlib.axes._subplots.AxesSubplot at 0x1a10212c90>"
      ]
     },
     "execution_count": 16,
     "metadata": {},
     "output_type": "execute_result"
    },
    {
     "data": {
      "image/png": "[encoded data removed]",
      "text/plain": [
       "<Figure size 432x288 with 1 Axes>"
      ]
     },
     "metadata": {
      "needs_background": "light"
     },
     "output_type": "display_data"
    }
   ],
   "source": [
    "dados[target].plot.hist(bins = 100)"
   ]
  },
  {
   "cell_type": "markdown",
   "metadata": {},
   "source": [
    "### 2.5 Correlação\n",
    "Queremos ver quais as variáveis que estão mais relacionadas com o target de alguma forma.\n",
    "\n",
    "*Meses desempregado* parece ser uma variável bem forte."
   ]
  },
  {
   "cell_type": "code",
   "execution_count": 17,
   "metadata": {},
   "outputs": [
    {
     "data": {
      "text/plain": [
       "GastoMax              -0.03\n",
       "GastoMedio            -0.03\n",
       "PerfilEconomico       -0.03\n",
       "ValorCompraAnual      -0.03\n",
       "Idade                 -0.02\n",
       "PerfilCompra           0.01\n",
       "NumeroComprasOnline    0.02\n",
       "MesesDesempregado      0.32\n",
       "Anuidade               0.61\n",
       "Target                 1.00\n",
       "Name: Target, dtype: float64"
      ]
     },
     "execution_count": 17,
     "metadata": {},
     "output_type": "execute_result"
    }
   ],
   "source": [
    "dados.corr(method='pearson')[target].sort_values()"
   ]
  },
  {
   "cell_type": "markdown",
   "metadata": {},
   "source": [
    "É importante olhar como as features estão relacionadas entre si. \n",
    "\n",
    "Por exemplo, não queremos usar duas features muito correlacionadas no modelo ao mesmo tempo."
   ]
  },
  {
   "cell_type": "code",
   "execution_count": 18,
   "metadata": {},
   "outputs": [
    {
     "data": {
      "text/html": [
       "<div>\n",
       "<style scoped>\n",
       "    .dataframe tbody tr th:only-of-type {\n",
       "        vertical-align: middle;\n",
       "    }\n",
       "\n",
       "    .dataframe tbody tr th {\n",
       "        vertical-align: top;\n",
       "    }\n",
       "\n",
       "    .dataframe thead th {\n",
       "        text-align: right;\n",
       "    }\n",
       "</style>\n",
       "<table border=\"1\" class=\"dataframe\">\n",
       "  <thead>\n",
       "    <tr style=\"text-align: right;\">\n",
       "      <th></th>\n",
       "      <th>PerfilEconomico</th>\n",
       "      <th>Idade</th>\n",
       "      <th>PerfilCompra</th>\n",
       "      <th>ValorCompraAnual</th>\n",
       "      <th>GastoMax</th>\n",
       "      <th>GastoMedio</th>\n",
       "      <th>NumeroComprasOnline</th>\n",
       "      <th>MesesDesempregado</th>\n",
       "      <th>Anuidade</th>\n",
       "      <th>Target</th>\n",
       "    </tr>\n",
       "  </thead>\n",
       "  <tbody>\n",
       "    <tr>\n",
       "      <th>PerfilEconomico</th>\n",
       "      <td>1.00</td>\n",
       "      <td>-0.32</td>\n",
       "      <td>0.08</td>\n",
       "      <td>-0.26</td>\n",
       "      <td>-0.27</td>\n",
       "      <td>-0.27</td>\n",
       "      <td>-0.06</td>\n",
       "      <td>0.01</td>\n",
       "      <td>-0.03</td>\n",
       "      <td>-0.03</td>\n",
       "    </tr>\n",
       "    <tr>\n",
       "      <th>Idade</th>\n",
       "      <td>-0.32</td>\n",
       "      <td>1.00</td>\n",
       "      <td>-0.07</td>\n",
       "      <td>0.05</td>\n",
       "      <td>0.05</td>\n",
       "      <td>0.05</td>\n",
       "      <td>-0.03</td>\n",
       "      <td>-0.03</td>\n",
       "      <td>-0.03</td>\n",
       "      <td>-0.02</td>\n",
       "    </tr>\n",
       "    <tr>\n",
       "      <th>PerfilCompra</th>\n",
       "      <td>0.08</td>\n",
       "      <td>-0.07</td>\n",
       "      <td>1.00</td>\n",
       "      <td>-0.04</td>\n",
       "      <td>-0.04</td>\n",
       "      <td>-0.04</td>\n",
       "      <td>-0.02</td>\n",
       "      <td>0.03</td>\n",
       "      <td>0.01</td>\n",
       "      <td>0.01</td>\n",
       "    </tr>\n",
       "    <tr>\n",
       "      <th>ValorCompraAnual</th>\n",
       "      <td>-0.26</td>\n",
       "      <td>0.05</td>\n",
       "      <td>-0.04</td>\n",
       "      <td>1.00</td>\n",
       "      <td>1.00</td>\n",
       "      <td>1.00</td>\n",
       "      <td>0.08</td>\n",
       "      <td>-0.03</td>\n",
       "      <td>0.00</td>\n",
       "      <td>-0.03</td>\n",
       "    </tr>\n",
       "    <tr>\n",
       "      <th>GastoMax</th>\n",
       "      <td>-0.27</td>\n",
       "      <td>0.05</td>\n",
       "      <td>-0.04</td>\n",
       "      <td>1.00</td>\n",
       "      <td>1.00</td>\n",
       "      <td>1.00</td>\n",
       "      <td>0.08</td>\n",
       "      <td>-0.03</td>\n",
       "      <td>-0.00</td>\n",
       "      <td>-0.03</td>\n",
       "    </tr>\n",
       "    <tr>\n",
       "      <th>GastoMedio</th>\n",
       "      <td>-0.27</td>\n",
       "      <td>0.05</td>\n",
       "      <td>-0.04</td>\n",
       "      <td>1.00</td>\n",
       "      <td>1.00</td>\n",
       "      <td>1.00</td>\n",
       "      <td>0.08</td>\n",
       "      <td>-0.03</td>\n",
       "      <td>-0.00</td>\n",
       "      <td>-0.03</td>\n",
       "    </tr>\n",
       "    <tr>\n",
       "      <th>NumeroComprasOnline</th>\n",
       "      <td>-0.06</td>\n",
       "      <td>-0.03</td>\n",
       "      <td>-0.02</td>\n",
       "      <td>0.08</td>\n",
       "      <td>0.08</td>\n",
       "      <td>0.08</td>\n",
       "      <td>1.00</td>\n",
       "      <td>-0.00</td>\n",
       "      <td>0.01</td>\n",
       "      <td>0.02</td>\n",
       "    </tr>\n",
       "    <tr>\n",
       "      <th>MesesDesempregado</th>\n",
       "      <td>0.01</td>\n",
       "      <td>-0.03</td>\n",
       "      <td>0.03</td>\n",
       "      <td>-0.03</td>\n",
       "      <td>-0.03</td>\n",
       "      <td>-0.03</td>\n",
       "      <td>-0.00</td>\n",
       "      <td>1.00</td>\n",
       "      <td>0.19</td>\n",
       "      <td>0.32</td>\n",
       "    </tr>\n",
       "    <tr>\n",
       "      <th>Anuidade</th>\n",
       "      <td>-0.03</td>\n",
       "      <td>-0.03</td>\n",
       "      <td>0.01</td>\n",
       "      <td>0.00</td>\n",
       "      <td>-0.00</td>\n",
       "      <td>-0.00</td>\n",
       "      <td>0.01</td>\n",
       "      <td>0.19</td>\n",
       "      <td>1.00</td>\n",
       "      <td>0.61</td>\n",
       "    </tr>\n",
       "    <tr>\n",
       "      <th>Target</th>\n",
       "      <td>-0.03</td>\n",
       "      <td>-0.02</td>\n",
       "      <td>0.01</td>\n",
       "      <td>-0.03</td>\n",
       "      <td>-0.03</td>\n",
       "      <td>-0.03</td>\n",
       "      <td>0.02</td>\n",
       "      <td>0.32</td>\n",
       "      <td>0.61</td>\n",
       "      <td>1.00</td>\n",
       "    </tr>\n",
       "  </tbody>\n",
       "</table>\n",
       "</div>"
      ],
      "text/plain": [
       "                     PerfilEconomico  Idade  PerfilCompra  ValorCompraAnual  \\\n",
       "PerfilEconomico                 1.00  -0.32          0.08             -0.26   \n",
       "Idade                          -0.32   1.00         -0.07              0.05   \n",
       "PerfilCompra                    0.08  -0.07          1.00             -0.04   \n",
       "ValorCompraAnual               -0.26   0.05         -0.04              1.00   \n",
       "GastoMax                       -0.27   0.05         -0.04              1.00   \n",
       "GastoMedio                     -0.27   0.05         -0.04              1.00   \n",
       "NumeroComprasOnline            -0.06  -0.03         -0.02              0.08   \n",
       "MesesDesempregado               0.01  -0.03          0.03             -0.03   \n",
       "Anuidade                       -0.03  -0.03          0.01              0.00   \n",
       "Target                         -0.03  -0.02          0.01             -0.03   \n",
       "\n",
       "                     GastoMax  GastoMedio  NumeroComprasOnline  \\\n",
       "PerfilEconomico         -0.27       -0.27                -0.06   \n",
       "Idade                    0.05        0.05                -0.03   \n",
       "PerfilCompra            -0.04       -0.04                -0.02   \n",
       "ValorCompraAnual         1.00        1.00                 0.08   \n",
       "GastoMax                 1.00        1.00                 0.08   \n",
       "GastoMedio               1.00        1.00                 0.08   \n",
       "NumeroComprasOnline      0.08        0.08                 1.00   \n",
       "MesesDesempregado       -0.03       -0.03                -0.00   \n",
       "Anuidade                -0.00       -0.00                 0.01   \n",
       "Target                  -0.03       -0.03                 0.02   \n",
       "\n",
       "                     MesesDesempregado  Anuidade  Target  \n",
       "PerfilEconomico                   0.01     -0.03   -0.03  \n",
       "Idade                            -0.03     -0.03   -0.02  \n",
       "PerfilCompra                      0.03      0.01    0.01  \n",
       "ValorCompraAnual                 -0.03      0.00   -0.03  \n",
       "GastoMax                         -0.03     -0.00   -0.03  \n",
       "GastoMedio                       -0.03     -0.00   -0.03  \n",
       "NumeroComprasOnline              -0.00      0.01    0.02  \n",
       "MesesDesempregado                 1.00      0.19    0.32  \n",
       "Anuidade                          0.19      1.00    0.61  \n",
       "Target                            0.32      0.61    1.00  "
      ]
     },
     "execution_count": 18,
     "metadata": {},
     "output_type": "execute_result"
    }
   ],
   "source": [
    "dados.corr()"
   ]
  },
  {
   "cell_type": "markdown",
   "metadata": {},
   "source": [
    "## 3. Tratamento dos Dados\n",
    "Imputação, dummies. Geracao da ABT de modelagem"
   ]
  },
  {
   "cell_type": "code",
   "execution_count": 19,
   "metadata": {},
   "outputs": [
    {
     "data": {
      "text/html": [
       "<div>\n",
       "<style scoped>\n",
       "    .dataframe tbody tr th:only-of-type {\n",
       "        vertical-align: middle;\n",
       "    }\n",
       "\n",
       "    .dataframe tbody tr th {\n",
       "        vertical-align: top;\n",
       "    }\n",
       "\n",
       "    .dataframe thead th {\n",
       "        text-align: right;\n",
       "    }\n",
       "</style>\n",
       "<table border=\"1\" class=\"dataframe\">\n",
       "  <thead>\n",
       "    <tr style=\"text-align: right;\">\n",
       "      <th></th>\n",
       "      <th>PerfilEconomico</th>\n",
       "      <th>Sexo</th>\n",
       "      <th>Idade</th>\n",
       "      <th>PerfilCompra</th>\n",
       "      <th>ValorCompraAnual</th>\n",
       "      <th>GastoMax</th>\n",
       "      <th>GastoMedio</th>\n",
       "      <th>UF</th>\n",
       "      <th>CidadeResidencia</th>\n",
       "      <th>RegiaodoPais</th>\n",
       "      <th>NumeroComprasOnline</th>\n",
       "      <th>MesesDesempregado</th>\n",
       "      <th>Anuidade</th>\n",
       "      <th>Target</th>\n",
       "    </tr>\n",
       "  </thead>\n",
       "  <tbody>\n",
       "    <tr>\n",
       "      <th>0</th>\n",
       "      <td>2</td>\n",
       "      <td>mulher</td>\n",
       "      <td>24</td>\n",
       "      <td>2</td>\n",
       "      <td>1875.00</td>\n",
       "      <td>133.93</td>\n",
       "      <td>156.25</td>\n",
       "      <td>MA</td>\n",
       "      <td>Centro Novo do Maranhão</td>\n",
       "      <td>Região Nordeste</td>\n",
       "      <td>13.02</td>\n",
       "      <td>2</td>\n",
       "      <td>251.19</td>\n",
       "      <td>1</td>\n",
       "    </tr>\n",
       "    <tr>\n",
       "      <th>1</th>\n",
       "      <td>3</td>\n",
       "      <td>mulher</td>\n",
       "      <td>22</td>\n",
       "      <td>0</td>\n",
       "      <td>725.00</td>\n",
       "      <td>51.79</td>\n",
       "      <td>60.42</td>\n",
       "      <td>PI</td>\n",
       "      <td>Amarante</td>\n",
       "      <td>Região Nordeste</td>\n",
       "      <td>5.49</td>\n",
       "      <td>13</td>\n",
       "      <td>233.54</td>\n",
       "      <td>1</td>\n",
       "    </tr>\n",
       "    <tr>\n",
       "      <th>2</th>\n",
       "      <td>3</td>\n",
       "      <td>homem</td>\n",
       "      <td>22</td>\n",
       "      <td>0</td>\n",
       "      <td>72292.00</td>\n",
       "      <td>5163.71</td>\n",
       "      <td>6024.33</td>\n",
       "      <td>MT</td>\n",
       "      <td>Santo Antônio do Leverger</td>\n",
       "      <td>Região Centro-Oeste</td>\n",
       "      <td>547.67</td>\n",
       "      <td>2</td>\n",
       "      <td>275.44</td>\n",
       "      <td>1</td>\n",
       "    </tr>\n",
       "    <tr>\n",
       "      <th>3</th>\n",
       "      <td>3</td>\n",
       "      <td>homem</td>\n",
       "      <td>22</td>\n",
       "      <td>1</td>\n",
       "      <td>155.00</td>\n",
       "      <td>11.07</td>\n",
       "      <td>12.92</td>\n",
       "      <td>PR</td>\n",
       "      <td>Quitandinha</td>\n",
       "      <td>Região Sul</td>\n",
       "      <td>1.17</td>\n",
       "      <td>13</td>\n",
       "      <td>2.00</td>\n",
       "      <td>1</td>\n",
       "    </tr>\n",
       "    <tr>\n",
       "      <th>4</th>\n",
       "      <td>2</td>\n",
       "      <td>mulher</td>\n",
       "      <td>15</td>\n",
       "      <td>1</td>\n",
       "      <td>26.00</td>\n",
       "      <td>1.86</td>\n",
       "      <td>2.17</td>\n",
       "      <td>SP</td>\n",
       "      <td>Nova Campina</td>\n",
       "      <td>Região Sudeste</td>\n",
       "      <td>0.29</td>\n",
       "      <td>7</td>\n",
       "      <td>249.33</td>\n",
       "      <td>1</td>\n",
       "    </tr>\n",
       "  </tbody>\n",
       "</table>\n",
       "</div>"
      ],
      "text/plain": [
       "   PerfilEconomico    Sexo  Idade  PerfilCompra  ValorCompraAnual  GastoMax  \\\n",
       "0                2  mulher     24             2           1875.00    133.93   \n",
       "1                3  mulher     22             0            725.00     51.79   \n",
       "2                3   homem     22             0          72292.00   5163.71   \n",
       "3                3   homem     22             1            155.00     11.07   \n",
       "4                2  mulher     15             1             26.00      1.86   \n",
       "\n",
       "   GastoMedio  UF           CidadeResidencia         RegiaodoPais  \\\n",
       "0      156.25  MA    Centro Novo do Maranhão      Região Nordeste   \n",
       "1       60.42  PI                   Amarante      Região Nordeste   \n",
       "2     6024.33  MT  Santo Antônio do Leverger  Região Centro-Oeste   \n",
       "3       12.92  PR                Quitandinha           Região Sul   \n",
       "4        2.17  SP               Nova Campina       Região Sudeste   \n",
       "\n",
       "   NumeroComprasOnline  MesesDesempregado  Anuidade  Target  \n",
       "0                13.02                  2    251.19       1  \n",
       "1                 5.49                 13    233.54       1  \n",
       "2               547.67                  2    275.44       1  \n",
       "3                 1.17                 13      2.00       1  \n",
       "4                 0.29                  7    249.33       1  "
      ]
     },
     "execution_count": 19,
     "metadata": {},
     "output_type": "execute_result"
    }
   ],
   "source": [
    "dados.head()"
   ]
  },
  {
   "cell_type": "code",
   "execution_count": 76,
   "metadata": {},
   "outputs": [],
   "source": [
    "target = dados['Target']\n",
    "train_set, test_set, y_train, y_test = train_test_split(dados,\n",
    "                                                        target,\n",
    "                                                        test_size=0.3,\n",
    "                                                        random_state=42)"
   ]
  },
  {
   "cell_type": "markdown",
   "metadata": {},
   "source": [
    "### 3.1 Imputação"
   ]
  },
  {
   "cell_type": "markdown",
   "metadata": {},
   "source": [
    "Imputação de mediana nas variáveis numéricas (no caso serve apenas para ValorCompraAnual).\n",
    "\n",
    "Imputação de `unk` (para unknown) para as variáveis categóricas (não se aplica para essa base)."
   ]
  },
  {
   "cell_type": "code",
   "execution_count": 77,
   "metadata": {},
   "outputs": [
    {
     "data": {
      "text/plain": [
       "PerfilEconomico       0.00\n",
       "Sexo                  0.00\n",
       "Idade                 0.00\n",
       "PerfilCompra          0.00\n",
       "ValorCompraAnual      0.00\n",
       "GastoMax              0.00\n",
       "GastoMedio            0.00\n",
       "UF                    0.00\n",
       "CidadeResidencia      0.00\n",
       "RegiaodoPais          0.00\n",
       "NumeroComprasOnline   0.00\n",
       "MesesDesempregado     0.00\n",
       "Anuidade              0.00\n",
       "Target                0.00\n",
       "dtype: float64"
      ]
     },
     "execution_count": 77,
     "metadata": {},
     "output_type": "execute_result"
    }
   ],
   "source": [
    "from fklearn.training.imputation import imputer, placeholder_imputer\n",
    "from toolz import compose\n",
    "\n",
    "num_impute_learner = imputer(columns_to_impute=[\"ValorCompraAnual\"],#, \"GastoMax\", \"GastoMedio\", \"NumeroComprasOnline\", \"MesesDesempregado\", \"Anuidade\"],\n",
    "                             impute_strategy=\"median\")\n",
    "\n",
    "cat_impute_learner = placeholder_imputer(columns_to_impute=[\"PerfilEconomico\", \"Sexo\", \"RegiaodoPais\", \"PerfilCompra\", \"UF\", \"CidadeResidencia\"],\n",
    "                                          placeholder_value=\"unk\")\n",
    "\n",
    "#tupla que retorna: [0] a funcao, [1] dataset e [2] log\n",
    "num_impute_fn, _, num_impute_log = num_impute_learner(train_set)\n",
    "cat_impute_fn, _, cat_impute_log = cat_impute_learner(train_set)\n",
    "\n",
    "compose(num_impute_fn, cat_impute_fn)(train_set).isnull().mean()"
   ]
  },
  {
   "cell_type": "markdown",
   "metadata": {},
   "source": [
    "### 3.2 Tratamento Outliers, Dummies e Label encoder\n",
    "Aplica-se um **capper** para valores acima de um certo valor. Não se aplica na base, mas poderiamos usar o **foorer** para aplicar um threshold inferior.\n",
    "\n",
    "**One hot encoder** para variáveis categóricas com baixa cardinalidade.\n",
    "\n",
    "**Label encoder** para variáveis categóricas com alta cardinalidade."
   ]
  },
  {
   "cell_type": "code",
   "execution_count": 78,
   "metadata": {
    "scrolled": true
   },
   "outputs": [
    {
     "data": {
      "text/html": [
       "<div>\n",
       "<style scoped>\n",
       "    .dataframe tbody tr th:only-of-type {\n",
       "        vertical-align: middle;\n",
       "    }\n",
       "\n",
       "    .dataframe tbody tr th {\n",
       "        vertical-align: top;\n",
       "    }\n",
       "\n",
       "    .dataframe thead th {\n",
       "        text-align: right;\n",
       "    }\n",
       "</style>\n",
       "<table border=\"1\" class=\"dataframe\">\n",
       "  <thead>\n",
       "    <tr style=\"text-align: right;\">\n",
       "      <th></th>\n",
       "      <th>count</th>\n",
       "      <th>mean</th>\n",
       "      <th>std</th>\n",
       "      <th>min</th>\n",
       "      <th>25%</th>\n",
       "      <th>50%</th>\n",
       "      <th>75%</th>\n",
       "      <th>max</th>\n",
       "    </tr>\n",
       "  </thead>\n",
       "  <tbody>\n",
       "    <tr>\n",
       "      <th>PerfilEconomico</th>\n",
       "      <td>1191.00</td>\n",
       "      <td>2.29</td>\n",
       "      <td>0.84</td>\n",
       "      <td>1.00</td>\n",
       "      <td>2.00</td>\n",
       "      <td>3.00</td>\n",
       "      <td>3.00</td>\n",
       "      <td>3.00</td>\n",
       "    </tr>\n",
       "    <tr>\n",
       "      <th>Idade</th>\n",
       "      <td>1191.00</td>\n",
       "      <td>30.27</td>\n",
       "      <td>12.36</td>\n",
       "      <td>10.00</td>\n",
       "      <td>22.00</td>\n",
       "      <td>26.00</td>\n",
       "      <td>36.00</td>\n",
       "      <td>92.00</td>\n",
       "    </tr>\n",
       "    <tr>\n",
       "      <th>PerfilCompra</th>\n",
       "      <td>1191.00</td>\n",
       "      <td>0.53</td>\n",
       "      <td>1.08</td>\n",
       "      <td>0.00</td>\n",
       "      <td>0.00</td>\n",
       "      <td>0.00</td>\n",
       "      <td>1.00</td>\n",
       "      <td>8.00</td>\n",
       "    </tr>\n",
       "    <tr>\n",
       "      <th>ValorCompraAnual</th>\n",
       "      <td>1163.00</td>\n",
       "      <td>108034.13</td>\n",
       "      <td>366794.50</td>\n",
       "      <td>0.00</td>\n",
       "      <td>167.00</td>\n",
       "      <td>2625.00</td>\n",
       "      <td>78667.00</td>\n",
       "      <td>5123292.00</td>\n",
       "    </tr>\n",
       "    <tr>\n",
       "      <th>GastoMax</th>\n",
       "      <td>1191.00</td>\n",
       "      <td>7834.60</td>\n",
       "      <td>26481.77</td>\n",
       "      <td>0.00</td>\n",
       "      <td>11.71</td>\n",
       "      <td>187.50</td>\n",
       "      <td>5610.14</td>\n",
       "      <td>365949.43</td>\n",
       "    </tr>\n",
       "    <tr>\n",
       "      <th>GastoMedio</th>\n",
       "      <td>1191.00</td>\n",
       "      <td>9140.37</td>\n",
       "      <td>30895.40</td>\n",
       "      <td>0.00</td>\n",
       "      <td>13.67</td>\n",
       "      <td>218.75</td>\n",
       "      <td>6545.17</td>\n",
       "      <td>426941.00</td>\n",
       "    </tr>\n",
       "    <tr>\n",
       "      <th>NumeroComprasOnline</th>\n",
       "      <td>1191.00</td>\n",
       "      <td>66806.38</td>\n",
       "      <td>1404381.47</td>\n",
       "      <td>0.00</td>\n",
       "      <td>1.16</td>\n",
       "      <td>13.21</td>\n",
       "      <td>559.97</td>\n",
       "      <td>34107625.00</td>\n",
       "    </tr>\n",
       "    <tr>\n",
       "      <th>MesesDesempregado</th>\n",
       "      <td>1191.00</td>\n",
       "      <td>5.09</td>\n",
       "      <td>3.48</td>\n",
       "      <td>0.00</td>\n",
       "      <td>2.00</td>\n",
       "      <td>5.00</td>\n",
       "      <td>8.00</td>\n",
       "      <td>14.00</td>\n",
       "    </tr>\n",
       "    <tr>\n",
       "      <th>Anuidade</th>\n",
       "      <td>1191.00</td>\n",
       "      <td>83.57</td>\n",
       "      <td>69.07</td>\n",
       "      <td>0.01</td>\n",
       "      <td>33.55</td>\n",
       "      <td>69.10</td>\n",
       "      <td>107.13</td>\n",
       "      <td>309.38</td>\n",
       "    </tr>\n",
       "    <tr>\n",
       "      <th>Target</th>\n",
       "      <td>1191.00</td>\n",
       "      <td>0.25</td>\n",
       "      <td>0.43</td>\n",
       "      <td>0.00</td>\n",
       "      <td>0.00</td>\n",
       "      <td>0.00</td>\n",
       "      <td>1.00</td>\n",
       "      <td>1.00</td>\n",
       "    </tr>\n",
       "  </tbody>\n",
       "</table>\n",
       "</div>"
      ],
      "text/plain": [
       "                      count      mean        std   min    25%     50%  \\\n",
       "PerfilEconomico     1191.00      2.29       0.84  1.00   2.00    3.00   \n",
       "Idade               1191.00     30.27      12.36 10.00  22.00   26.00   \n",
       "PerfilCompra        1191.00      0.53       1.08  0.00   0.00    0.00   \n",
       "ValorCompraAnual    1163.00 108034.13  366794.50  0.00 167.00 2625.00   \n",
       "GastoMax            1191.00   7834.60   26481.77  0.00  11.71  187.50   \n",
       "GastoMedio          1191.00   9140.37   30895.40  0.00  13.67  218.75   \n",
       "NumeroComprasOnline 1191.00  66806.38 1404381.47  0.00   1.16   13.21   \n",
       "MesesDesempregado   1191.00      5.09       3.48  0.00   2.00    5.00   \n",
       "Anuidade            1191.00     83.57      69.07  0.01  33.55   69.10   \n",
       "Target              1191.00      0.25       0.43  0.00   0.00    0.00   \n",
       "\n",
       "                         75%         max  \n",
       "PerfilEconomico         3.00        3.00  \n",
       "Idade                  36.00       92.00  \n",
       "PerfilCompra            1.00        8.00  \n",
       "ValorCompraAnual    78667.00  5123292.00  \n",
       "GastoMax             5610.14   365949.43  \n",
       "GastoMedio           6545.17   426941.00  \n",
       "NumeroComprasOnline   559.97 34107625.00  \n",
       "MesesDesempregado       8.00       14.00  \n",
       "Anuidade              107.13      309.38  \n",
       "Target                  1.00        1.00  "
      ]
     },
     "execution_count": 78,
     "metadata": {},
     "output_type": "execute_result"
    }
   ],
   "source": [
    "pd.set_option('display.float_format', lambda x: '%.2f' % x)\n",
    "dados.describe().transpose()"
   ]
  },
  {
   "cell_type": "code",
   "execution_count": 104,
   "metadata": {},
   "outputs": [],
   "source": [
    "from fklearn.training.transformation import capper, floorer\n",
    "from fklearn.training.transformation import label_categorizer\n",
    "from fklearn.training.transformation import onehot_categorizer\n",
    "\n",
    "# Capping altos: ValorCompraAnual, GastoMax, GastoMax, GastoMedio e NumeroComprasOnline\n",
    "capper_fn = capper(columns_to_cap=['ValorCompraAnual', 'GastoMax', 'GastoMedio', 'NumeroComprasOnline'], \n",
    "                   precomputed_caps={'ValorCompraAnual': 500000,\n",
    "                                     'GastoMax': 50000,\n",
    "                                     'GastoMedio': 30000,\n",
    "                                     'NumeroComprasOnline': 10000\n",
    "                                    })\n",
    "\n",
    "# One hot encoding (cria dummies)\n",
    "categorical_features_onehot = ['PerfilEconomico', 'Sexo', 'PerfilCompra', 'RegiaodoPais']\n",
    "oh_encode_learner = onehot_categorizer(columns_to_categorize=categorical_features_onehot,\n",
    "                                       hardcode_nans=False, # hardcodes an extra column with 1 if nan or unseen else 0\n",
    "                                       drop_first_column=True)\n",
    "\n",
    "# Label encoding\n",
    "le_encode_learner = label_categorizer(\n",
    "                                columns_to_categorize=['UF', 'CidadeResidencia'],\n",
    "                                store_mapping=True,\n",
    ")"
   ]
  },
  {
   "cell_type": "markdown",
   "metadata": {},
   "source": [
    "## 4. Pipeline"
   ]
  },
  {
   "cell_type": "code",
   "execution_count": 132,
   "metadata": {},
   "outputs": [],
   "source": [
    "from fklearn.training.pipeline import build_pipeline\n",
    "\n",
    "pipeline_learner = build_pipeline(\n",
    "    capper_fn,\n",
    "    num_impute_learner,\n",
    "    cat_impute_learner,\n",
    "    oh_encode_learner,\n",
    "    le_encode_learner\n",
    ")"
   ]
  },
  {
   "cell_type": "code",
   "execution_count": 133,
   "metadata": {},
   "outputs": [
    {
     "name": "stdout",
     "output_type": "stream",
     "text": [
      "<class 'pandas.core.frame.DataFrame'>\n",
      "Int64Index: 833 entries, 296 to 826\n",
      "Data columns (total 14 columns):\n",
      "PerfilEconomico        833 non-null int64\n",
      "Sexo                   833 non-null object\n",
      "Idade                  833 non-null int64\n",
      "PerfilCompra           833 non-null int64\n",
      "ValorCompraAnual       814 non-null float64\n",
      "GastoMax               833 non-null float64\n",
      "GastoMedio             833 non-null float64\n",
      "UF                     833 non-null object\n",
      "CidadeResidencia       833 non-null object\n",
      "RegiaodoPais           833 non-null object\n",
      "NumeroComprasOnline    833 non-null float64\n",
      "MesesDesempregado      833 non-null int64\n",
      "Anuidade               833 non-null float64\n",
      "Target                 833 non-null int64\n",
      "dtypes: float64(5), int64(5), object(4)\n",
      "memory usage: 97.6+ KB\n"
     ]
    }
   ],
   "source": [
    "train_set.info()"
   ]
  },
  {
   "cell_type": "code",
   "execution_count": 149,
   "metadata": {},
   "outputs": [],
   "source": [
    "# using pipeline\n",
    "# tupla que retorna: [0] a funcao, [1] dataset e [2] log\n",
    "p_train, train_df, log_train = pipeline_learner(train_set)\n",
    "p_test, test_df, log_test = pipeline_learner(test_set)"
   ]
  },
  {
   "cell_type": "code",
   "execution_count": 150,
   "metadata": {},
   "outputs": [
    {
     "data": {
      "text/plain": [
       "Index(['Idade', 'ValorCompraAnual', 'GastoMax', 'GastoMedio', 'UF',\n",
       "       'CidadeResidencia', 'NumeroComprasOnline', 'MesesDesempregado',\n",
       "       'Anuidade', 'Target', 'fklearn_feat__PerfilEconomico==1',\n",
       "       'fklearn_feat__PerfilEconomico==2', 'fklearn_feat__PerfilEconomico==3',\n",
       "       'fklearn_feat__Sexo==homem', 'fklearn_feat__Sexo==mulher',\n",
       "       'fklearn_feat__PerfilCompra==0', 'fklearn_feat__PerfilCompra==1',\n",
       "       'fklearn_feat__PerfilCompra==2', 'fklearn_feat__PerfilCompra==3',\n",
       "       'fklearn_feat__PerfilCompra==4', 'fklearn_feat__PerfilCompra==5',\n",
       "       'fklearn_feat__PerfilCompra==8',\n",
       "       'fklearn_feat__RegiaodoPais==Região Centro-Oeste',\n",
       "       'fklearn_feat__RegiaodoPais==Região Nordeste',\n",
       "       'fklearn_feat__RegiaodoPais==Região Norte',\n",
       "       'fklearn_feat__RegiaodoPais==Região Sudeste',\n",
       "       'fklearn_feat__RegiaodoPais==Região Sul'],\n",
       "      dtype='object')"
      ]
     },
     "execution_count": 150,
     "metadata": {},
     "output_type": "execute_result"
    }
   ],
   "source": [
    "train_df.columns"
   ]
  },
  {
   "cell_type": "markdown",
   "metadata": {},
   "source": [
    "## 5. Métodos de Seleção\n",
    "Filtro, wrapper, embedded"
   ]
  },
  {
   "cell_type": "code",
   "execution_count": 151,
   "metadata": {},
   "outputs": [],
   "source": [
    "cols = ['Target', 'fklearn_feat__PerfilEconomico==3', 'fklearn_feat__Sexo==mulher', 'fklearn_feat__PerfilCompra==8','fklearn_feat__RegiaodoPais==Região Sul']\n",
    "train_df_copy = train_df\n",
    "test_df_copy = test_df\n",
    "for col in cols:\n",
    "    if col in train_df_copy.columns:\n",
    "        train_df_copy = train_df_copy.drop(columns=col, axis=1)\n",
    "    if col in test_df_copy.columns:\n",
    "        test_df_copy = test_df_copy.drop(columns=col, axis=1)\n",
    "\n",
    "explicativas_train = train_df_copy\n",
    "target_train = train_df['Target']\n",
    "\n",
    "explicativas_test = test_df_copy\n",
    "target_test = test_df['Target']"
   ]
  },
  {
   "cell_type": "markdown",
   "metadata": {},
   "source": [
    "### 5.1 Baseado em Filtro"
   ]
  },
  {
   "cell_type": "code",
   "execution_count": 152,
   "metadata": {},
   "outputs": [
    {
     "name": "stdout",
     "output_type": "stream",
     "text": [
      "10 variaveis selecionadas\n",
      "['ValorCompraAnual', 'GastoMedio', 'CidadeResidencia', 'MesesDesempregado', 'Anuidade', 'fklearn_feat__Sexo==homem', 'fklearn_feat__PerfilCompra==0', 'fklearn_feat__PerfilCompra==1', 'fklearn_feat__PerfilCompra==5', 'fklearn_feat__RegiaodoPais==Região Norte']\n"
     ]
    }
   ],
   "source": [
    "from sklearn.feature_selection import SelectKBest, chi2\n",
    "from sklearn.preprocessing import MinMaxScaler\n",
    "\n",
    "x_norm = MinMaxScaler().fit_transform(explicativas)\n",
    "\n",
    "# chamada do objeto\n",
    "chi2_selector = SelectKBest(chi2)\n",
    "\n",
    "chi2_selector.fit(x_norm, target)\n",
    "\n",
    "chi_s = chi2_selector.get_support()\n",
    "\n",
    "chi_feature = explicativas.loc[:,chi_s].columns.tolist()\n",
    "print(str(len(chi_feature)), 'variaveis selecionadas')\n",
    "print(chi_feature)"
   ]
  },
  {
   "cell_type": "markdown",
   "metadata": {},
   "source": [
    "### 5.2 Wrapper"
   ]
  },
  {
   "cell_type": "code",
   "execution_count": 153,
   "metadata": {},
   "outputs": [
    {
     "name": "stdout",
     "output_type": "stream",
     "text": [
      "11 variaveis selecionadas:\n",
      "['Idade', 'UF', 'MesesDesempregado', 'Anuidade', 'fklearn_feat__PerfilEconomico==1', 'fklearn_feat__PerfilEconomico==2', 'fklearn_feat__Sexo==homem', 'fklearn_feat__PerfilCompra==0', 'fklearn_feat__PerfilCompra==1', 'fklearn_feat__RegiaodoPais==Região Nordeste', 'fklearn_feat__RegiaodoPais==Região Sudeste']\n"
     ]
    },
    {
     "name": "stderr",
     "output_type": "stream",
     "text": [
      "/Users/jaime.mishima/miniconda3/lib/python3.7/site-packages/sklearn/linear_model/logistic.py:432: FutureWarning: Default solver will be changed to 'lbfgs' in 0.22. Specify a solver to silence this warning.\n",
      "  FutureWarning)\n",
      "/Users/jaime.mishima/miniconda3/lib/python3.7/site-packages/sklearn/linear_model/logistic.py:432: FutureWarning: Default solver will be changed to 'lbfgs' in 0.22. Specify a solver to silence this warning.\n",
      "  FutureWarning)\n",
      "/Users/jaime.mishima/miniconda3/lib/python3.7/site-packages/sklearn/linear_model/logistic.py:432: FutureWarning: Default solver will be changed to 'lbfgs' in 0.22. Specify a solver to silence this warning.\n",
      "  FutureWarning)\n"
     ]
    }
   ],
   "source": [
    "from sklearn.feature_selection import RFE\n",
    "from sklearn.linear_model import LogisticRegression\n",
    "\n",
    "# chamada do objeto\n",
    "rfe_selector = RFE(estimator=LogisticRegression(), step=10) #default is half, n_features_to_select=10)\n",
    "\n",
    "rfe_selector.fit(explicativas, target)\n",
    "rfe_support = rfe_selector.get_support()\n",
    "rfe_feature = explicativas.loc[:,rfe_support].columns.tolist()\n",
    "print(str(len(rfe_feature)), 'variaveis selecionadas:')\n",
    "print(rfe_feature)"
   ]
  },
  {
   "cell_type": "markdown",
   "metadata": {},
   "source": [
    "### 5.3 Random Forest"
   ]
  },
  {
   "cell_type": "code",
   "execution_count": 154,
   "metadata": {},
   "outputs": [
    {
     "name": "stdout",
     "output_type": "stream",
     "text": [
      "3 variaveis selecionadas:\n",
      "['CidadeResidencia', 'MesesDesempregado', 'Anuidade']\n"
     ]
    }
   ],
   "source": [
    "from sklearn.feature_selection import SelectFromModel\n",
    "from sklearn.ensemble import RandomForestClassifier\n",
    "\n",
    "em_selector = SelectFromModel(RandomForestClassifier(n_estimators=100))\n",
    "em_selector.fit(explicativas, target)\n",
    "\n",
    "em_sup = em_selector.get_support()\n",
    "em_feature = explicativas.loc[:,em_sup].columns.tolist()\n",
    "print(str(len(em_feature)), 'variaveis selecionadas:')\n",
    "print(em_feature)"
   ]
  },
  {
   "cell_type": "markdown",
   "metadata": {},
   "source": [
    "### 5.4 Comparando Filtro, Wrapper e Random Forest"
   ]
  },
  {
   "cell_type": "code",
   "execution_count": 155,
   "metadata": {},
   "outputs": [],
   "source": [
    "feature_selection_df = pd.DataFrame({'Variaveis':explicativas.columns,\n",
    "                                     'chi2':chi_s,\n",
    "                                     'RFE': rfe_support,\n",
    "                                     'Random forest': em_sup})\n",
    "feature_selection_df['Total'] = np.sum(feature_selection_df, axis=1)\n",
    "feature_selection_df = feature_selection_df.sort_values(['Total', 'Variaveis'], ascending=False)\n",
    "feature_selection_df.index = range(1, len(feature_selection_df)+1)"
   ]
  },
  {
   "cell_type": "markdown",
   "metadata": {},
   "source": [
    "Selecionando features que apareceram em pelo menos dois métodos de seleção de variáveis:"
   ]
  },
  {
   "cell_type": "code",
   "execution_count": 157,
   "metadata": {},
   "outputs": [],
   "source": [
    "var_select = feature_selection_df[feature_selection_df['Total'] > 1]['Variaveis'].tolist()"
   ]
  },
  {
   "cell_type": "code",
   "execution_count": 169,
   "metadata": {},
   "outputs": [],
   "source": [
    "x_treino = explicativas_train[var_select]\n",
    "y_treino = target_train\n",
    "\n",
    "x_teste = explicativas_test[var_select]\n",
    "y_teste = target_test"
   ]
  },
  {
   "cell_type": "markdown",
   "metadata": {},
   "source": [
    "## 6. Modelagem usando Gridsearch e Cross Validation Kfold: Regressao Logística, Random Forest e Gradient Boosting)"
   ]
  },
  {
   "cell_type": "markdown",
   "metadata": {},
   "source": [
    "### 6.1.1 Regressão Logística"
   ]
  },
  {
   "cell_type": "code",
   "execution_count": 340,
   "metadata": {},
   "outputs": [],
   "source": [
    "from sklearn.linear_model import LogisticRegression\n",
    "RL = LogisticRegression(random_state=42)"
   ]
  },
  {
   "cell_type": "markdown",
   "metadata": {},
   "source": [
    "Dicionário de hyperparâmetros para o **GridSearch** da Regressão Logística"
   ]
  },
  {
   "cell_type": "code",
   "execution_count": 341,
   "metadata": {},
   "outputs": [],
   "source": [
    "hyperparameters = {\"C\":np.logspace(-3,3,7), \n",
    "                   \"penalty\":[\"l1\",\"l2\"]} # l1 lasso l2 ridge"
   ]
  },
  {
   "cell_type": "code",
   "execution_count": 342,
   "metadata": {
    "collapsed": true
   },
   "outputs": [
    {
     "name": "stderr",
     "output_type": "stream",
     "text": [
      "/Users/jaime.mishima/miniconda3/lib/python3.7/site-packages/sklearn/linear_model/logistic.py:432: FutureWarning: Default solver will be changed to 'lbfgs' in 0.22. Specify a solver to silence this warning.\n",
      "  FutureWarning)\n",
      "/Users/jaime.mishima/miniconda3/lib/python3.7/site-packages/sklearn/linear_model/logistic.py:432: FutureWarning: Default solver will be changed to 'lbfgs' in 0.22. Specify a solver to silence this warning.\n",
      "  FutureWarning)\n",
      "/Users/jaime.mishima/miniconda3/lib/python3.7/site-packages/sklearn/linear_model/logistic.py:432: FutureWarning: Default solver will be changed to 'lbfgs' in 0.22. Specify a solver to silence this warning.\n",
      "  FutureWarning)\n",
      "/Users/jaime.mishima/miniconda3/lib/python3.7/site-packages/sklearn/linear_model/logistic.py:432: FutureWarning: Default solver will be changed to 'lbfgs' in 0.22. Specify a solver to silence this warning.\n",
      "  FutureWarning)\n",
      "/Users/jaime.mishima/miniconda3/lib/python3.7/site-packages/sklearn/linear_model/logistic.py:432: FutureWarning: Default solver will be changed to 'lbfgs' in 0.22. Specify a solver to silence this warning.\n",
      "  FutureWarning)\n",
      "/Users/jaime.mishima/miniconda3/lib/python3.7/site-packages/sklearn/linear_model/logistic.py:432: FutureWarning: Default solver will be changed to 'lbfgs' in 0.22. Specify a solver to silence this warning.\n",
      "  FutureWarning)\n",
      "/Users/jaime.mishima/miniconda3/lib/python3.7/site-packages/sklearn/linear_model/logistic.py:432: FutureWarning: Default solver will be changed to 'lbfgs' in 0.22. Specify a solver to silence this warning.\n",
      "  FutureWarning)\n",
      "/Users/jaime.mishima/miniconda3/lib/python3.7/site-packages/sklearn/linear_model/logistic.py:432: FutureWarning: Default solver will be changed to 'lbfgs' in 0.22. Specify a solver to silence this warning.\n",
      "  FutureWarning)\n",
      "/Users/jaime.mishima/miniconda3/lib/python3.7/site-packages/sklearn/linear_model/logistic.py:432: FutureWarning: Default solver will be changed to 'lbfgs' in 0.22. Specify a solver to silence this warning.\n",
      "  FutureWarning)\n",
      "/Users/jaime.mishima/miniconda3/lib/python3.7/site-packages/sklearn/linear_model/logistic.py:432: FutureWarning: Default solver will be changed to 'lbfgs' in 0.22. Specify a solver to silence this warning.\n",
      "  FutureWarning)\n",
      "/Users/jaime.mishima/miniconda3/lib/python3.7/site-packages/sklearn/linear_model/logistic.py:432: FutureWarning: Default solver will be changed to 'lbfgs' in 0.22. Specify a solver to silence this warning.\n",
      "  FutureWarning)\n",
      "/Users/jaime.mishima/miniconda3/lib/python3.7/site-packages/sklearn/linear_model/logistic.py:432: FutureWarning: Default solver will be changed to 'lbfgs' in 0.22. Specify a solver to silence this warning.\n",
      "  FutureWarning)\n",
      "/Users/jaime.mishima/miniconda3/lib/python3.7/site-packages/sklearn/linear_model/logistic.py:432: FutureWarning: Default solver will be changed to 'lbfgs' in 0.22. Specify a solver to silence this warning.\n",
      "  FutureWarning)\n",
      "/Users/jaime.mishima/miniconda3/lib/python3.7/site-packages/sklearn/linear_model/logistic.py:432: FutureWarning: Default solver will be changed to 'lbfgs' in 0.22. Specify a solver to silence this warning.\n",
      "  FutureWarning)\n",
      "/Users/jaime.mishima/miniconda3/lib/python3.7/site-packages/sklearn/linear_model/logistic.py:432: FutureWarning: Default solver will be changed to 'lbfgs' in 0.22. Specify a solver to silence this warning.\n",
      "  FutureWarning)\n",
      "/Users/jaime.mishima/miniconda3/lib/python3.7/site-packages/sklearn/linear_model/logistic.py:432: FutureWarning: Default solver will be changed to 'lbfgs' in 0.22. Specify a solver to silence this warning.\n",
      "  FutureWarning)\n",
      "/Users/jaime.mishima/miniconda3/lib/python3.7/site-packages/sklearn/linear_model/logistic.py:432: FutureWarning: Default solver will be changed to 'lbfgs' in 0.22. Specify a solver to silence this warning.\n",
      "  FutureWarning)\n",
      "/Users/jaime.mishima/miniconda3/lib/python3.7/site-packages/sklearn/linear_model/logistic.py:432: FutureWarning: Default solver will be changed to 'lbfgs' in 0.22. Specify a solver to silence this warning.\n",
      "  FutureWarning)\n",
      "/Users/jaime.mishima/miniconda3/lib/python3.7/site-packages/sklearn/linear_model/logistic.py:432: FutureWarning: Default solver will be changed to 'lbfgs' in 0.22. Specify a solver to silence this warning.\n",
      "  FutureWarning)\n",
      "/Users/jaime.mishima/miniconda3/lib/python3.7/site-packages/sklearn/linear_model/logistic.py:432: FutureWarning: Default solver will be changed to 'lbfgs' in 0.22. Specify a solver to silence this warning.\n",
      "  FutureWarning)\n",
      "/Users/jaime.mishima/miniconda3/lib/python3.7/site-packages/sklearn/linear_model/logistic.py:432: FutureWarning: Default solver will be changed to 'lbfgs' in 0.22. Specify a solver to silence this warning.\n",
      "  FutureWarning)\n",
      "/Users/jaime.mishima/miniconda3/lib/python3.7/site-packages/sklearn/linear_model/logistic.py:432: FutureWarning: Default solver will be changed to 'lbfgs' in 0.22. Specify a solver to silence this warning.\n",
      "  FutureWarning)\n",
      "/Users/jaime.mishima/miniconda3/lib/python3.7/site-packages/sklearn/linear_model/logistic.py:432: FutureWarning: Default solver will be changed to 'lbfgs' in 0.22. Specify a solver to silence this warning.\n",
      "  FutureWarning)\n",
      "/Users/jaime.mishima/miniconda3/lib/python3.7/site-packages/sklearn/linear_model/logistic.py:432: FutureWarning: Default solver will be changed to 'lbfgs' in 0.22. Specify a solver to silence this warning.\n",
      "  FutureWarning)\n",
      "/Users/jaime.mishima/miniconda3/lib/python3.7/site-packages/sklearn/linear_model/logistic.py:432: FutureWarning: Default solver will be changed to 'lbfgs' in 0.22. Specify a solver to silence this warning.\n",
      "  FutureWarning)\n",
      "/Users/jaime.mishima/miniconda3/lib/python3.7/site-packages/sklearn/linear_model/logistic.py:432: FutureWarning: Default solver will be changed to 'lbfgs' in 0.22. Specify a solver to silence this warning.\n",
      "  FutureWarning)\n",
      "/Users/jaime.mishima/miniconda3/lib/python3.7/site-packages/sklearn/linear_model/logistic.py:432: FutureWarning: Default solver will be changed to 'lbfgs' in 0.22. Specify a solver to silence this warning.\n",
      "  FutureWarning)\n",
      "/Users/jaime.mishima/miniconda3/lib/python3.7/site-packages/sklearn/linear_model/logistic.py:432: FutureWarning: Default solver will be changed to 'lbfgs' in 0.22. Specify a solver to silence this warning.\n",
      "  FutureWarning)\n",
      "/Users/jaime.mishima/miniconda3/lib/python3.7/site-packages/sklearn/linear_model/logistic.py:432: FutureWarning: Default solver will be changed to 'lbfgs' in 0.22. Specify a solver to silence this warning.\n",
      "  FutureWarning)\n",
      "/Users/jaime.mishima/miniconda3/lib/python3.7/site-packages/sklearn/linear_model/logistic.py:432: FutureWarning: Default solver will be changed to 'lbfgs' in 0.22. Specify a solver to silence this warning.\n",
      "  FutureWarning)\n",
      "/Users/jaime.mishima/miniconda3/lib/python3.7/site-packages/sklearn/linear_model/logistic.py:432: FutureWarning: Default solver will be changed to 'lbfgs' in 0.22. Specify a solver to silence this warning.\n",
      "  FutureWarning)\n",
      "/Users/jaime.mishima/miniconda3/lib/python3.7/site-packages/sklearn/linear_model/logistic.py:432: FutureWarning: Default solver will be changed to 'lbfgs' in 0.22. Specify a solver to silence this warning.\n",
      "  FutureWarning)\n",
      "/Users/jaime.mishima/miniconda3/lib/python3.7/site-packages/sklearn/linear_model/logistic.py:432: FutureWarning: Default solver will be changed to 'lbfgs' in 0.22. Specify a solver to silence this warning.\n",
      "  FutureWarning)\n",
      "/Users/jaime.mishima/miniconda3/lib/python3.7/site-packages/sklearn/linear_model/logistic.py:432: FutureWarning: Default solver will be changed to 'lbfgs' in 0.22. Specify a solver to silence this warning.\n",
      "  FutureWarning)\n",
      "/Users/jaime.mishima/miniconda3/lib/python3.7/site-packages/sklearn/linear_model/logistic.py:432: FutureWarning: Default solver will be changed to 'lbfgs' in 0.22. Specify a solver to silence this warning.\n",
      "  FutureWarning)\n",
      "/Users/jaime.mishima/miniconda3/lib/python3.7/site-packages/sklearn/linear_model/logistic.py:432: FutureWarning: Default solver will be changed to 'lbfgs' in 0.22. Specify a solver to silence this warning.\n",
      "  FutureWarning)\n",
      "/Users/jaime.mishima/miniconda3/lib/python3.7/site-packages/sklearn/linear_model/logistic.py:432: FutureWarning: Default solver will be changed to 'lbfgs' in 0.22. Specify a solver to silence this warning.\n",
      "  FutureWarning)\n",
      "/Users/jaime.mishima/miniconda3/lib/python3.7/site-packages/sklearn/linear_model/logistic.py:432: FutureWarning: Default solver will be changed to 'lbfgs' in 0.22. Specify a solver to silence this warning.\n",
      "  FutureWarning)\n",
      "/Users/jaime.mishima/miniconda3/lib/python3.7/site-packages/sklearn/linear_model/logistic.py:432: FutureWarning: Default solver will be changed to 'lbfgs' in 0.22. Specify a solver to silence this warning.\n",
      "  FutureWarning)\n",
      "/Users/jaime.mishima/miniconda3/lib/python3.7/site-packages/sklearn/linear_model/logistic.py:432: FutureWarning: Default solver will be changed to 'lbfgs' in 0.22. Specify a solver to silence this warning.\n",
      "  FutureWarning)\n",
      "/Users/jaime.mishima/miniconda3/lib/python3.7/site-packages/sklearn/linear_model/logistic.py:432: FutureWarning: Default solver will be changed to 'lbfgs' in 0.22. Specify a solver to silence this warning.\n",
      "  FutureWarning)\n",
      "/Users/jaime.mishima/miniconda3/lib/python3.7/site-packages/sklearn/linear_model/logistic.py:432: FutureWarning: Default solver will be changed to 'lbfgs' in 0.22. Specify a solver to silence this warning.\n",
      "  FutureWarning)\n",
      "/Users/jaime.mishima/miniconda3/lib/python3.7/site-packages/sklearn/linear_model/logistic.py:432: FutureWarning: Default solver will be changed to 'lbfgs' in 0.22. Specify a solver to silence this warning.\n",
      "  FutureWarning)\n",
      "/Users/jaime.mishima/miniconda3/lib/python3.7/site-packages/sklearn/linear_model/logistic.py:432: FutureWarning: Default solver will be changed to 'lbfgs' in 0.22. Specify a solver to silence this warning.\n",
      "  FutureWarning)\n",
      "/Users/jaime.mishima/miniconda3/lib/python3.7/site-packages/sklearn/linear_model/logistic.py:432: FutureWarning: Default solver will be changed to 'lbfgs' in 0.22. Specify a solver to silence this warning.\n",
      "  FutureWarning)\n"
     ]
    },
    {
     "name": "stderr",
     "output_type": "stream",
     "text": [
      "/Users/jaime.mishima/miniconda3/lib/python3.7/site-packages/sklearn/linear_model/logistic.py:432: FutureWarning: Default solver will be changed to 'lbfgs' in 0.22. Specify a solver to silence this warning.\n",
      "  FutureWarning)\n",
      "/Users/jaime.mishima/miniconda3/lib/python3.7/site-packages/sklearn/linear_model/logistic.py:432: FutureWarning: Default solver will be changed to 'lbfgs' in 0.22. Specify a solver to silence this warning.\n",
      "  FutureWarning)\n",
      "/Users/jaime.mishima/miniconda3/lib/python3.7/site-packages/sklearn/linear_model/logistic.py:432: FutureWarning: Default solver will be changed to 'lbfgs' in 0.22. Specify a solver to silence this warning.\n",
      "  FutureWarning)\n",
      "/Users/jaime.mishima/miniconda3/lib/python3.7/site-packages/sklearn/linear_model/logistic.py:432: FutureWarning: Default solver will be changed to 'lbfgs' in 0.22. Specify a solver to silence this warning.\n",
      "  FutureWarning)\n",
      "/Users/jaime.mishima/miniconda3/lib/python3.7/site-packages/sklearn/linear_model/logistic.py:432: FutureWarning: Default solver will be changed to 'lbfgs' in 0.22. Specify a solver to silence this warning.\n",
      "  FutureWarning)\n",
      "/Users/jaime.mishima/miniconda3/lib/python3.7/site-packages/sklearn/linear_model/logistic.py:432: FutureWarning: Default solver will be changed to 'lbfgs' in 0.22. Specify a solver to silence this warning.\n",
      "  FutureWarning)\n",
      "/Users/jaime.mishima/miniconda3/lib/python3.7/site-packages/sklearn/linear_model/logistic.py:432: FutureWarning: Default solver will be changed to 'lbfgs' in 0.22. Specify a solver to silence this warning.\n",
      "  FutureWarning)\n",
      "/Users/jaime.mishima/miniconda3/lib/python3.7/site-packages/sklearn/linear_model/logistic.py:432: FutureWarning: Default solver will be changed to 'lbfgs' in 0.22. Specify a solver to silence this warning.\n",
      "  FutureWarning)\n",
      "/Users/jaime.mishima/miniconda3/lib/python3.7/site-packages/sklearn/linear_model/logistic.py:432: FutureWarning: Default solver will be changed to 'lbfgs' in 0.22. Specify a solver to silence this warning.\n",
      "  FutureWarning)\n",
      "/Users/jaime.mishima/miniconda3/lib/python3.7/site-packages/sklearn/linear_model/logistic.py:432: FutureWarning: Default solver will be changed to 'lbfgs' in 0.22. Specify a solver to silence this warning.\n",
      "  FutureWarning)\n",
      "/Users/jaime.mishima/miniconda3/lib/python3.7/site-packages/sklearn/linear_model/logistic.py:432: FutureWarning: Default solver will be changed to 'lbfgs' in 0.22. Specify a solver to silence this warning.\n",
      "  FutureWarning)\n",
      "/Users/jaime.mishima/miniconda3/lib/python3.7/site-packages/sklearn/linear_model/logistic.py:432: FutureWarning: Default solver will be changed to 'lbfgs' in 0.22. Specify a solver to silence this warning.\n",
      "  FutureWarning)\n",
      "/Users/jaime.mishima/miniconda3/lib/python3.7/site-packages/sklearn/linear_model/logistic.py:432: FutureWarning: Default solver will be changed to 'lbfgs' in 0.22. Specify a solver to silence this warning.\n",
      "  FutureWarning)\n",
      "/Users/jaime.mishima/miniconda3/lib/python3.7/site-packages/sklearn/linear_model/logistic.py:432: FutureWarning: Default solver will be changed to 'lbfgs' in 0.22. Specify a solver to silence this warning.\n",
      "  FutureWarning)\n",
      "/Users/jaime.mishima/miniconda3/lib/python3.7/site-packages/sklearn/linear_model/logistic.py:432: FutureWarning: Default solver will be changed to 'lbfgs' in 0.22. Specify a solver to silence this warning.\n",
      "  FutureWarning)\n",
      "/Users/jaime.mishima/miniconda3/lib/python3.7/site-packages/sklearn/linear_model/logistic.py:432: FutureWarning: Default solver will be changed to 'lbfgs' in 0.22. Specify a solver to silence this warning.\n",
      "  FutureWarning)\n",
      "/Users/jaime.mishima/miniconda3/lib/python3.7/site-packages/sklearn/linear_model/logistic.py:432: FutureWarning: Default solver will be changed to 'lbfgs' in 0.22. Specify a solver to silence this warning.\n",
      "  FutureWarning)\n",
      "/Users/jaime.mishima/miniconda3/lib/python3.7/site-packages/sklearn/linear_model/logistic.py:432: FutureWarning: Default solver will be changed to 'lbfgs' in 0.22. Specify a solver to silence this warning.\n",
      "  FutureWarning)\n",
      "/Users/jaime.mishima/miniconda3/lib/python3.7/site-packages/sklearn/linear_model/logistic.py:432: FutureWarning: Default solver will be changed to 'lbfgs' in 0.22. Specify a solver to silence this warning.\n",
      "  FutureWarning)\n",
      "/Users/jaime.mishima/miniconda3/lib/python3.7/site-packages/sklearn/linear_model/logistic.py:432: FutureWarning: Default solver will be changed to 'lbfgs' in 0.22. Specify a solver to silence this warning.\n",
      "  FutureWarning)\n",
      "/Users/jaime.mishima/miniconda3/lib/python3.7/site-packages/sklearn/linear_model/logistic.py:432: FutureWarning: Default solver will be changed to 'lbfgs' in 0.22. Specify a solver to silence this warning.\n",
      "  FutureWarning)\n",
      "/Users/jaime.mishima/miniconda3/lib/python3.7/site-packages/sklearn/linear_model/logistic.py:432: FutureWarning: Default solver will be changed to 'lbfgs' in 0.22. Specify a solver to silence this warning.\n",
      "  FutureWarning)\n",
      "/Users/jaime.mishima/miniconda3/lib/python3.7/site-packages/sklearn/linear_model/logistic.py:432: FutureWarning: Default solver will be changed to 'lbfgs' in 0.22. Specify a solver to silence this warning.\n",
      "  FutureWarning)\n",
      "/Users/jaime.mishima/miniconda3/lib/python3.7/site-packages/sklearn/linear_model/logistic.py:432: FutureWarning: Default solver will be changed to 'lbfgs' in 0.22. Specify a solver to silence this warning.\n",
      "  FutureWarning)\n",
      "/Users/jaime.mishima/miniconda3/lib/python3.7/site-packages/sklearn/linear_model/logistic.py:432: FutureWarning: Default solver will be changed to 'lbfgs' in 0.22. Specify a solver to silence this warning.\n",
      "  FutureWarning)\n",
      "/Users/jaime.mishima/miniconda3/lib/python3.7/site-packages/sklearn/linear_model/logistic.py:432: FutureWarning: Default solver will be changed to 'lbfgs' in 0.22. Specify a solver to silence this warning.\n",
      "  FutureWarning)\n",
      "/Users/jaime.mishima/miniconda3/lib/python3.7/site-packages/sklearn/linear_model/logistic.py:432: FutureWarning: Default solver will be changed to 'lbfgs' in 0.22. Specify a solver to silence this warning.\n",
      "  FutureWarning)\n",
      "/Users/jaime.mishima/miniconda3/lib/python3.7/site-packages/sklearn/linear_model/logistic.py:432: FutureWarning: Default solver will be changed to 'lbfgs' in 0.22. Specify a solver to silence this warning.\n",
      "  FutureWarning)\n",
      "/Users/jaime.mishima/miniconda3/lib/python3.7/site-packages/sklearn/linear_model/logistic.py:432: FutureWarning: Default solver will be changed to 'lbfgs' in 0.22. Specify a solver to silence this warning.\n",
      "  FutureWarning)\n",
      "/Users/jaime.mishima/miniconda3/lib/python3.7/site-packages/sklearn/linear_model/logistic.py:432: FutureWarning: Default solver will be changed to 'lbfgs' in 0.22. Specify a solver to silence this warning.\n",
      "  FutureWarning)\n",
      "/Users/jaime.mishima/miniconda3/lib/python3.7/site-packages/sklearn/linear_model/logistic.py:432: FutureWarning: Default solver will be changed to 'lbfgs' in 0.22. Specify a solver to silence this warning.\n",
      "  FutureWarning)\n",
      "/Users/jaime.mishima/miniconda3/lib/python3.7/site-packages/sklearn/linear_model/logistic.py:432: FutureWarning: Default solver will be changed to 'lbfgs' in 0.22. Specify a solver to silence this warning.\n",
      "  FutureWarning)\n",
      "/Users/jaime.mishima/miniconda3/lib/python3.7/site-packages/sklearn/linear_model/logistic.py:432: FutureWarning: Default solver will be changed to 'lbfgs' in 0.22. Specify a solver to silence this warning.\n",
      "  FutureWarning)\n",
      "/Users/jaime.mishima/miniconda3/lib/python3.7/site-packages/sklearn/linear_model/logistic.py:432: FutureWarning: Default solver will be changed to 'lbfgs' in 0.22. Specify a solver to silence this warning.\n",
      "  FutureWarning)\n",
      "/Users/jaime.mishima/miniconda3/lib/python3.7/site-packages/sklearn/linear_model/logistic.py:432: FutureWarning: Default solver will be changed to 'lbfgs' in 0.22. Specify a solver to silence this warning.\n",
      "  FutureWarning)\n",
      "/Users/jaime.mishima/miniconda3/lib/python3.7/site-packages/sklearn/linear_model/logistic.py:432: FutureWarning: Default solver will be changed to 'lbfgs' in 0.22. Specify a solver to silence this warning.\n",
      "  FutureWarning)\n",
      "/Users/jaime.mishima/miniconda3/lib/python3.7/site-packages/sklearn/linear_model/logistic.py:432: FutureWarning: Default solver will be changed to 'lbfgs' in 0.22. Specify a solver to silence this warning.\n",
      "  FutureWarning)\n",
      "/Users/jaime.mishima/miniconda3/lib/python3.7/site-packages/sklearn/linear_model/logistic.py:432: FutureWarning: Default solver will be changed to 'lbfgs' in 0.22. Specify a solver to silence this warning.\n",
      "  FutureWarning)\n"
     ]
    },
    {
     "name": "stderr",
     "output_type": "stream",
     "text": [
      "/Users/jaime.mishima/miniconda3/lib/python3.7/site-packages/sklearn/linear_model/logistic.py:432: FutureWarning: Default solver will be changed to 'lbfgs' in 0.22. Specify a solver to silence this warning.\n",
      "  FutureWarning)\n",
      "/Users/jaime.mishima/miniconda3/lib/python3.7/site-packages/sklearn/linear_model/logistic.py:432: FutureWarning: Default solver will be changed to 'lbfgs' in 0.22. Specify a solver to silence this warning.\n",
      "  FutureWarning)\n",
      "/Users/jaime.mishima/miniconda3/lib/python3.7/site-packages/sklearn/linear_model/logistic.py:432: FutureWarning: Default solver will be changed to 'lbfgs' in 0.22. Specify a solver to silence this warning.\n",
      "  FutureWarning)\n",
      "/Users/jaime.mishima/miniconda3/lib/python3.7/site-packages/sklearn/linear_model/logistic.py:432: FutureWarning: Default solver will be changed to 'lbfgs' in 0.22. Specify a solver to silence this warning.\n",
      "  FutureWarning)\n",
      "/Users/jaime.mishima/miniconda3/lib/python3.7/site-packages/sklearn/linear_model/logistic.py:432: FutureWarning: Default solver will be changed to 'lbfgs' in 0.22. Specify a solver to silence this warning.\n",
      "  FutureWarning)\n",
      "/Users/jaime.mishima/miniconda3/lib/python3.7/site-packages/sklearn/linear_model/logistic.py:432: FutureWarning: Default solver will be changed to 'lbfgs' in 0.22. Specify a solver to silence this warning.\n",
      "  FutureWarning)\n",
      "/Users/jaime.mishima/miniconda3/lib/python3.7/site-packages/sklearn/linear_model/logistic.py:432: FutureWarning: Default solver will be changed to 'lbfgs' in 0.22. Specify a solver to silence this warning.\n",
      "  FutureWarning)\n",
      "/Users/jaime.mishima/miniconda3/lib/python3.7/site-packages/sklearn/linear_model/logistic.py:432: FutureWarning: Default solver will be changed to 'lbfgs' in 0.22. Specify a solver to silence this warning.\n",
      "  FutureWarning)\n",
      "/Users/jaime.mishima/miniconda3/lib/python3.7/site-packages/sklearn/linear_model/logistic.py:432: FutureWarning: Default solver will be changed to 'lbfgs' in 0.22. Specify a solver to silence this warning.\n",
      "  FutureWarning)\n",
      "/Users/jaime.mishima/miniconda3/lib/python3.7/site-packages/sklearn/linear_model/logistic.py:432: FutureWarning: Default solver will be changed to 'lbfgs' in 0.22. Specify a solver to silence this warning.\n",
      "  FutureWarning)\n",
      "/Users/jaime.mishima/miniconda3/lib/python3.7/site-packages/sklearn/linear_model/logistic.py:432: FutureWarning: Default solver will be changed to 'lbfgs' in 0.22. Specify a solver to silence this warning.\n",
      "  FutureWarning)\n",
      "/Users/jaime.mishima/miniconda3/lib/python3.7/site-packages/sklearn/linear_model/logistic.py:432: FutureWarning: Default solver will be changed to 'lbfgs' in 0.22. Specify a solver to silence this warning.\n",
      "  FutureWarning)\n",
      "/Users/jaime.mishima/miniconda3/lib/python3.7/site-packages/sklearn/linear_model/logistic.py:432: FutureWarning: Default solver will be changed to 'lbfgs' in 0.22. Specify a solver to silence this warning.\n",
      "  FutureWarning)\n",
      "/Users/jaime.mishima/miniconda3/lib/python3.7/site-packages/sklearn/linear_model/logistic.py:432: FutureWarning: Default solver will be changed to 'lbfgs' in 0.22. Specify a solver to silence this warning.\n",
      "  FutureWarning)\n",
      "/Users/jaime.mishima/miniconda3/lib/python3.7/site-packages/sklearn/linear_model/logistic.py:432: FutureWarning: Default solver will be changed to 'lbfgs' in 0.22. Specify a solver to silence this warning.\n",
      "  FutureWarning)\n",
      "/Users/jaime.mishima/miniconda3/lib/python3.7/site-packages/sklearn/linear_model/logistic.py:432: FutureWarning: Default solver will be changed to 'lbfgs' in 0.22. Specify a solver to silence this warning.\n",
      "  FutureWarning)\n",
      "/Users/jaime.mishima/miniconda3/lib/python3.7/site-packages/sklearn/linear_model/logistic.py:432: FutureWarning: Default solver will be changed to 'lbfgs' in 0.22. Specify a solver to silence this warning.\n",
      "  FutureWarning)\n",
      "/Users/jaime.mishima/miniconda3/lib/python3.7/site-packages/sklearn/linear_model/logistic.py:432: FutureWarning: Default solver will be changed to 'lbfgs' in 0.22. Specify a solver to silence this warning.\n",
      "  FutureWarning)\n",
      "/Users/jaime.mishima/miniconda3/lib/python3.7/site-packages/sklearn/linear_model/logistic.py:432: FutureWarning: Default solver will be changed to 'lbfgs' in 0.22. Specify a solver to silence this warning.\n",
      "  FutureWarning)\n",
      "/Users/jaime.mishima/miniconda3/lib/python3.7/site-packages/sklearn/linear_model/logistic.py:432: FutureWarning: Default solver will be changed to 'lbfgs' in 0.22. Specify a solver to silence this warning.\n",
      "  FutureWarning)\n",
      "/Users/jaime.mishima/miniconda3/lib/python3.7/site-packages/sklearn/linear_model/logistic.py:432: FutureWarning: Default solver will be changed to 'lbfgs' in 0.22. Specify a solver to silence this warning.\n",
      "  FutureWarning)\n",
      "/Users/jaime.mishima/miniconda3/lib/python3.7/site-packages/sklearn/linear_model/logistic.py:432: FutureWarning: Default solver will be changed to 'lbfgs' in 0.22. Specify a solver to silence this warning.\n",
      "  FutureWarning)\n",
      "/Users/jaime.mishima/miniconda3/lib/python3.7/site-packages/sklearn/linear_model/logistic.py:432: FutureWarning: Default solver will be changed to 'lbfgs' in 0.22. Specify a solver to silence this warning.\n",
      "  FutureWarning)\n",
      "/Users/jaime.mishima/miniconda3/lib/python3.7/site-packages/sklearn/linear_model/logistic.py:432: FutureWarning: Default solver will be changed to 'lbfgs' in 0.22. Specify a solver to silence this warning.\n",
      "  FutureWarning)\n",
      "/Users/jaime.mishima/miniconda3/lib/python3.7/site-packages/sklearn/linear_model/logistic.py:432: FutureWarning: Default solver will be changed to 'lbfgs' in 0.22. Specify a solver to silence this warning.\n",
      "  FutureWarning)\n",
      "/Users/jaime.mishima/miniconda3/lib/python3.7/site-packages/sklearn/linear_model/logistic.py:432: FutureWarning: Default solver will be changed to 'lbfgs' in 0.22. Specify a solver to silence this warning.\n",
      "  FutureWarning)\n",
      "/Users/jaime.mishima/miniconda3/lib/python3.7/site-packages/sklearn/linear_model/logistic.py:432: FutureWarning: Default solver will be changed to 'lbfgs' in 0.22. Specify a solver to silence this warning.\n",
      "  FutureWarning)\n",
      "/Users/jaime.mishima/miniconda3/lib/python3.7/site-packages/sklearn/linear_model/logistic.py:432: FutureWarning: Default solver will be changed to 'lbfgs' in 0.22. Specify a solver to silence this warning.\n",
      "  FutureWarning)\n",
      "/Users/jaime.mishima/miniconda3/lib/python3.7/site-packages/sklearn/linear_model/logistic.py:432: FutureWarning: Default solver will be changed to 'lbfgs' in 0.22. Specify a solver to silence this warning.\n",
      "  FutureWarning)\n",
      "/Users/jaime.mishima/miniconda3/lib/python3.7/site-packages/sklearn/linear_model/logistic.py:432: FutureWarning: Default solver will be changed to 'lbfgs' in 0.22. Specify a solver to silence this warning.\n",
      "  FutureWarning)\n",
      "/Users/jaime.mishima/miniconda3/lib/python3.7/site-packages/sklearn/linear_model/logistic.py:432: FutureWarning: Default solver will be changed to 'lbfgs' in 0.22. Specify a solver to silence this warning.\n",
      "  FutureWarning)\n",
      "/Users/jaime.mishima/miniconda3/lib/python3.7/site-packages/sklearn/linear_model/logistic.py:432: FutureWarning: Default solver will be changed to 'lbfgs' in 0.22. Specify a solver to silence this warning.\n",
      "  FutureWarning)\n",
      "/Users/jaime.mishima/miniconda3/lib/python3.7/site-packages/sklearn/linear_model/logistic.py:432: FutureWarning: Default solver will be changed to 'lbfgs' in 0.22. Specify a solver to silence this warning.\n",
      "  FutureWarning)\n",
      "/Users/jaime.mishima/miniconda3/lib/python3.7/site-packages/sklearn/linear_model/logistic.py:432: FutureWarning: Default solver will be changed to 'lbfgs' in 0.22. Specify a solver to silence this warning.\n",
      "  FutureWarning)\n",
      "/Users/jaime.mishima/miniconda3/lib/python3.7/site-packages/sklearn/linear_model/logistic.py:432: FutureWarning: Default solver will be changed to 'lbfgs' in 0.22. Specify a solver to silence this warning.\n",
      "  FutureWarning)\n",
      "/Users/jaime.mishima/miniconda3/lib/python3.7/site-packages/sklearn/linear_model/logistic.py:432: FutureWarning: Default solver will be changed to 'lbfgs' in 0.22. Specify a solver to silence this warning.\n",
      "  FutureWarning)\n",
      "/Users/jaime.mishima/miniconda3/lib/python3.7/site-packages/sklearn/linear_model/logistic.py:432: FutureWarning: Default solver will be changed to 'lbfgs' in 0.22. Specify a solver to silence this warning.\n",
      "  FutureWarning)\n",
      "/Users/jaime.mishima/miniconda3/lib/python3.7/site-packages/sklearn/linear_model/logistic.py:432: FutureWarning: Default solver will be changed to 'lbfgs' in 0.22. Specify a solver to silence this warning.\n",
      "  FutureWarning)\n",
      "/Users/jaime.mishima/miniconda3/lib/python3.7/site-packages/sklearn/linear_model/logistic.py:432: FutureWarning: Default solver will be changed to 'lbfgs' in 0.22. Specify a solver to silence this warning.\n",
      "  FutureWarning)\n",
      "/Users/jaime.mishima/miniconda3/lib/python3.7/site-packages/sklearn/linear_model/logistic.py:432: FutureWarning: Default solver will be changed to 'lbfgs' in 0.22. Specify a solver to silence this warning.\n",
      "  FutureWarning)\n",
      "/Users/jaime.mishima/miniconda3/lib/python3.7/site-packages/sklearn/linear_model/logistic.py:432: FutureWarning: Default solver will be changed to 'lbfgs' in 0.22. Specify a solver to silence this warning.\n",
      "  FutureWarning)\n",
      "/Users/jaime.mishima/miniconda3/lib/python3.7/site-packages/sklearn/linear_model/logistic.py:432: FutureWarning: Default solver will be changed to 'lbfgs' in 0.22. Specify a solver to silence this warning.\n",
      "  FutureWarning)\n",
      "/Users/jaime.mishima/miniconda3/lib/python3.7/site-packages/sklearn/linear_model/logistic.py:432: FutureWarning: Default solver will be changed to 'lbfgs' in 0.22. Specify a solver to silence this warning.\n",
      "  FutureWarning)\n",
      "/Users/jaime.mishima/miniconda3/lib/python3.7/site-packages/sklearn/linear_model/logistic.py:432: FutureWarning: Default solver will be changed to 'lbfgs' in 0.22. Specify a solver to silence this warning.\n",
      "  FutureWarning)\n",
      "/Users/jaime.mishima/miniconda3/lib/python3.7/site-packages/sklearn/linear_model/logistic.py:432: FutureWarning: Default solver will be changed to 'lbfgs' in 0.22. Specify a solver to silence this warning.\n",
      "  FutureWarning)\n",
      "/Users/jaime.mishima/miniconda3/lib/python3.7/site-packages/sklearn/linear_model/logistic.py:432: FutureWarning: Default solver will be changed to 'lbfgs' in 0.22. Specify a solver to silence this warning.\n",
      "  FutureWarning)\n",
      "/Users/jaime.mishima/miniconda3/lib/python3.7/site-packages/sklearn/linear_model/logistic.py:432: FutureWarning: Default solver will be changed to 'lbfgs' in 0.22. Specify a solver to silence this warning.\n",
      "  FutureWarning)\n",
      "/Users/jaime.mishima/miniconda3/lib/python3.7/site-packages/sklearn/linear_model/logistic.py:432: FutureWarning: Default solver will be changed to 'lbfgs' in 0.22. Specify a solver to silence this warning.\n",
      "  FutureWarning)\n",
      "/Users/jaime.mishima/miniconda3/lib/python3.7/site-packages/sklearn/linear_model/logistic.py:432: FutureWarning: Default solver will be changed to 'lbfgs' in 0.22. Specify a solver to silence this warning.\n",
      "  FutureWarning)\n",
      "/Users/jaime.mishima/miniconda3/lib/python3.7/site-packages/sklearn/linear_model/logistic.py:432: FutureWarning: Default solver will be changed to 'lbfgs' in 0.22. Specify a solver to silence this warning.\n",
      "  FutureWarning)\n",
      "/Users/jaime.mishima/miniconda3/lib/python3.7/site-packages/sklearn/linear_model/logistic.py:432: FutureWarning: Default solver will be changed to 'lbfgs' in 0.22. Specify a solver to silence this warning.\n",
      "  FutureWarning)\n",
      "/Users/jaime.mishima/miniconda3/lib/python3.7/site-packages/sklearn/linear_model/logistic.py:432: FutureWarning: Default solver will be changed to 'lbfgs' in 0.22. Specify a solver to silence this warning.\n",
      "  FutureWarning)\n",
      "/Users/jaime.mishima/miniconda3/lib/python3.7/site-packages/sklearn/linear_model/logistic.py:432: FutureWarning: Default solver will be changed to 'lbfgs' in 0.22. Specify a solver to silence this warning.\n",
      "  FutureWarning)\n",
      "/Users/jaime.mishima/miniconda3/lib/python3.7/site-packages/sklearn/linear_model/logistic.py:432: FutureWarning: Default solver will be changed to 'lbfgs' in 0.22. Specify a solver to silence this warning.\n",
      "  FutureWarning)\n",
      "/Users/jaime.mishima/miniconda3/lib/python3.7/site-packages/sklearn/linear_model/logistic.py:432: FutureWarning: Default solver will be changed to 'lbfgs' in 0.22. Specify a solver to silence this warning.\n",
      "  FutureWarning)\n",
      "/Users/jaime.mishima/miniconda3/lib/python3.7/site-packages/sklearn/linear_model/logistic.py:432: FutureWarning: Default solver will be changed to 'lbfgs' in 0.22. Specify a solver to silence this warning.\n",
      "  FutureWarning)\n",
      "/Users/jaime.mishima/miniconda3/lib/python3.7/site-packages/sklearn/linear_model/logistic.py:432: FutureWarning: Default solver will be changed to 'lbfgs' in 0.22. Specify a solver to silence this warning.\n",
      "  FutureWarning)\n",
      "/Users/jaime.mishima/miniconda3/lib/python3.7/site-packages/sklearn/model_selection/_search.py:814: DeprecationWarning: The default of the `iid` parameter will change from True to False in version 0.22 and will be removed in 0.24. This will change numeric results when test-set sizes are unequal.\n",
      "  DeprecationWarning)\n",
      "/Users/jaime.mishima/miniconda3/lib/python3.7/site-packages/sklearn/linear_model/logistic.py:432: FutureWarning: Default solver will be changed to 'lbfgs' in 0.22. Specify a solver to silence this warning.\n",
      "  FutureWarning)\n"
     ]
    },
    {
     "data": {
      "text/plain": [
       "GridSearchCV(cv=10, error_score='raise-deprecating',\n",
       "             estimator=LogisticRegression(C=1.0, class_weight=None, dual=False,\n",
       "                                          fit_intercept=True,\n",
       "                                          intercept_scaling=1, l1_ratio=None,\n",
       "                                          max_iter=100, multi_class='warn',\n",
       "                                          n_jobs=None, penalty='l2',\n",
       "                                          random_state=42, solver='warn',\n",
       "                                          tol=0.0001, verbose=0,\n",
       "                                          warm_start=False),\n",
       "             iid='warn', n_jobs=None,\n",
       "             param_grid={'C': array([1.e-03, 1.e-02, 1.e-01, 1.e+00, 1.e+01, 1.e+02, 1.e+03]),\n",
       "                         'penalty': ['l1', 'l2']},\n",
       "             pre_dispatch='2*n_jobs', refit=True, return_train_score=False,\n",
       "             scoring=None, verbose=0)"
      ]
     },
     "execution_count": 342,
     "metadata": {},
     "output_type": "execute_result"
    }
   ],
   "source": [
    "grid_RL = GridSearchCV(RL, \n",
    "                  hyperparameters, \n",
    "                  cv=10,\n",
    "                  verbose=0)\n",
    "grid_RL.fit(x_treino, y_treino)"
   ]
  },
  {
   "cell_type": "code",
   "execution_count": 343,
   "metadata": {},
   "outputs": [
    {
     "data": {
      "text/plain": [
       "{'C': 1.0, 'penalty': 'l1'}"
      ]
     },
     "execution_count": 343,
     "metadata": {},
     "output_type": "execute_result"
    }
   ],
   "source": [
    "grid_RL.best_params_"
   ]
  },
  {
   "cell_type": "markdown",
   "metadata": {},
   "source": [
    "Passo os melhores parametros do Gridsearch como argumentos na LogisticRegression():"
   ]
  },
  {
   "cell_type": "code",
   "execution_count": 344,
   "metadata": {},
   "outputs": [],
   "source": [
    "RL = LogisticRegression(**grid_RL.best_params_, random_state=42)"
   ]
  },
  {
   "cell_type": "markdown",
   "metadata": {},
   "source": [
    "**Cross Validation** com o melhor modelo dado pelo GridSearch acima:"
   ]
  },
  {
   "cell_type": "code",
   "execution_count": 345,
   "metadata": {
    "collapsed": true
   },
   "outputs": [
    {
     "name": "stderr",
     "output_type": "stream",
     "text": [
      "/Users/jaime.mishima/miniconda3/lib/python3.7/site-packages/sklearn/linear_model/logistic.py:432: FutureWarning: Default solver will be changed to 'lbfgs' in 0.22. Specify a solver to silence this warning.\n",
      "  FutureWarning)\n",
      "/Users/jaime.mishima/miniconda3/lib/python3.7/site-packages/sklearn/linear_model/logistic.py:432: FutureWarning: Default solver will be changed to 'lbfgs' in 0.22. Specify a solver to silence this warning.\n",
      "  FutureWarning)\n",
      "/Users/jaime.mishima/miniconda3/lib/python3.7/site-packages/sklearn/linear_model/logistic.py:432: FutureWarning: Default solver will be changed to 'lbfgs' in 0.22. Specify a solver to silence this warning.\n",
      "  FutureWarning)\n",
      "/Users/jaime.mishima/miniconda3/lib/python3.7/site-packages/sklearn/linear_model/logistic.py:432: FutureWarning: Default solver will be changed to 'lbfgs' in 0.22. Specify a solver to silence this warning.\n",
      "  FutureWarning)\n",
      "/Users/jaime.mishima/miniconda3/lib/python3.7/site-packages/sklearn/linear_model/logistic.py:432: FutureWarning: Default solver will be changed to 'lbfgs' in 0.22. Specify a solver to silence this warning.\n",
      "  FutureWarning)\n",
      "/Users/jaime.mishima/miniconda3/lib/python3.7/site-packages/sklearn/linear_model/logistic.py:432: FutureWarning: Default solver will be changed to 'lbfgs' in 0.22. Specify a solver to silence this warning.\n",
      "  FutureWarning)\n",
      "/Users/jaime.mishima/miniconda3/lib/python3.7/site-packages/sklearn/linear_model/logistic.py:432: FutureWarning: Default solver will be changed to 'lbfgs' in 0.22. Specify a solver to silence this warning.\n",
      "  FutureWarning)\n",
      "/Users/jaime.mishima/miniconda3/lib/python3.7/site-packages/sklearn/linear_model/logistic.py:432: FutureWarning: Default solver will be changed to 'lbfgs' in 0.22. Specify a solver to silence this warning.\n",
      "  FutureWarning)\n",
      "/Users/jaime.mishima/miniconda3/lib/python3.7/site-packages/sklearn/linear_model/logistic.py:432: FutureWarning: Default solver will be changed to 'lbfgs' in 0.22. Specify a solver to silence this warning.\n",
      "  FutureWarning)\n",
      "/Users/jaime.mishima/miniconda3/lib/python3.7/site-packages/sklearn/linear_model/logistic.py:432: FutureWarning: Default solver will be changed to 'lbfgs' in 0.22. Specify a solver to silence this warning.\n",
      "  FutureWarning)\n",
      "/Users/jaime.mishima/miniconda3/lib/python3.7/site-packages/sklearn/linear_model/logistic.py:432: FutureWarning: Default solver will be changed to 'lbfgs' in 0.22. Specify a solver to silence this warning.\n",
      "  FutureWarning)\n",
      "/Users/jaime.mishima/miniconda3/lib/python3.7/site-packages/sklearn/linear_model/logistic.py:432: FutureWarning: Default solver will be changed to 'lbfgs' in 0.22. Specify a solver to silence this warning.\n",
      "  FutureWarning)\n",
      "/Users/jaime.mishima/miniconda3/lib/python3.7/site-packages/sklearn/linear_model/logistic.py:432: FutureWarning: Default solver will be changed to 'lbfgs' in 0.22. Specify a solver to silence this warning.\n",
      "  FutureWarning)\n",
      "/Users/jaime.mishima/miniconda3/lib/python3.7/site-packages/sklearn/linear_model/logistic.py:432: FutureWarning: Default solver will be changed to 'lbfgs' in 0.22. Specify a solver to silence this warning.\n",
      "  FutureWarning)\n",
      "/Users/jaime.mishima/miniconda3/lib/python3.7/site-packages/sklearn/linear_model/logistic.py:432: FutureWarning: Default solver will be changed to 'lbfgs' in 0.22. Specify a solver to silence this warning.\n",
      "  FutureWarning)\n",
      "/Users/jaime.mishima/miniconda3/lib/python3.7/site-packages/sklearn/linear_model/logistic.py:432: FutureWarning: Default solver will be changed to 'lbfgs' in 0.22. Specify a solver to silence this warning.\n",
      "  FutureWarning)\n",
      "/Users/jaime.mishima/miniconda3/lib/python3.7/site-packages/sklearn/linear_model/logistic.py:432: FutureWarning: Default solver will be changed to 'lbfgs' in 0.22. Specify a solver to silence this warning.\n",
      "  FutureWarning)\n",
      "/Users/jaime.mishima/miniconda3/lib/python3.7/site-packages/sklearn/linear_model/logistic.py:432: FutureWarning: Default solver will be changed to 'lbfgs' in 0.22. Specify a solver to silence this warning.\n",
      "  FutureWarning)\n",
      "/Users/jaime.mishima/miniconda3/lib/python3.7/site-packages/sklearn/linear_model/logistic.py:432: FutureWarning: Default solver will be changed to 'lbfgs' in 0.22. Specify a solver to silence this warning.\n",
      "  FutureWarning)\n",
      "/Users/jaime.mishima/miniconda3/lib/python3.7/site-packages/sklearn/linear_model/logistic.py:432: FutureWarning: Default solver will be changed to 'lbfgs' in 0.22. Specify a solver to silence this warning.\n",
      "  FutureWarning)\n"
     ]
    }
   ],
   "source": [
    "from sklearn.model_selection import cross_val_score\n",
    "acuracias_RL_treino = cross_val_score(estimator=RL,\n",
    "                            X = x_treino,\n",
    "                            y = y_treino,\n",
    "                            cv=10)\n",
    "\n",
    "acuracias_RL_teste = cross_val_score(estimator=RL,\n",
    "                            X = x_teste,\n",
    "                            y = y_teste,\n",
    "                            cv=10)"
   ]
  },
  {
   "cell_type": "code",
   "execution_count": 346,
   "metadata": {},
   "outputs": [
    {
     "name": "stdout",
     "output_type": "stream",
     "text": [
      "REGRESSAO LOGISTICA - Acuracia de Treino: 89.33\n",
      "REGRESSAO LOGISTICA - Acuracia de Teste: 87.96\n"
     ]
    }
   ],
   "source": [
    "print('REGRESSAO LOGISTICA - Acuracia de Treino:',round(acuracias_RL_treino.mean()*100,2))\n",
    "print('REGRESSAO LOGISTICA - Acuracia de Teste:',round(acuracias_RL_teste.mean()*100,2))"
   ]
  },
  {
   "cell_type": "markdown",
   "metadata": {},
   "source": [
    "### 6.1.2 Random Forest"
   ]
  },
  {
   "cell_type": "markdown",
   "metadata": {},
   "source": [
    "Dicionário de hyperparâmetros para o **GridSearch** da Random Forest"
   ]
  },
  {
   "cell_type": "code",
   "execution_count": 347,
   "metadata": {},
   "outputs": [],
   "source": [
    "from sklearn.ensemble import RandomForestClassifier\n",
    "\n",
    "parametros_grid = {\n",
    "    'n_estimators':[10,20,50,100,200,500],\n",
    "    'criterion':['gini', 'entropy'],\n",
    "    'bootstrap':[True, False]\n",
    "}\n",
    "\n",
    "RF = RandomForestClassifier(random_state=123)"
   ]
  },
  {
   "cell_type": "code",
   "execution_count": 348,
   "metadata": {
    "collapsed": true
   },
   "outputs": [
    {
     "data": {
      "text/plain": [
       "GridSearchCV(cv=5, error_score='raise-deprecating',\n",
       "             estimator=RandomForestClassifier(bootstrap=True, class_weight=None,\n",
       "                                              criterion='gini', max_depth=None,\n",
       "                                              max_features='auto',\n",
       "                                              max_leaf_nodes=None,\n",
       "                                              min_impurity_decrease=0.0,\n",
       "                                              min_impurity_split=None,\n",
       "                                              min_samples_leaf=1,\n",
       "                                              min_samples_split=2,\n",
       "                                              min_weight_fraction_leaf=0.0,\n",
       "                                              n_estimators='warn', n_jobs=None,\n",
       "                                              oob_score=False, random_state=123,\n",
       "                                              verbose=0, warm_start=False),\n",
       "             iid='warn', n_jobs=None,\n",
       "             param_grid={'bootstrap': [True, False],\n",
       "                         'criterion': ['gini', 'entropy'],\n",
       "                         'n_estimators': [10, 20, 50, 100, 200, 500]},\n",
       "             pre_dispatch='2*n_jobs', refit=True, return_train_score=False,\n",
       "             scoring='accuracy', verbose=0)"
      ]
     },
     "execution_count": 348,
     "metadata": {},
     "output_type": "execute_result"
    }
   ],
   "source": [
    "from sklearn.model_selection import GridSearchCV\n",
    "\n",
    "grid_RF = GridSearchCV(estimator=RF,\n",
    "                    param_grid=parametros_grid,\n",
    "                    scoring='accuracy',\n",
    "                    cv=5)\n",
    "grid_RF.fit(x_treino, y_treino)"
   ]
  },
  {
   "cell_type": "code",
   "execution_count": 302,
   "metadata": {},
   "outputs": [
    {
     "data": {
      "text/plain": [
       "{'bootstrap': True, 'criterion': 'gini', 'n_estimators': 100}"
      ]
     },
     "execution_count": 302,
     "metadata": {},
     "output_type": "execute_result"
    }
   ],
   "source": [
    "grid_RF.best_params_"
   ]
  },
  {
   "cell_type": "code",
   "execution_count": 349,
   "metadata": {},
   "outputs": [
    {
     "data": {
      "text/plain": [
       "0.9267707082833133"
      ]
     },
     "execution_count": 349,
     "metadata": {},
     "output_type": "execute_result"
    }
   ],
   "source": [
    "grid_RF.best_score_"
   ]
  },
  {
   "cell_type": "markdown",
   "metadata": {},
   "source": [
    "Passo os melhores parâmetros do Gridsearch como argumentos na RandomForestClassifier():"
   ]
  },
  {
   "cell_type": "code",
   "execution_count": 350,
   "metadata": {},
   "outputs": [
    {
     "data": {
      "text/plain": [
       "RandomForestClassifier(bootstrap=True, class_weight=None, criterion='entropy',\n",
       "                       max_depth=None, max_features='auto', max_leaf_nodes=None,\n",
       "                       min_impurity_decrease=0.0, min_impurity_split=None,\n",
       "                       min_samples_leaf=1, min_samples_split=2,\n",
       "                       min_weight_fraction_leaf=0.0, n_estimators=500,\n",
       "                       n_jobs=None, oob_score=False, random_state=42, verbose=0,\n",
       "                       warm_start=False)"
      ]
     },
     "execution_count": 350,
     "metadata": {},
     "output_type": "execute_result"
    }
   ],
   "source": [
    "RF = RandomForestClassifier(**grid_RF.best_params_, random_state=42)\n",
    "RF.fit(x_treino, y_treino)"
   ]
  },
  {
   "cell_type": "markdown",
   "metadata": {},
   "source": [
    "**Cross Validation** com o melhor modelo dado pelo GridSearch acima:"
   ]
  },
  {
   "cell_type": "code",
   "execution_count": 351,
   "metadata": {},
   "outputs": [],
   "source": [
    "from sklearn.model_selection import cross_val_score\n",
    "acuracias_RF_treino = cross_val_score(estimator=RF,\n",
    "                            X = x_treino,\n",
    "                            y = y_treino,\n",
    "                            cv=10)\n",
    "\n",
    "acuracias_RF_teste = cross_val_score(estimator=RF,\n",
    "                            X = x_teste,\n",
    "                            y = y_teste,\n",
    "                            cv=10)"
   ]
  },
  {
   "cell_type": "code",
   "execution_count": 352,
   "metadata": {},
   "outputs": [
    {
     "name": "stdout",
     "output_type": "stream",
     "text": [
      "RANDOM FOREST - Acuracia de Treino: 92.45\n",
      "RANDOM FOREST - Acuracia de Teste: 92.19\n"
     ]
    }
   ],
   "source": [
    "print('RANDOM FOREST - Acuracia de Treino:',round(acuracias_RF_treino.mean()*100,2))\n",
    "print('RANDOM FOREST - Acuracia de Teste:',round(acuracias_RF_teste.mean()*100,2))"
   ]
  },
  {
   "cell_type": "markdown",
   "metadata": {},
   "source": [
    "### 6.1.3 Gradient Boosting"
   ]
  },
  {
   "cell_type": "code",
   "execution_count": 353,
   "metadata": {},
   "outputs": [],
   "source": [
    "from sklearn.ensemble import GradientBoostingClassifier\n",
    "\n",
    "GB = GradientBoostingClassifier(random_state=42)"
   ]
  },
  {
   "cell_type": "markdown",
   "metadata": {},
   "source": [
    "Dicionário de hyperparâmetros para o **GridSearch** do Gradient Boosting"
   ]
  },
  {
   "cell_type": "code",
   "execution_count": 354,
   "metadata": {},
   "outputs": [],
   "source": [
    "parametros_gb = {'min_samples_split': [0.1, 0.5, 1.0, 3, 5],\n",
    "                 'min_samples_leaf': [0.1, 0.5, 1, 3, 5],\n",
    "                 'max_depth': [2,3,5,10],\n",
    "                 'n_estimators':[2,5,10,15]}"
   ]
  },
  {
   "cell_type": "code",
   "execution_count": 355,
   "metadata": {
    "collapsed": true
   },
   "outputs": [
    {
     "data": {
      "text/plain": [
       "GridSearchCV(cv=5, error_score='raise-deprecating',\n",
       "             estimator=GradientBoostingClassifier(criterion='friedman_mse',\n",
       "                                                  init=None, learning_rate=0.1,\n",
       "                                                  loss='deviance', max_depth=3,\n",
       "                                                  max_features=None,\n",
       "                                                  max_leaf_nodes=None,\n",
       "                                                  min_impurity_decrease=0.0,\n",
       "                                                  min_impurity_split=None,\n",
       "                                                  min_samples_leaf=1,\n",
       "                                                  min_samples_split=2,\n",
       "                                                  min_weight_fraction_leaf=0.0,\n",
       "                                                  n_estimators=100,\n",
       "                                                  n_iter_no...e,\n",
       "                                                  presort='auto',\n",
       "                                                  random_state=42,\n",
       "                                                  subsample=1.0, tol=0.0001,\n",
       "                                                  validation_fraction=0.1,\n",
       "                                                  verbose=0, warm_start=False),\n",
       "             iid='warn', n_jobs=-1,\n",
       "             param_grid={'max_depth': [2, 3, 5, 10],\n",
       "                         'min_samples_leaf': [0.1, 0.5, 1, 3, 5],\n",
       "                         'min_samples_split': [0.1, 0.5, 1.0, 3, 5],\n",
       "                         'n_estimators': [2, 5, 10, 15]},\n",
       "             pre_dispatch='2*n_jobs', refit=True, return_train_score=False,\n",
       "             scoring=None, verbose=0)"
      ]
     },
     "execution_count": 355,
     "metadata": {},
     "output_type": "execute_result"
    }
   ],
   "source": [
    "from sklearn.model_selection import GridSearchCV\n",
    "\n",
    "# assinatura do objeto\n",
    "grid_GB = GridSearchCV(estimator=GB,\n",
    "                       param_grid=parametros_gb,\n",
    "                       cv=5,\n",
    "                       n_jobs=-1) # tenta rodar em paralelo, se possível\n",
    "grid_GB.fit(x_treino, y_treino)"
   ]
  },
  {
   "cell_type": "code",
   "execution_count": 356,
   "metadata": {},
   "outputs": [
    {
     "data": {
      "text/plain": [
       "0.9339735894357744"
      ]
     },
     "execution_count": 356,
     "metadata": {},
     "output_type": "execute_result"
    }
   ],
   "source": [
    "grid_GB.best_score_"
   ]
  },
  {
   "cell_type": "code",
   "execution_count": 357,
   "metadata": {},
   "outputs": [
    {
     "data": {
      "text/plain": [
       "{'max_depth': 2,\n",
       " 'min_samples_leaf': 1,\n",
       " 'min_samples_split': 0.1,\n",
       " 'n_estimators': 5}"
      ]
     },
     "execution_count": 357,
     "metadata": {},
     "output_type": "execute_result"
    }
   ],
   "source": [
    "grid_GB.best_params_"
   ]
  },
  {
   "cell_type": "markdown",
   "metadata": {},
   "source": [
    "Passo os melhores parâmetros do Gridsearch como argumentos na RandomForestClassifier():"
   ]
  },
  {
   "cell_type": "code",
   "execution_count": 358,
   "metadata": {},
   "outputs": [
    {
     "data": {
      "text/plain": [
       "GradientBoostingClassifier(criterion='friedman_mse', init=None,\n",
       "                           learning_rate=0.1, loss='deviance', max_depth=2,\n",
       "                           max_features=None, max_leaf_nodes=None,\n",
       "                           min_impurity_decrease=0.0, min_impurity_split=None,\n",
       "                           min_samples_leaf=1, min_samples_split=0.1,\n",
       "                           min_weight_fraction_leaf=0.0, n_estimators=5,\n",
       "                           n_iter_no_change=None, presort='auto',\n",
       "                           random_state=42, subsample=1.0, tol=0.0001,\n",
       "                           validation_fraction=0.1, verbose=0,\n",
       "                           warm_start=False)"
      ]
     },
     "execution_count": 358,
     "metadata": {},
     "output_type": "execute_result"
    }
   ],
   "source": [
    "GB = GradientBoostingClassifier(**grid_GB.best_params_, random_state=42)\n",
    "GB.fit(x_treino, y_treino)"
   ]
  },
  {
   "cell_type": "markdown",
   "metadata": {},
   "source": [
    "**Cross Validation** com o melhor modelo dado pelo GridSearch acima:"
   ]
  },
  {
   "cell_type": "code",
   "execution_count": 359,
   "metadata": {},
   "outputs": [],
   "source": [
    "from sklearn.model_selection import cross_val_score\n",
    "acuracias_GB_treino = cross_val_score(estimator=GB,\n",
    "                            X = x_treino,\n",
    "                            y = y_treino,\n",
    "                            cv=5)\n",
    "\n",
    "acuracias_GB_teste = cross_val_score(estimator=GB,\n",
    "                            X = x_teste,\n",
    "                            y = y_teste,\n",
    "                            cv=5)"
   ]
  },
  {
   "cell_type": "code",
   "execution_count": 360,
   "metadata": {},
   "outputs": [
    {
     "name": "stdout",
     "output_type": "stream",
     "text": [
      "GRADIENT BOOSTING - Acuracia de Treino: 93.4\n",
      "GRADIENT BOOSTING - Acuracia de Teste: 92.73\n"
     ]
    }
   ],
   "source": [
    "print('GRADIENT BOOSTING - Acuracia de Treino:',round(acuracias_GB_treino.mean()*100,2))\n",
    "print('GRADIENT BOOSTING - Acuracia de Teste:',round(acuracias_GB_teste.mean()*100,2))"
   ]
  },
  {
   "cell_type": "markdown",
   "metadata": {},
   "source": [
    "### 6.1.4 Comparando Modelos"
   ]
  },
  {
   "cell_type": "code",
   "execution_count": 361,
   "metadata": {},
   "outputs": [],
   "source": [
    "modelos = pd.DataFrame({'Modelo': ['Regressao Logistica',\n",
    "                                   'Random Forest',\n",
    "                                   'Gradient Boosting'],\n",
    "                        'Acuracia_treino':[round(acuracias_RL_treino.mean()*100,2), \n",
    "                                           round(acuracias_RF_treino.mean()*100,2),\n",
    "                                           round(acuracias_GB_treino.mean()*100,2)],\n",
    "                        'Acuracia_teste':[round(acuracias_RL_teste.mean()*100,2), \n",
    "                                          round(acuracias_RF_teste.mean()*100,2),\n",
    "                                          round(acuracias_GB_teste.mean()*100,2)]\n",
    "                       })\n",
    "\n",
    "comparacao = modelos.sort_values(by='Acuracia_teste', ascending=False)\n",
    "comparacao = comparacao[['Modelo', 'Acuracia_treino', 'Acuracia_teste']]"
   ]
  },
  {
   "cell_type": "code",
   "execution_count": 362,
   "metadata": {},
   "outputs": [
    {
     "data": {
      "text/html": [
       "<div>\n",
       "<style scoped>\n",
       "    .dataframe tbody tr th:only-of-type {\n",
       "        vertical-align: middle;\n",
       "    }\n",
       "\n",
       "    .dataframe tbody tr th {\n",
       "        vertical-align: top;\n",
       "    }\n",
       "\n",
       "    .dataframe thead th {\n",
       "        text-align: right;\n",
       "    }\n",
       "</style>\n",
       "<table border=\"1\" class=\"dataframe\">\n",
       "  <thead>\n",
       "    <tr style=\"text-align: right;\">\n",
       "      <th></th>\n",
       "      <th>Modelo</th>\n",
       "      <th>Acuracia_treino</th>\n",
       "      <th>Acuracia_teste</th>\n",
       "    </tr>\n",
       "  </thead>\n",
       "  <tbody>\n",
       "    <tr>\n",
       "      <th>2</th>\n",
       "      <td>Gradient Boosting</td>\n",
       "      <td>93.40</td>\n",
       "      <td>92.73</td>\n",
       "    </tr>\n",
       "    <tr>\n",
       "      <th>1</th>\n",
       "      <td>Random Forest</td>\n",
       "      <td>92.45</td>\n",
       "      <td>92.19</td>\n",
       "    </tr>\n",
       "    <tr>\n",
       "      <th>0</th>\n",
       "      <td>Regressao Logistica</td>\n",
       "      <td>89.33</td>\n",
       "      <td>87.96</td>\n",
       "    </tr>\n",
       "  </tbody>\n",
       "</table>\n",
       "</div>"
      ],
      "text/plain": [
       "                Modelo  Acuracia_treino  Acuracia_teste\n",
       "2    Gradient Boosting            93.40           92.73\n",
       "1        Random Forest            92.45           92.19\n",
       "0  Regressao Logistica            89.33           87.96"
      ]
     },
     "execution_count": 362,
     "metadata": {},
     "output_type": "execute_result"
    }
   ],
   "source": [
    "comparacao"
   ]
  },
  {
   "cell_type": "markdown",
   "metadata": {},
   "source": [
    "## 7. Salvando Modelo"
   ]
  },
  {
   "cell_type": "markdown",
   "metadata": {},
   "source": [
    "Melhores estimadores do melhor modelo (com maior acurácia foi o Gradient Boosting):"
   ]
  },
  {
   "cell_type": "code",
   "execution_count": 364,
   "metadata": {},
   "outputs": [
    {
     "data": {
      "text/plain": [
       "GradientBoostingClassifier(criterion='friedman_mse', init=None,\n",
       "                           learning_rate=0.1, loss='deviance', max_depth=2,\n",
       "                           max_features=None, max_leaf_nodes=None,\n",
       "                           min_impurity_decrease=0.0, min_impurity_split=None,\n",
       "                           min_samples_leaf=1, min_samples_split=0.1,\n",
       "                           min_weight_fraction_leaf=0.0, n_estimators=5,\n",
       "                           n_iter_no_change=None, presort='auto',\n",
       "                           random_state=42, subsample=1.0, tol=0.0001,\n",
       "                           validation_fraction=0.1, verbose=0,\n",
       "                           warm_start=False)"
      ]
     },
     "execution_count": 364,
     "metadata": {},
     "output_type": "execute_result"
    }
   ],
   "source": [
    "grid_GB.best_estimator_"
   ]
  },
  {
   "cell_type": "code",
   "execution_count": 366,
   "metadata": {},
   "outputs": [
    {
     "data": {
      "text/plain": [
       "['modelo_gb_cartao.pkl']"
      ]
     },
     "execution_count": 366,
     "metadata": {},
     "output_type": "execute_result"
    }
   ],
   "source": [
    "from sklearn.externals import joblib\n",
    "\n",
    "joblib.dump(grid_GB.best_estimator_, 'modelo_gb_cartao.pkl', compress = 1)"
   ]
  },
  {
   "cell_type": "markdown",
   "metadata": {},
   "source": [
    "## 8. Recuperando Modelo Salvo"
   ]
  },
  {
   "cell_type": "code",
   "execution_count": 367,
   "metadata": {},
   "outputs": [],
   "source": [
    "modelo_treinado = open('modelo_gb_cartao.pkl', 'rb')\n",
    "model = joblib.load(modelo_treinado)"
   ]
  },
  {
   "cell_type": "code",
   "execution_count": 368,
   "metadata": {},
   "outputs": [
    {
     "data": {
      "text/plain": [
       "array([0, 1, 1, 1, 0, 0, 0, 1, 0, 0, 0, 0, 0, 0, 0, 1, 0, 0, 0, 1, 0, 0,\n",
       "       1, 0, 1, 1, 0, 0, 0, 0, 0, 0, 0, 0, 0, 0, 1, 0, 1, 0, 1, 0, 0, 0,\n",
       "       0, 0, 0, 0, 0, 0, 0, 0, 0, 0, 0, 0, 0, 0, 0, 0, 0, 1, 1, 0, 0, 0,\n",
       "       0, 0, 0, 0, 0, 0, 0, 0, 0, 0, 0, 0, 0, 0, 1, 0, 1, 1, 1, 1, 0, 0,\n",
       "       0, 0, 1, 1, 0, 1, 0, 1, 1, 0, 0, 0, 0, 0, 0, 0, 1, 1, 0, 0, 1, 0,\n",
       "       0, 0, 0, 0, 0, 0, 0, 0, 1, 0, 0, 0, 0, 0, 0, 0, 1, 0, 0, 0, 1, 0,\n",
       "       0, 0, 0, 0, 0, 0, 0, 0, 0, 0, 1, 0, 0, 0, 1, 0, 0, 0, 1, 0, 0, 0,\n",
       "       1, 0, 0, 0, 0, 0, 0, 1, 0, 1, 0, 0, 1, 1, 0, 0, 0, 0, 0, 0, 0, 0,\n",
       "       0, 1, 0, 0, 0, 1, 0, 0, 0, 0, 0, 0, 0, 0, 0, 0, 0, 0, 0, 0, 0, 0,\n",
       "       0, 0, 0, 0, 0, 0, 0, 0, 0, 0, 0, 0, 0, 0, 0, 0, 0, 1, 0, 0, 0, 0,\n",
       "       0, 0, 0, 0, 0, 1, 0, 0, 0, 0, 0, 0, 1, 0, 0, 0, 1, 0, 0, 1, 0, 0,\n",
       "       0, 0, 0, 0, 0, 1, 0, 1, 0, 1, 0, 0, 0, 1, 0, 0, 0, 0, 1, 0, 0, 0,\n",
       "       0, 0, 0, 1, 0, 0, 0, 1, 0, 0, 1, 0, 0, 0, 0, 0, 0, 0, 0, 0, 0, 1,\n",
       "       0, 0, 0, 0, 1, 0, 1, 1, 0, 0, 0, 0, 1, 0, 0, 1, 0, 0, 0, 1, 0, 0,\n",
       "       0, 0, 0, 0, 0, 0, 0, 0, 0, 0, 1, 0, 1, 0, 1, 1, 0, 0, 0, 0, 1, 0,\n",
       "       1, 0, 0, 0, 0, 0, 0, 0, 0, 0, 0, 0, 1, 1, 0, 0, 0, 0, 0, 0, 0, 0,\n",
       "       1, 1, 0, 0, 0, 1])"
      ]
     },
     "execution_count": 368,
     "metadata": {},
     "output_type": "execute_result"
    }
   ],
   "source": [
    "model.predict(x_teste)"
   ]
  },
  {
   "cell_type": "code",
   "execution_count": 369,
   "metadata": {
    "collapsed": true
   },
   "outputs": [
    {
     "data": {
      "text/plain": [
       "array([0.17770197, 0.56229525, 0.56229525, 0.56229525, 0.17770197,\n",
       "       0.17770197, 0.17770197, 0.56229525, 0.17770197, 0.17770197,\n",
       "       0.17770197, 0.17770197, 0.17770197, 0.17770197, 0.17770197,\n",
       "       0.56229525, 0.17770197, 0.17770197, 0.17770197, 0.56229525,\n",
       "       0.17770197, 0.17770197, 0.56229525, 0.17770197, 0.56229525,\n",
       "       0.56229525, 0.17770197, 0.17770197, 0.17770197, 0.17770197,\n",
       "       0.17770197, 0.17770197, 0.17770197, 0.17770197, 0.17770197,\n",
       "       0.17770197, 0.56229525, 0.17770197, 0.56229525, 0.17770197,\n",
       "       0.56229525, 0.17770197, 0.17770197, 0.17770197, 0.17770197,\n",
       "       0.17770197, 0.17770197, 0.17770197, 0.17770197, 0.17770197,\n",
       "       0.17770197, 0.17770197, 0.17770197, 0.17770197, 0.17770197,\n",
       "       0.17770197, 0.17770197, 0.17770197, 0.17770197, 0.17770197,\n",
       "       0.17770197, 0.56229525, 0.56229525, 0.17770197, 0.17770197,\n",
       "       0.17770197, 0.17770197, 0.17770197, 0.17770197, 0.17770197,\n",
       "       0.17770197, 0.17770197, 0.17770197, 0.17770197, 0.17770197,\n",
       "       0.17770197, 0.17770197, 0.17770197, 0.17770197, 0.17770197,\n",
       "       0.56229525, 0.17770197, 0.56229525, 0.56229525, 0.56229525,\n",
       "       0.56229525, 0.17770197, 0.17770197, 0.17770197, 0.17770197,\n",
       "       0.56229525, 0.56229525, 0.17770197, 0.56229525, 0.17770197,\n",
       "       0.56229525, 0.56229525, 0.17770197, 0.17770197, 0.17770197,\n",
       "       0.17770197, 0.17770197, 0.17770197, 0.17770197, 0.56229525,\n",
       "       0.56229525, 0.17770197, 0.17770197, 0.56229525, 0.17770197,\n",
       "       0.17770197, 0.17770197, 0.17770197, 0.17770197, 0.17770197,\n",
       "       0.17770197, 0.17770197, 0.17770197, 0.56229525, 0.17770197,\n",
       "       0.17770197, 0.17770197, 0.17770197, 0.17770197, 0.17770197,\n",
       "       0.17770197, 0.56229525, 0.17770197, 0.17770197, 0.17770197,\n",
       "       0.56229525, 0.17770197, 0.17770197, 0.17770197, 0.17770197,\n",
       "       0.17770197, 0.17770197, 0.17770197, 0.17770197, 0.17770197,\n",
       "       0.17770197, 0.17770197, 0.56229525, 0.17770197, 0.17770197,\n",
       "       0.17770197, 0.56229525, 0.17770197, 0.17770197, 0.17770197,\n",
       "       0.56229525, 0.17770197, 0.17770197, 0.17770197, 0.56229525,\n",
       "       0.17770197, 0.17770197, 0.17770197, 0.17770197, 0.17770197,\n",
       "       0.17770197, 0.56229525, 0.17770197, 0.56229525, 0.17770197,\n",
       "       0.17770197, 0.56229525, 0.56229525, 0.17770197, 0.17770197,\n",
       "       0.17770197, 0.17770197, 0.17770197, 0.17770197, 0.17770197,\n",
       "       0.17770197, 0.17770197, 0.56229525, 0.17770197, 0.17770197,\n",
       "       0.17770197, 0.56229525, 0.17770197, 0.17770197, 0.17770197,\n",
       "       0.17770197, 0.17770197, 0.17770197, 0.17770197, 0.17770197,\n",
       "       0.17770197, 0.17770197, 0.17770197, 0.17770197, 0.17770197,\n",
       "       0.17770197, 0.17770197, 0.17770197, 0.17770197, 0.17770197,\n",
       "       0.17770197, 0.17770197, 0.17770197, 0.17770197, 0.17770197,\n",
       "       0.17770197, 0.17770197, 0.17770197, 0.17770197, 0.17770197,\n",
       "       0.17770197, 0.17770197, 0.17770197, 0.17770197, 0.17770197,\n",
       "       0.56229525, 0.17770197, 0.17770197, 0.17770197, 0.17770197,\n",
       "       0.17770197, 0.17770197, 0.17770197, 0.17770197, 0.17770197,\n",
       "       0.56229525, 0.17770197, 0.17770197, 0.17770197, 0.17770197,\n",
       "       0.17770197, 0.17770197, 0.56229525, 0.17770197, 0.17770197,\n",
       "       0.17770197, 0.56229525, 0.17770197, 0.17770197, 0.56229525,\n",
       "       0.17770197, 0.17770197, 0.17770197, 0.17770197, 0.17770197,\n",
       "       0.17770197, 0.17770197, 0.56229525, 0.17770197, 0.56229525,\n",
       "       0.17770197, 0.56229525, 0.17770197, 0.17770197, 0.17770197,\n",
       "       0.56229525, 0.17770197, 0.17770197, 0.17770197, 0.17770197,\n",
       "       0.56229525, 0.17770197, 0.17770197, 0.17770197, 0.17770197,\n",
       "       0.17770197, 0.17770197, 0.56229525, 0.17770197, 0.17770197,\n",
       "       0.17770197, 0.56229525, 0.17770197, 0.17770197, 0.56229525,\n",
       "       0.17770197, 0.17770197, 0.17770197, 0.17770197, 0.17770197,\n",
       "       0.17770197, 0.17770197, 0.17770197, 0.17770197, 0.17770197,\n",
       "       0.56229525, 0.17770197, 0.17770197, 0.17770197, 0.17770197,\n",
       "       0.56229525, 0.17770197, 0.56229525, 0.56229525, 0.17770197,\n",
       "       0.17770197, 0.17770197, 0.17770197, 0.56229525, 0.17770197,\n",
       "       0.17770197, 0.56229525, 0.17770197, 0.17770197, 0.17770197,\n",
       "       0.56229525, 0.17770197, 0.17770197, 0.17770197, 0.17770197,\n",
       "       0.17770197, 0.17770197, 0.17770197, 0.17770197, 0.17770197,\n",
       "       0.17770197, 0.17770197, 0.17770197, 0.56229525, 0.17770197,\n",
       "       0.56229525, 0.17770197, 0.56229525, 0.56229525, 0.17770197,\n",
       "       0.17770197, 0.17770197, 0.17770197, 0.56229525, 0.17770197,\n",
       "       0.56229525, 0.17770197, 0.17770197, 0.17770197, 0.17770197,\n",
       "       0.17770197, 0.17770197, 0.17770197, 0.17770197, 0.17770197,\n",
       "       0.17770197, 0.17770197, 0.56229525, 0.56229525, 0.17770197,\n",
       "       0.17770197, 0.17770197, 0.17770197, 0.17770197, 0.17770197,\n",
       "       0.17770197, 0.17770197, 0.56229525, 0.56229525, 0.17770197,\n",
       "       0.17770197, 0.17770197, 0.56229525])"
      ]
     },
     "execution_count": 369,
     "metadata": {},
     "output_type": "execute_result"
    }
   ],
   "source": [
    "model.predict_proba(x_teste)[:,1]"
   ]
  }
 ],
 "metadata": {
  "kernelspec": {
   "display_name": "Python 3",
   "language": "python",
   "name": "python3"
  },
  "language_info": {
   "codemirror_mode": {
    "name": "ipython",
    "version": 3
   },
   "file_extension": ".py",
   "mimetype": "text/x-python",
   "name": "python",
   "nbconvert_exporter": "python",
   "pygments_lexer": "ipython3",
   "version": "3.7.6"
  }
 },
 "nbformat": 4,
 "nbformat_minor": 2
}
